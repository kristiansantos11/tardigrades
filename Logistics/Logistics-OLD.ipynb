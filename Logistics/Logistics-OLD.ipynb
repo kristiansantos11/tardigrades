{
  "nbformat": 4,
  "nbformat_minor": 0,
  "metadata": {
    "colab": {
      "name": "Logistics.ipynb",
      "provenance": [],
      "collapsed_sections": [],
      "toc_visible": true
    },
    "kernelspec": {
      "name": "python3",
      "display_name": "Python 3"
    }
  },
  "cells": [
    {
      "cell_type": "code",
      "metadata": {
        "id": "9QM27TGcifL5",
        "colab_type": "code",
        "colab": {
          "base_uri": "https://localhost:8080/",
          "height": 88
        },
        "outputId": "aa0d081f-85bb-4705-e046-65db26f1d220"
      },
      "source": [
        "!gdown --id 1uV1Fw9QFUofRREiTqCalmq_pUL6R3TjG"
      ],
      "execution_count": null,
      "outputs": [
        {
          "output_type": "stream",
          "text": [
            "Downloading...\n",
            "From: https://drive.google.com/uc?id=1uV1Fw9QFUofRREiTqCalmq_pUL6R3TjG\n",
            "To: /content/Dataset.zip\n",
            "400MB [00:02, 159MB/s]\n"
          ],
          "name": "stdout"
        }
      ]
    },
    {
      "cell_type": "code",
      "metadata": {
        "id": "vEfpJMsejc_l",
        "colab_type": "code",
        "colab": {
          "base_uri": "https://localhost:8080/",
          "height": 70
        },
        "outputId": "48824655-19cb-491c-fefe-26c1c38c3ba7"
      },
      "source": [
        "!unzip Dataset.zip"
      ],
      "execution_count": null,
      "outputs": [
        {
          "output_type": "stream",
          "text": [
            "Archive:  Dataset.zip\n",
            "  inflating: SLA_matrix.xlsx         \n",
            "  inflating: delivery_orders_march.csv  \n"
          ],
          "name": "stdout"
        }
      ]
    },
    {
      "cell_type": "code",
      "metadata": {
        "id": "9HHcUqovlB7a",
        "colab_type": "code",
        "colab": {}
      },
      "source": [
        "import pandas as pd\n",
        "import numpy as np"
      ],
      "execution_count": 5,
      "outputs": []
    },
    {
      "cell_type": "code",
      "metadata": {
        "id": "5EG0hU4glLeD",
        "colab_type": "code",
        "colab": {}
      },
      "source": [
        "delivery_df = pd.read_csv('delivery_orders_march.csv')"
      ],
      "execution_count": 6,
      "outputs": []
    },
    {
      "cell_type": "code",
      "metadata": {
        "id": "RHaSsQYXlQ0M",
        "colab_type": "code",
        "colab": {
          "base_uri": "https://localhost:8080/",
          "height": 34
        },
        "outputId": "0b33553c-9b4d-4c1f-ed26-d707acc78601"
      },
      "source": [
        "delivery_df.shape"
      ],
      "execution_count": null,
      "outputs": [
        {
          "output_type": "execute_result",
          "data": {
            "text/plain": [
              "(3176313, 6)"
            ]
          },
          "metadata": {
            "tags": []
          },
          "execution_count": 15
        }
      ]
    },
    {
      "cell_type": "code",
      "metadata": {
        "id": "L6-oXst48cnW",
        "colab_type": "code",
        "colab": {}
      },
      "source": [
        "#exclude_date = ['2020-03-01','2020-03-08', '2020-03-15', '2020-03-22', '2020-03-25', '2020-03-29', '2020-03-30', '2020-03-31']"
      ],
      "execution_count": null,
      "outputs": []
    },
    {
      "cell_type": "code",
      "metadata": {
        "id": "yf6q3AVsD84H",
        "colab_type": "code",
        "colab": {}
      },
      "source": [
        "#locations = [\"manila\", \"luzon\", \"visayas\", \"mindanao\"]"
      ],
      "execution_count": null,
      "outputs": []
    },
    {
      "cell_type": "code",
      "metadata": {
        "id": "QmgSSHdelVFg",
        "colab_type": "code",
        "colab": {
          "base_uri": "https://localhost:8080/",
          "height": 194
        },
        "outputId": "7caa8d98-93f1-4e6f-e815-81a41397a2cc"
      },
      "source": [
        "delivery_df.head(5)"
      ],
      "execution_count": 7,
      "outputs": [
        {
          "output_type": "execute_result",
          "data": {
            "text/html": [
              "<div>\n",
              "<style scoped>\n",
              "    .dataframe tbody tr th:only-of-type {\n",
              "        vertical-align: middle;\n",
              "    }\n",
              "\n",
              "    .dataframe tbody tr th {\n",
              "        vertical-align: top;\n",
              "    }\n",
              "\n",
              "    .dataframe thead th {\n",
              "        text-align: right;\n",
              "    }\n",
              "</style>\n",
              "<table border=\"1\" class=\"dataframe\">\n",
              "  <thead>\n",
              "    <tr style=\"text-align: right;\">\n",
              "      <th></th>\n",
              "      <th>orderid</th>\n",
              "      <th>pick</th>\n",
              "      <th>1st_deliver_attempt</th>\n",
              "      <th>2nd_deliver_attempt</th>\n",
              "      <th>buyeraddress</th>\n",
              "      <th>selleraddress</th>\n",
              "    </tr>\n",
              "  </thead>\n",
              "  <tbody>\n",
              "    <tr>\n",
              "      <th>0</th>\n",
              "      <td>2215676524</td>\n",
              "      <td>1583138397</td>\n",
              "      <td>1.583385e+09</td>\n",
              "      <td>NaN</td>\n",
              "      <td>Baging ldl BUENAVISTA,PATAG.CAGAYAN Buagsong,c...</td>\n",
              "      <td>Pantranco vill. 417 Warehouse# katipunan 532 (...</td>\n",
              "    </tr>\n",
              "    <tr>\n",
              "      <th>1</th>\n",
              "      <td>2219624609</td>\n",
              "      <td>1583309968</td>\n",
              "      <td>1.583463e+09</td>\n",
              "      <td>1.583799e+09</td>\n",
              "      <td>coloma's quzom CASANAS Site1 Masiyan 533A Stol...</td>\n",
              "      <td>BLDG 210A Moras C42B 2B16,168 church) Complex ...</td>\n",
              "    </tr>\n",
              "    <tr>\n",
              "      <th>2</th>\n",
              "      <td>2220979489</td>\n",
              "      <td>1583306434</td>\n",
              "      <td>1.583460e+09</td>\n",
              "      <td>NaN</td>\n",
              "      <td>21-O LumangDaan,Capitangan,Abucay,Bataan .Bign...</td>\n",
              "      <td>#66 150-C, DRIVE, Milagros Joe socorro Metro M...</td>\n",
              "    </tr>\n",
              "    <tr>\n",
              "      <th>3</th>\n",
              "      <td>2221066352</td>\n",
              "      <td>1583419016</td>\n",
              "      <td>1.583556e+09</td>\n",
              "      <td>NaN</td>\n",
              "      <td>616Espiritu MARTINVILLE,MANUYO #5paraiso kengi...</td>\n",
              "      <td>999maII 201,26 Villaruel Barretto gen.t number...</td>\n",
              "    </tr>\n",
              "    <tr>\n",
              "      <th>4</th>\n",
              "      <td>2222478803</td>\n",
              "      <td>1583318305</td>\n",
              "      <td>1.583480e+09</td>\n",
              "      <td>NaN</td>\n",
              "      <td>L042 Summerbreezee1 L2(Balanay analyn Lot760 C...</td>\n",
              "      <td>G66MANILA Hiyas Fitness MAYSILO magdiwang Lt.4...</td>\n",
              "    </tr>\n",
              "  </tbody>\n",
              "</table>\n",
              "</div>"
            ],
            "text/plain": [
              "      orderid  ...                                      selleraddress\n",
              "0  2215676524  ...  Pantranco vill. 417 Warehouse# katipunan 532 (...\n",
              "1  2219624609  ...  BLDG 210A Moras C42B 2B16,168 church) Complex ...\n",
              "2  2220979489  ...  #66 150-C, DRIVE, Milagros Joe socorro Metro M...\n",
              "3  2221066352  ...  999maII 201,26 Villaruel Barretto gen.t number...\n",
              "4  2222478803  ...  G66MANILA Hiyas Fitness MAYSILO magdiwang Lt.4...\n",
              "\n",
              "[5 rows x 6 columns]"
            ]
          },
          "metadata": {
            "tags": []
          },
          "execution_count": 7
        }
      ]
    },
    {
      "cell_type": "markdown",
      "metadata": {
        "id": "79SA7_fvu79Z",
        "colab_type": "text"
      },
      "source": [
        "# Cleaning the Data"
      ]
    },
    {
      "cell_type": "code",
      "metadata": {
        "id": "Tx5mVyVrt2y6",
        "colab_type": "code",
        "colab": {
          "base_uri": "https://localhost:8080/",
          "height": 70
        },
        "outputId": "db8c3cf1-77ed-403a-ad87-15692d69b049"
      },
      "source": [
        "delivery_df.columns"
      ],
      "execution_count": 8,
      "outputs": [
        {
          "output_type": "execute_result",
          "data": {
            "text/plain": [
              "Index(['orderid', 'pick', '1st_deliver_attempt', '2nd_deliver_attempt',\n",
              "       'buyeraddress', 'selleraddress'],\n",
              "      dtype='object')"
            ]
          },
          "metadata": {
            "tags": []
          },
          "execution_count": 8
        }
      ]
    },
    {
      "cell_type": "code",
      "metadata": {
        "id": "eMflcOzFt61Y",
        "colab_type": "code",
        "colab": {}
      },
      "source": [
        "delivery_df.columns = ['orderid', 'pick', 'deliver_attempt_1', 'deliver_attempt_2', 'buyeraddress', 'selleraddress']"
      ],
      "execution_count": 9,
      "outputs": []
    },
    {
      "cell_type": "code",
      "metadata": {
        "id": "gsgYKfdUlWqm",
        "colab_type": "code",
        "colab": {
          "base_uri": "https://localhost:8080/",
          "height": 401
        },
        "outputId": "794ebba3-3bd1-4d65-ee45-3ff316d4d658"
      },
      "source": [
        "delivery_df[['pick', 'deliver_attempt_1', 'deliver_attempt_2']]"
      ],
      "execution_count": 10,
      "outputs": [
        {
          "output_type": "execute_result",
          "data": {
            "text/html": [
              "<div>\n",
              "<style scoped>\n",
              "    .dataframe tbody tr th:only-of-type {\n",
              "        vertical-align: middle;\n",
              "    }\n",
              "\n",
              "    .dataframe tbody tr th {\n",
              "        vertical-align: top;\n",
              "    }\n",
              "\n",
              "    .dataframe thead th {\n",
              "        text-align: right;\n",
              "    }\n",
              "</style>\n",
              "<table border=\"1\" class=\"dataframe\">\n",
              "  <thead>\n",
              "    <tr style=\"text-align: right;\">\n",
              "      <th></th>\n",
              "      <th>pick</th>\n",
              "      <th>deliver_attempt_1</th>\n",
              "      <th>deliver_attempt_2</th>\n",
              "    </tr>\n",
              "  </thead>\n",
              "  <tbody>\n",
              "    <tr>\n",
              "      <th>0</th>\n",
              "      <td>1583138397</td>\n",
              "      <td>1.583385e+09</td>\n",
              "      <td>NaN</td>\n",
              "    </tr>\n",
              "    <tr>\n",
              "      <th>1</th>\n",
              "      <td>1583309968</td>\n",
              "      <td>1.583463e+09</td>\n",
              "      <td>1.583799e+09</td>\n",
              "    </tr>\n",
              "    <tr>\n",
              "      <th>2</th>\n",
              "      <td>1583306434</td>\n",
              "      <td>1.583460e+09</td>\n",
              "      <td>NaN</td>\n",
              "    </tr>\n",
              "    <tr>\n",
              "      <th>3</th>\n",
              "      <td>1583419016</td>\n",
              "      <td>1.583556e+09</td>\n",
              "      <td>NaN</td>\n",
              "    </tr>\n",
              "    <tr>\n",
              "      <th>4</th>\n",
              "      <td>1583318305</td>\n",
              "      <td>1.583480e+09</td>\n",
              "      <td>NaN</td>\n",
              "    </tr>\n",
              "    <tr>\n",
              "      <th>...</th>\n",
              "      <td>...</td>\n",
              "      <td>...</td>\n",
              "      <td>...</td>\n",
              "    </tr>\n",
              "    <tr>\n",
              "      <th>3176308</th>\n",
              "      <td>1585821728</td>\n",
              "      <td>1.585978e+09</td>\n",
              "      <td>NaN</td>\n",
              "    </tr>\n",
              "    <tr>\n",
              "      <th>3176309</th>\n",
              "      <td>1585895011</td>\n",
              "      <td>1.586179e+09</td>\n",
              "      <td>1.586232e+09</td>\n",
              "    </tr>\n",
              "    <tr>\n",
              "      <th>3176310</th>\n",
              "      <td>1585826951</td>\n",
              "      <td>1.585965e+09</td>\n",
              "      <td>NaN</td>\n",
              "    </tr>\n",
              "    <tr>\n",
              "      <th>3176311</th>\n",
              "      <td>1585891194</td>\n",
              "      <td>1.586230e+09</td>\n",
              "      <td>NaN</td>\n",
              "    </tr>\n",
              "    <tr>\n",
              "      <th>3176312</th>\n",
              "      <td>1585823923</td>\n",
              "      <td>1.586153e+09</td>\n",
              "      <td>1.586231e+09</td>\n",
              "    </tr>\n",
              "  </tbody>\n",
              "</table>\n",
              "<p>3176313 rows × 3 columns</p>\n",
              "</div>"
            ],
            "text/plain": [
              "               pick  deliver_attempt_1  deliver_attempt_2\n",
              "0        1583138397       1.583385e+09                NaN\n",
              "1        1583309968       1.583463e+09       1.583799e+09\n",
              "2        1583306434       1.583460e+09                NaN\n",
              "3        1583419016       1.583556e+09                NaN\n",
              "4        1583318305       1.583480e+09                NaN\n",
              "...             ...                ...                ...\n",
              "3176308  1585821728       1.585978e+09                NaN\n",
              "3176309  1585895011       1.586179e+09       1.586232e+09\n",
              "3176310  1585826951       1.585965e+09                NaN\n",
              "3176311  1585891194       1.586230e+09                NaN\n",
              "3176312  1585823923       1.586153e+09       1.586231e+09\n",
              "\n",
              "[3176313 rows x 3 columns]"
            ]
          },
          "metadata": {
            "tags": []
          },
          "execution_count": 10
        }
      ]
    },
    {
      "cell_type": "code",
      "metadata": {
        "id": "C0RA7gnFrHsb",
        "colab_type": "code",
        "colab": {}
      },
      "source": [
        "# Assuming that the dates provided by the dataset are in UNIX format\n",
        "\n",
        "def date_parser(date_sr: pd.core.series.Series) -> pd.core.series.Series:\n",
        "  date_sr = pd.to_datetime(date_sr, unit='s')\n",
        "  return date_sr"
      ],
      "execution_count": 11,
      "outputs": []
    },
    {
      "cell_type": "code",
      "metadata": {
        "id": "hqfUqWjtrhab",
        "colab_type": "code",
        "colab": {
          "base_uri": "https://localhost:8080/",
          "height": 194
        },
        "outputId": "c974cc10-c72d-45a2-9ad6-34de538689fd"
      },
      "source": [
        "delivery_df['pick'] = date_parser(delivery_df['pick'])\n",
        "delivery_df['deliver_attempt_1'] = date_parser(delivery_df['deliver_attempt_1'])\n",
        "delivery_df['deliver_attempt_2'] = date_parser(delivery_df['deliver_attempt_2'])\n",
        "delivery_df.head(5)"
      ],
      "execution_count": 12,
      "outputs": [
        {
          "output_type": "execute_result",
          "data": {
            "text/html": [
              "<div>\n",
              "<style scoped>\n",
              "    .dataframe tbody tr th:only-of-type {\n",
              "        vertical-align: middle;\n",
              "    }\n",
              "\n",
              "    .dataframe tbody tr th {\n",
              "        vertical-align: top;\n",
              "    }\n",
              "\n",
              "    .dataframe thead th {\n",
              "        text-align: right;\n",
              "    }\n",
              "</style>\n",
              "<table border=\"1\" class=\"dataframe\">\n",
              "  <thead>\n",
              "    <tr style=\"text-align: right;\">\n",
              "      <th></th>\n",
              "      <th>orderid</th>\n",
              "      <th>pick</th>\n",
              "      <th>deliver_attempt_1</th>\n",
              "      <th>deliver_attempt_2</th>\n",
              "      <th>buyeraddress</th>\n",
              "      <th>selleraddress</th>\n",
              "    </tr>\n",
              "  </thead>\n",
              "  <tbody>\n",
              "    <tr>\n",
              "      <th>0</th>\n",
              "      <td>2215676524</td>\n",
              "      <td>2020-03-02 08:39:57</td>\n",
              "      <td>2020-03-05 05:09:18</td>\n",
              "      <td>NaT</td>\n",
              "      <td>Baging ldl BUENAVISTA,PATAG.CAGAYAN Buagsong,c...</td>\n",
              "      <td>Pantranco vill. 417 Warehouse# katipunan 532 (...</td>\n",
              "    </tr>\n",
              "    <tr>\n",
              "      <th>1</th>\n",
              "      <td>2219624609</td>\n",
              "      <td>2020-03-04 08:19:28</td>\n",
              "      <td>2020-03-06 02:53:56</td>\n",
              "      <td>2020-03-10 00:02:56</td>\n",
              "      <td>coloma's quzom CASANAS Site1 Masiyan 533A Stol...</td>\n",
              "      <td>BLDG 210A Moras C42B 2B16,168 church) Complex ...</td>\n",
              "    </tr>\n",
              "    <tr>\n",
              "      <th>2</th>\n",
              "      <td>2220979489</td>\n",
              "      <td>2020-03-04 07:20:34</td>\n",
              "      <td>2020-03-06 01:56:19</td>\n",
              "      <td>NaT</td>\n",
              "      <td>21-O LumangDaan,Capitangan,Abucay,Bataan .Bign...</td>\n",
              "      <td>#66 150-C, DRIVE, Milagros Joe socorro Metro M...</td>\n",
              "    </tr>\n",
              "    <tr>\n",
              "      <th>3</th>\n",
              "      <td>2221066352</td>\n",
              "      <td>2020-03-05 14:36:56</td>\n",
              "      <td>2020-03-07 04:45:41</td>\n",
              "      <td>NaT</td>\n",
              "      <td>616Espiritu MARTINVILLE,MANUYO #5paraiso kengi...</td>\n",
              "      <td>999maII 201,26 Villaruel Barretto gen.t number...</td>\n",
              "    </tr>\n",
              "    <tr>\n",
              "      <th>4</th>\n",
              "      <td>2222478803</td>\n",
              "      <td>2020-03-04 10:38:25</td>\n",
              "      <td>2020-03-06 07:41:40</td>\n",
              "      <td>NaT</td>\n",
              "      <td>L042 Summerbreezee1 L2(Balanay analyn Lot760 C...</td>\n",
              "      <td>G66MANILA Hiyas Fitness MAYSILO magdiwang Lt.4...</td>\n",
              "    </tr>\n",
              "  </tbody>\n",
              "</table>\n",
              "</div>"
            ],
            "text/plain": [
              "      orderid  ...                                      selleraddress\n",
              "0  2215676524  ...  Pantranco vill. 417 Warehouse# katipunan 532 (...\n",
              "1  2219624609  ...  BLDG 210A Moras C42B 2B16,168 church) Complex ...\n",
              "2  2220979489  ...  #66 150-C, DRIVE, Milagros Joe socorro Metro M...\n",
              "3  2221066352  ...  999maII 201,26 Villaruel Barretto gen.t number...\n",
              "4  2222478803  ...  G66MANILA Hiyas Fitness MAYSILO magdiwang Lt.4...\n",
              "\n",
              "[5 rows x 6 columns]"
            ]
          },
          "metadata": {
            "tags": []
          },
          "execution_count": 12
        }
      ]
    },
    {
      "cell_type": "code",
      "metadata": {
        "id": "QX1VT23xvkI1",
        "colab_type": "code",
        "colab": {
          "base_uri": "https://localhost:8080/",
          "height": 34
        },
        "outputId": "5e2752b4-e92d-4d8b-f71d-77c6851206cd"
      },
      "source": [
        "# Check what datatype is NaT. This is useful for null value checking later.\n",
        "type(delivery_df['deliver_attempt_2'][0]) == pd._libs.tslibs.nattype.NaTType"
      ],
      "execution_count": 13,
      "outputs": [
        {
          "output_type": "execute_result",
          "data": {
            "text/plain": [
              "True"
            ]
          },
          "metadata": {
            "tags": []
          },
          "execution_count": 13
        }
      ]
    },
    {
      "cell_type": "code",
      "metadata": {
        "id": "3ZBcTunIyOWX",
        "colab_type": "code",
        "colab": {
          "base_uri": "https://localhost:8080/",
          "height": 34
        },
        "outputId": "aec359ca-4a12-4eb3-d587-ee4e6ff6ae04"
      },
      "source": [
        "type(delivery_df)"
      ],
      "execution_count": 14,
      "outputs": [
        {
          "output_type": "execute_result",
          "data": {
            "text/plain": [
              "pandas.core.frame.DataFrame"
            ]
          },
          "metadata": {
            "tags": []
          },
          "execution_count": 14
        }
      ]
    },
    {
      "cell_type": "code",
      "metadata": {
        "id": "wZiTu4AjxOKR",
        "colab_type": "code",
        "colab": {}
      },
      "source": [
        "# Assign the NaT datatype to nat\n",
        "nat = pd._libs.tslibs.nattype.NaTType"
      ],
      "execution_count": 15,
      "outputs": []
    },
    {
      "cell_type": "code",
      "metadata": {
        "id": "w-mNSL8osH8b",
        "colab_type": "code",
        "colab": {}
      },
      "source": [
        "def convert_SellerAddress(dB: pd.core.frame.DataFrame) -> pd.core.series.Series:\n",
        "\n",
        "    def returnFinalWord(adr: str) -> str:\n",
        "        proc_ad = adr.split()\n",
        "        return proc_ad[len(proc_ad)-1].lower()\n",
        "\n",
        "    address = pd.DataFrame()\n",
        "    address['raw_address'] = dB['selleraddress']\n",
        "    address['selleraddress'] = address['raw_address'].apply(lambda x: returnFinalWord(x))\n",
        "\n",
        "    return address['selleraddress']"
      ],
      "execution_count": 16,
      "outputs": []
    },
    {
      "cell_type": "code",
      "metadata": {
        "id": "66S0d4-ku7sO",
        "colab_type": "code",
        "colab": {}
      },
      "source": [
        "def convert_BuyerAddress(dB: pd.core.frame.DataFrame) -> pd.core.series.Series:\n",
        "\n",
        "    def returnFinalWord(adr: str) -> str:\n",
        "        proc_ad = adr.split()\n",
        "        return proc_ad[len(proc_ad)-1].lower()\n",
        "\n",
        "    address = pd.DataFrame()\n",
        "    address['raw_address'] = dB['buyeraddress']\n",
        "    address['buyeraddress'] = address['raw_address'].apply(lambda x: returnFinalWord(x))\n",
        "\n",
        "    return address['buyeraddress']"
      ],
      "execution_count": 17,
      "outputs": []
    },
    {
      "cell_type": "code",
      "metadata": {
        "id": "_95uRlSyvNKX",
        "colab_type": "code",
        "colab": {}
      },
      "source": [
        "delivery_df['buyeraddress'] = convert_BuyerAddress(delivery_df)\n",
        "delivery_df['selleraddress'] = convert_SellerAddress(delivery_df)"
      ],
      "execution_count": 18,
      "outputs": []
    },
    {
      "cell_type": "code",
      "metadata": {
        "id": "x_frE1K8u_08",
        "colab_type": "code",
        "colab": {
          "base_uri": "https://localhost:8080/",
          "height": 194
        },
        "outputId": "06de34c0-bf6f-4ec7-e479-5b4def0ff075"
      },
      "source": [
        "delivery_df.head()"
      ],
      "execution_count": 19,
      "outputs": [
        {
          "output_type": "execute_result",
          "data": {
            "text/html": [
              "<div>\n",
              "<style scoped>\n",
              "    .dataframe tbody tr th:only-of-type {\n",
              "        vertical-align: middle;\n",
              "    }\n",
              "\n",
              "    .dataframe tbody tr th {\n",
              "        vertical-align: top;\n",
              "    }\n",
              "\n",
              "    .dataframe thead th {\n",
              "        text-align: right;\n",
              "    }\n",
              "</style>\n",
              "<table border=\"1\" class=\"dataframe\">\n",
              "  <thead>\n",
              "    <tr style=\"text-align: right;\">\n",
              "      <th></th>\n",
              "      <th>orderid</th>\n",
              "      <th>pick</th>\n",
              "      <th>deliver_attempt_1</th>\n",
              "      <th>deliver_attempt_2</th>\n",
              "      <th>buyeraddress</th>\n",
              "      <th>selleraddress</th>\n",
              "    </tr>\n",
              "  </thead>\n",
              "  <tbody>\n",
              "    <tr>\n",
              "      <th>0</th>\n",
              "      <td>2215676524</td>\n",
              "      <td>2020-03-02 08:39:57</td>\n",
              "      <td>2020-03-05 05:09:18</td>\n",
              "      <td>NaT</td>\n",
              "      <td>manila</td>\n",
              "      <td>manila</td>\n",
              "    </tr>\n",
              "    <tr>\n",
              "      <th>1</th>\n",
              "      <td>2219624609</td>\n",
              "      <td>2020-03-04 08:19:28</td>\n",
              "      <td>2020-03-06 02:53:56</td>\n",
              "      <td>2020-03-10 00:02:56</td>\n",
              "      <td>manila</td>\n",
              "      <td>manila</td>\n",
              "    </tr>\n",
              "    <tr>\n",
              "      <th>2</th>\n",
              "      <td>2220979489</td>\n",
              "      <td>2020-03-04 07:20:34</td>\n",
              "      <td>2020-03-06 01:56:19</td>\n",
              "      <td>NaT</td>\n",
              "      <td>manila</td>\n",
              "      <td>manila</td>\n",
              "    </tr>\n",
              "    <tr>\n",
              "      <th>3</th>\n",
              "      <td>2221066352</td>\n",
              "      <td>2020-03-05 14:36:56</td>\n",
              "      <td>2020-03-07 04:45:41</td>\n",
              "      <td>NaT</td>\n",
              "      <td>manila</td>\n",
              "      <td>manila</td>\n",
              "    </tr>\n",
              "    <tr>\n",
              "      <th>4</th>\n",
              "      <td>2222478803</td>\n",
              "      <td>2020-03-04 10:38:25</td>\n",
              "      <td>2020-03-06 07:41:40</td>\n",
              "      <td>NaT</td>\n",
              "      <td>luzon</td>\n",
              "      <td>manila</td>\n",
              "    </tr>\n",
              "  </tbody>\n",
              "</table>\n",
              "</div>"
            ],
            "text/plain": [
              "      orderid                pick  ... buyeraddress selleraddress\n",
              "0  2215676524 2020-03-02 08:39:57  ...       manila        manila\n",
              "1  2219624609 2020-03-04 08:19:28  ...       manila        manila\n",
              "2  2220979489 2020-03-04 07:20:34  ...       manila        manila\n",
              "3  2221066352 2020-03-05 14:36:56  ...       manila        manila\n",
              "4  2222478803 2020-03-04 10:38:25  ...        luzon        manila\n",
              "\n",
              "[5 rows x 6 columns]"
            ]
          },
          "metadata": {
            "tags": []
          },
          "execution_count": 19
        }
      ]
    },
    {
      "cell_type": "markdown",
      "metadata": {
        "id": "ErFAakGAuxQ9",
        "colab_type": "text"
      },
      "source": [
        "# Processing Data"
      ]
    },
    {
      "cell_type": "code",
      "metadata": {
        "id": "eLvOtk5cE_wa",
        "colab_type": "code",
        "colab": {}
      },
      "source": [
        "def what_max_day(loc, buyer_address, seller_address):\n",
        "    max_days = 3\n",
        "    for x in loc:\n",
        "        for y in loc:\n",
        "            temp_max_days = max_days\n",
        "            if (loc.index(buyer_address) >= loc.index(seller_address)) and (buyer_address == x and seller_address == y):\n",
        "                return temp_max_days\n",
        "            elif (loc.index(buyer_address) <= loc.index(seller_address)) and (buyer_address == y and seller_address == x):\n",
        "                return temp_max_days\n",
        "            else:\n",
        "                temp_max_days += 2\n",
        "                if temp_max_days > 7:\n",
        "                    temp_max_days = 7\n",
        "        max_days += 2\n",
        "        if max_days > 7:\n",
        "            max_days = 7"
      ],
      "execution_count": 20,
      "outputs": []
    },
    {
      "cell_type": "code",
      "metadata": {
        "id": "pRsyV88ryLDx",
        "colab_type": "code",
        "colab": {}
      },
      "source": [
        "locations = [\"manila\", \"luzon\", \"visayas\", \"mindanao\"]\n",
        "exclude_date = ['2020-03-01','2020-03-08', '2020-03-15', '2020-03-22', '2020-03-25', '2020-03-29', '2020-03-30', '2020-03-31']\n",
        "nat = pd._libs.tslibs.nattype.NaTType"
      ],
      "execution_count": 21,
      "outputs": []
    },
    {
      "cell_type": "code",
      "metadata": {
        "id": "ZKtJDgJvzL_5",
        "colab_type": "code",
        "colab": {}
      },
      "source": [
        "def is_late_process(pick, one_deliver_attempt, two_deliver_attempt, buyeraddress, selleraddress):\n",
        "    #pick = row.pick\n",
        "    #one_deliver_attempt = row.deliver_attempt_1\n",
        "    #two_deliver_attempt = row.deliver_attempt_2\n",
        "    #buyeraddress = row.buyeraddress\n",
        "    #selleraddress = row.selleraddress\n",
        "    pick = pd.to_datetime(pick)\n",
        "    one_deliver_attempt = pd.to_datetime(one_deliver_attempt)\n",
        "    two_deliver_attempt = pd.to_datetime(two_deliver_attempt)\n",
        "\n",
        "    #print(type(two_deliver_attempt))\n",
        "    #print(f\"buyeraddress[TYPE]: {type(buyeraddress)}\")\n",
        "    #print(f\"selleraddress[TYPE]: {type(selleraddress)}\")\n",
        "    if type(two_deliver_attempt) != nat:\n",
        "        #print(\"i went here!!!!!!\")\n",
        "        duration = (two_deliver_attempt - one_deliver_attempt) / np.timedelta64(1, 'D')\n",
        "        #print(f\"BEFORE duration process: \\nduration: {duration}, duration[TYPE]: {type(duration)}\")\n",
        "        days_to_exclude = 0\n",
        "        for i in exclude_date:\n",
        "            if one_deliver_attempt < pd.to_datetime(i) < two_deliver_attempt:\n",
        "                days_to_exclude += 1\n",
        "        duration -= days_to_exclude\n",
        "        #print(f\"AFTER duration process: \\nduration: {duration}, duration[TYPE]: {type(duration)}\")\n",
        "    else:\n",
        "        #print(f\"I went here instead lolloololol\")\n",
        "        duration = (one_deliver_attempt - pick) / np.timedelta64(1, 'D')\n",
        "        #print(duration)\n",
        "        days_to_exclude = 0 \n",
        "        for i in exclude_date:\n",
        "            if pick < pd.to_datetime(i) < one_deliver_attempt:\n",
        "                days_to_exclude += 1\n",
        "        duration -= days_to_exclude\n",
        "\n",
        "    if duration < what_max_day(locations, buyeraddress, selleraddress):\n",
        "        return 0\n",
        "    else:\n",
        "        return 1"
      ],
      "execution_count": 29,
      "outputs": []
    },
    {
      "cell_type": "code",
      "metadata": {
        "id": "N_LC1nNILKPs",
        "colab_type": "code",
        "colab": {}
      },
      "source": [
        "result_df = pd.DataFrame()\n",
        "result_df['orderid'] = delivery_df['orderid']"
      ],
      "execution_count": 30,
      "outputs": []
    },
    {
      "cell_type": "code",
      "metadata": {
        "id": "djxmj67B_qv6",
        "colab_type": "code",
        "colab": {}
      },
      "source": [
        "is_late = np.vectorize(is_late_process)"
      ],
      "execution_count": 31,
      "outputs": []
    },
    {
      "cell_type": "code",
      "metadata": {
        "id": "y6nUlX2CEwMp",
        "colab_type": "code",
        "colab": {}
      },
      "source": [
        "result_df['is_late'] = is_late(delivery_df['pick'].values, delivery_df['deliver_attempt_1'].values, delivery_df['deliver_attempt_2'], delivery_df['buyeraddress'], delivery_df['selleraddress'])\n",
        "#result_df['is_late'] = delivery_df.apply(is_late, axis=1)"
      ],
      "execution_count": 32,
      "outputs": []
    },
    {
      "cell_type": "code",
      "metadata": {
        "id": "CRS82oFt0vLx",
        "colab_type": "code",
        "colab": {
          "base_uri": "https://localhost:8080/",
          "height": 34
        },
        "outputId": "d49bd902-c502-4a8f-8747-6900cac66c80"
      },
      "source": [
        "duration = (delivery_df['1st_deliver_attempt'].values[0] - delivery_df['pick'].values[0]) / np.timedelta64(1, 'D')"
      ],
      "execution_count": null,
      "outputs": [
        {
          "output_type": "execute_result",
          "data": {
            "text/plain": [
              "2.853715277777778"
            ]
          },
          "metadata": {
            "tags": []
          },
          "execution_count": 151
        }
      ]
    },
    {
      "cell_type": "code",
      "metadata": {
        "id": "i-SVMYM0AxAc",
        "colab_type": "code",
        "colab": {
          "base_uri": "https://localhost:8080/",
          "height": 34
        },
        "outputId": "bab8189b-6096-4489-cca2-b9e81e68f4ee"
      },
      "source": [
        "type(delivery_df['deliver_attempt_1'].values[0] - delivery_df['pick'].values[0])"
      ],
      "execution_count": null,
      "outputs": [
        {
          "output_type": "execute_result",
          "data": {
            "text/plain": [
              "numpy.timedelta64"
            ]
          },
          "metadata": {
            "tags": []
          },
          "execution_count": 71
        }
      ]
    },
    {
      "cell_type": "code",
      "metadata": {
        "id": "GO50lBGp89kb",
        "colab_type": "code",
        "colab": {
          "base_uri": "https://localhost:8080/",
          "height": 34
        },
        "outputId": "195a128b-aba6-4d41-8c32-d1f7c095458e"
      },
      "source": [
        "delivery_df['pick'][0] < pd.to_datetime(exclude_date[1]) < delivery_df['1st_deliver_attempt'].values[0]"
      ],
      "execution_count": null,
      "outputs": [
        {
          "output_type": "execute_result",
          "data": {
            "text/plain": [
              "False"
            ]
          },
          "metadata": {
            "tags": []
          },
          "execution_count": 156
        }
      ]
    },
    {
      "cell_type": "code",
      "metadata": {
        "id": "b7uAf7lE-9Fv",
        "colab_type": "code",
        "colab": {
          "base_uri": "https://localhost:8080/",
          "height": 76
        },
        "outputId": "8a8bdb04-d207-45ae-fcae-4d900c937161"
      },
      "source": [
        "delivery_df[delivery_df['orderid'] == 30505877890444]\n",
        "delivery_df[delivery_df['orderid'] == 2296895366]"
      ],
      "execution_count": 27,
      "outputs": [
        {
          "output_type": "execute_result",
          "data": {
            "text/html": [
              "<div>\n",
              "<style scoped>\n",
              "    .dataframe tbody tr th:only-of-type {\n",
              "        vertical-align: middle;\n",
              "    }\n",
              "\n",
              "    .dataframe tbody tr th {\n",
              "        vertical-align: top;\n",
              "    }\n",
              "\n",
              "    .dataframe thead th {\n",
              "        text-align: right;\n",
              "    }\n",
              "</style>\n",
              "<table border=\"1\" class=\"dataframe\">\n",
              "  <thead>\n",
              "    <tr style=\"text-align: right;\">\n",
              "      <th></th>\n",
              "      <th>orderid</th>\n",
              "      <th>pick</th>\n",
              "      <th>deliver_attempt_1</th>\n",
              "      <th>deliver_attempt_2</th>\n",
              "      <th>buyeraddress</th>\n",
              "      <th>selleraddress</th>\n",
              "    </tr>\n",
              "  </thead>\n",
              "  <tbody>\n",
              "    <tr>\n",
              "      <th>38937</th>\n",
              "      <td>2296895366</td>\n",
              "      <td>2020-03-12 03:58:08</td>\n",
              "      <td>2020-03-17 01:25:14</td>\n",
              "      <td>2020-03-21 08:34:26</td>\n",
              "      <td>visayas</td>\n",
              "      <td>manila</td>\n",
              "    </tr>\n",
              "  </tbody>\n",
              "</table>\n",
              "</div>"
            ],
            "text/plain": [
              "          orderid                pick  ... buyeraddress selleraddress\n",
              "38937  2296895366 2020-03-12 03:58:08  ...      visayas        manila\n",
              "\n",
              "[1 rows x 6 columns]"
            ]
          },
          "metadata": {
            "tags": []
          },
          "execution_count": 27
        }
      ]
    },
    {
      "cell_type": "code",
      "metadata": {
        "id": "UnC6N0FQS2cC",
        "colab_type": "code",
        "colab": {
          "base_uri": "https://localhost:8080/",
          "height": 34
        },
        "outputId": "301c44e0-3a41-4e88-9bbd-ef9b65dd4b48"
      },
      "source": [
        "delivery_df.shape"
      ],
      "execution_count": null,
      "outputs": [
        {
          "output_type": "execute_result",
          "data": {
            "text/plain": [
              "(3176313, 6)"
            ]
          },
          "metadata": {
            "tags": []
          },
          "execution_count": 92
        }
      ]
    },
    {
      "cell_type": "code",
      "metadata": {
        "id": "6Z0zIgeh7ckC",
        "colab_type": "code",
        "colab": {
          "base_uri": "https://localhost:8080/",
          "height": 34
        },
        "outputId": "6a1487b3-7b66-48ee-a4f7-e34c2f292316"
      },
      "source": [
        "result_df.shape"
      ],
      "execution_count": 33,
      "outputs": [
        {
          "output_type": "execute_result",
          "data": {
            "text/plain": [
              "(3176313, 2)"
            ]
          },
          "metadata": {
            "tags": []
          },
          "execution_count": 33
        }
      ]
    },
    {
      "cell_type": "code",
      "metadata": {
        "id": "0rDs8HflCaR2",
        "colab_type": "code",
        "colab": {}
      },
      "source": [
        "result_df.to_csv('result.csv', index=False)"
      ],
      "execution_count": 34,
      "outputs": []
    },
    {
      "cell_type": "code",
      "metadata": {
        "id": "1aU72hvS7hiD",
        "colab_type": "code",
        "colab": {
          "base_uri": "https://localhost:8080/",
          "height": 194
        },
        "outputId": "a13007d6-5c7f-41a6-e348-7d0e000f10f7"
      },
      "source": [
        "result_df.head()"
      ],
      "execution_count": 35,
      "outputs": [
        {
          "output_type": "execute_result",
          "data": {
            "text/html": [
              "<div>\n",
              "<style scoped>\n",
              "    .dataframe tbody tr th:only-of-type {\n",
              "        vertical-align: middle;\n",
              "    }\n",
              "\n",
              "    .dataframe tbody tr th {\n",
              "        vertical-align: top;\n",
              "    }\n",
              "\n",
              "    .dataframe thead th {\n",
              "        text-align: right;\n",
              "    }\n",
              "</style>\n",
              "<table border=\"1\" class=\"dataframe\">\n",
              "  <thead>\n",
              "    <tr style=\"text-align: right;\">\n",
              "      <th></th>\n",
              "      <th>orderid</th>\n",
              "      <th>is_late</th>\n",
              "    </tr>\n",
              "  </thead>\n",
              "  <tbody>\n",
              "    <tr>\n",
              "      <th>0</th>\n",
              "      <td>2215676524</td>\n",
              "      <td>0</td>\n",
              "    </tr>\n",
              "    <tr>\n",
              "      <th>1</th>\n",
              "      <td>2219624609</td>\n",
              "      <td>0</td>\n",
              "    </tr>\n",
              "    <tr>\n",
              "      <th>2</th>\n",
              "      <td>2220979489</td>\n",
              "      <td>0</td>\n",
              "    </tr>\n",
              "    <tr>\n",
              "      <th>3</th>\n",
              "      <td>2221066352</td>\n",
              "      <td>0</td>\n",
              "    </tr>\n",
              "    <tr>\n",
              "      <th>4</th>\n",
              "      <td>2222478803</td>\n",
              "      <td>0</td>\n",
              "    </tr>\n",
              "  </tbody>\n",
              "</table>\n",
              "</div>"
            ],
            "text/plain": [
              "      orderid  is_late\n",
              "0  2215676524        0\n",
              "1  2219624609        0\n",
              "2  2220979489        0\n",
              "3  2221066352        0\n",
              "4  2222478803        0"
            ]
          },
          "metadata": {
            "tags": []
          },
          "execution_count": 35
        }
      ]
    },
    {
      "cell_type": "code",
      "metadata": {
        "id": "3-dR6zmH7ngP",
        "colab_type": "code",
        "colab": {}
      },
      "source": [
        ""
      ],
      "execution_count": null,
      "outputs": []
    }
  ]
}