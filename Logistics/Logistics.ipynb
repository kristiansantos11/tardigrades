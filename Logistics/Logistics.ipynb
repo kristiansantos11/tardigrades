{
  "nbformat": 4,
  "nbformat_minor": 0,
  "metadata": {
    "colab": {
      "name": "Logistics.ipynb",
      "provenance": [],
      "collapsed_sections": []
    },
    "kernelspec": {
      "name": "python3",
      "display_name": "Python 3"
    }
  },
  "cells": [
    {
      "cell_type": "code",
      "metadata": {
        "id": "9QM27TGcifL5",
        "colab_type": "code",
        "colab": {
          "base_uri": "https://localhost:8080/",
          "height": 88
        },
        "outputId": "bd0a4390-2308-4423-b4ca-bf7677cde1fb"
      },
      "source": [
        "!gdown --id 1uV1Fw9QFUofRREiTqCalmq_pUL6R3TjG"
      ],
      "execution_count": 1,
      "outputs": [
        {
          "output_type": "stream",
          "text": [
            "Downloading...\n",
            "From: https://drive.google.com/uc?id=1uV1Fw9QFUofRREiTqCalmq_pUL6R3TjG\n",
            "To: /content/Dataset.zip\n",
            "400MB [00:02, 162MB/s]\n"
          ],
          "name": "stdout"
        }
      ]
    },
    {
      "cell_type": "code",
      "metadata": {
        "id": "vEfpJMsejc_l",
        "colab_type": "code",
        "colab": {
          "base_uri": "https://localhost:8080/",
          "height": 70
        },
        "outputId": "db902456-e82a-4071-925a-45e21abd4da1"
      },
      "source": [
        "!unzip Dataset.zip"
      ],
      "execution_count": 2,
      "outputs": [
        {
          "output_type": "stream",
          "text": [
            "Archive:  Dataset.zip\n",
            "  inflating: SLA_matrix.xlsx         \n",
            "  inflating: delivery_orders_march.csv  \n"
          ],
          "name": "stdout"
        }
      ]
    },
    {
      "cell_type": "code",
      "metadata": {
        "id": "9HHcUqovlB7a",
        "colab_type": "code",
        "colab": {}
      },
      "source": [
        "import pandas as pd\n",
        "import numpy as np"
      ],
      "execution_count": 3,
      "outputs": []
    },
    {
      "cell_type": "code",
      "metadata": {
        "id": "5EG0hU4glLeD",
        "colab_type": "code",
        "colab": {}
      },
      "source": [
        "delivery_df = pd.read_csv('delivery_orders_march.csv')"
      ],
      "execution_count": 17,
      "outputs": []
    },
    {
      "cell_type": "code",
      "metadata": {
        "id": "RHaSsQYXlQ0M",
        "colab_type": "code",
        "colab": {
          "base_uri": "https://localhost:8080/",
          "height": 34
        },
        "outputId": "acb9f3ef-8666-4a2e-a3fb-a7e1ce69f5c0"
      },
      "source": [
        "delivery_df.shape"
      ],
      "execution_count": 5,
      "outputs": [
        {
          "output_type": "execute_result",
          "data": {
            "text/plain": [
              "(3176313, 6)"
            ]
          },
          "metadata": {
            "tags": []
          },
          "execution_count": 5
        }
      ]
    },
    {
      "cell_type": "code",
      "metadata": {
        "id": "QmgSSHdelVFg",
        "colab_type": "code",
        "colab": {
          "base_uri": "https://localhost:8080/",
          "height": 312
        },
        "outputId": "94477ad3-ccf3-4b34-d386-0d0db6fd949e"
      },
      "source": [
        "delivery_df.head(5)"
      ],
      "execution_count": 6,
      "outputs": [
        {
          "output_type": "execute_result",
          "data": {
            "text/html": [
              "<div>\n",
              "<style scoped>\n",
              "    .dataframe tbody tr th:only-of-type {\n",
              "        vertical-align: middle;\n",
              "    }\n",
              "\n",
              "    .dataframe tbody tr th {\n",
              "        vertical-align: top;\n",
              "    }\n",
              "\n",
              "    .dataframe thead th {\n",
              "        text-align: right;\n",
              "    }\n",
              "</style>\n",
              "<table border=\"1\" class=\"dataframe\">\n",
              "  <thead>\n",
              "    <tr style=\"text-align: right;\">\n",
              "      <th></th>\n",
              "      <th>orderid</th>\n",
              "      <th>pick</th>\n",
              "      <th>1st_deliver_attempt</th>\n",
              "      <th>2nd_deliver_attempt</th>\n",
              "      <th>buyeraddress</th>\n",
              "      <th>selleraddress</th>\n",
              "    </tr>\n",
              "  </thead>\n",
              "  <tbody>\n",
              "    <tr>\n",
              "      <th>0</th>\n",
              "      <td>2215676524</td>\n",
              "      <td>1583138397</td>\n",
              "      <td>1.583385e+09</td>\n",
              "      <td>NaN</td>\n",
              "      <td>Baging ldl BUENAVISTA,PATAG.CAGAYAN Buagsong,c...</td>\n",
              "      <td>Pantranco vill. 417 Warehouse# katipunan 532 (...</td>\n",
              "    </tr>\n",
              "    <tr>\n",
              "      <th>1</th>\n",
              "      <td>2219624609</td>\n",
              "      <td>1583309968</td>\n",
              "      <td>1.583463e+09</td>\n",
              "      <td>1.583799e+09</td>\n",
              "      <td>coloma's quzom CASANAS Site1 Masiyan 533A Stol...</td>\n",
              "      <td>BLDG 210A Moras C42B 2B16,168 church) Complex ...</td>\n",
              "    </tr>\n",
              "    <tr>\n",
              "      <th>2</th>\n",
              "      <td>2220979489</td>\n",
              "      <td>1583306434</td>\n",
              "      <td>1.583460e+09</td>\n",
              "      <td>NaN</td>\n",
              "      <td>21-O LumangDaan,Capitangan,Abucay,Bataan .Bign...</td>\n",
              "      <td>#66 150-C, DRIVE, Milagros Joe socorro Metro M...</td>\n",
              "    </tr>\n",
              "    <tr>\n",
              "      <th>3</th>\n",
              "      <td>2221066352</td>\n",
              "      <td>1583419016</td>\n",
              "      <td>1.583556e+09</td>\n",
              "      <td>NaN</td>\n",
              "      <td>616Espiritu MARTINVILLE,MANUYO #5paraiso kengi...</td>\n",
              "      <td>999maII 201,26 Villaruel Barretto gen.t number...</td>\n",
              "    </tr>\n",
              "    <tr>\n",
              "      <th>4</th>\n",
              "      <td>2222478803</td>\n",
              "      <td>1583318305</td>\n",
              "      <td>1.583480e+09</td>\n",
              "      <td>NaN</td>\n",
              "      <td>L042 Summerbreezee1 L2(Balanay analyn Lot760 C...</td>\n",
              "      <td>G66MANILA Hiyas Fitness MAYSILO magdiwang Lt.4...</td>\n",
              "    </tr>\n",
              "  </tbody>\n",
              "</table>\n",
              "</div>"
            ],
            "text/plain": [
              "      orderid  ...                                      selleraddress\n",
              "0  2215676524  ...  Pantranco vill. 417 Warehouse# katipunan 532 (...\n",
              "1  2219624609  ...  BLDG 210A Moras C42B 2B16,168 church) Complex ...\n",
              "2  2220979489  ...  #66 150-C, DRIVE, Milagros Joe socorro Metro M...\n",
              "3  2221066352  ...  999maII 201,26 Villaruel Barretto gen.t number...\n",
              "4  2222478803  ...  G66MANILA Hiyas Fitness MAYSILO magdiwang Lt.4...\n",
              "\n",
              "[5 rows x 6 columns]"
            ]
          },
          "metadata": {
            "tags": []
          },
          "execution_count": 6
        }
      ]
    },
    {
      "cell_type": "markdown",
      "metadata": {
        "id": "79SA7_fvu79Z",
        "colab_type": "text"
      },
      "source": [
        "# Cleaning the Data"
      ]
    },
    {
      "cell_type": "code",
      "metadata": {
        "id": "Tx5mVyVrt2y6",
        "colab_type": "code",
        "colab": {
          "base_uri": "https://localhost:8080/",
          "height": 70
        },
        "outputId": "f5b7cc33-cbf4-418d-ee75-488861ad79b9"
      },
      "source": [
        "delivery_df.columns"
      ],
      "execution_count": 18,
      "outputs": [
        {
          "output_type": "execute_result",
          "data": {
            "text/plain": [
              "Index(['orderid', 'pick', '1st_deliver_attempt', '2nd_deliver_attempt',\n",
              "       'buyeraddress', 'selleraddress'],\n",
              "      dtype='object')"
            ]
          },
          "metadata": {
            "tags": []
          },
          "execution_count": 18
        }
      ]
    },
    {
      "cell_type": "code",
      "metadata": {
        "id": "eMflcOzFt61Y",
        "colab_type": "code",
        "colab": {}
      },
      "source": [
        "delivery_df.columns = ['orderid', 'pick', 'deliver_attempt_1', 'deliver_attempt_2', 'buyeraddress', 'selleraddress']"
      ],
      "execution_count": 19,
      "outputs": []
    },
    {
      "cell_type": "code",
      "metadata": {
        "id": "gsgYKfdUlWqm",
        "colab_type": "code",
        "colab": {
          "base_uri": "https://localhost:8080/",
          "height": 401
        },
        "outputId": "bfd519f9-c2cc-4f11-d112-18b8a7e1a766"
      },
      "source": [
        "delivery_df[['pick', 'deliver_attempt_1', 'deliver_attempt_2']]"
      ],
      "execution_count": 20,
      "outputs": [
        {
          "output_type": "execute_result",
          "data": {
            "text/html": [
              "<div>\n",
              "<style scoped>\n",
              "    .dataframe tbody tr th:only-of-type {\n",
              "        vertical-align: middle;\n",
              "    }\n",
              "\n",
              "    .dataframe tbody tr th {\n",
              "        vertical-align: top;\n",
              "    }\n",
              "\n",
              "    .dataframe thead th {\n",
              "        text-align: right;\n",
              "    }\n",
              "</style>\n",
              "<table border=\"1\" class=\"dataframe\">\n",
              "  <thead>\n",
              "    <tr style=\"text-align: right;\">\n",
              "      <th></th>\n",
              "      <th>pick</th>\n",
              "      <th>deliver_attempt_1</th>\n",
              "      <th>deliver_attempt_2</th>\n",
              "    </tr>\n",
              "  </thead>\n",
              "  <tbody>\n",
              "    <tr>\n",
              "      <th>0</th>\n",
              "      <td>1583138397</td>\n",
              "      <td>1.583385e+09</td>\n",
              "      <td>NaN</td>\n",
              "    </tr>\n",
              "    <tr>\n",
              "      <th>1</th>\n",
              "      <td>1583309968</td>\n",
              "      <td>1.583463e+09</td>\n",
              "      <td>1.583799e+09</td>\n",
              "    </tr>\n",
              "    <tr>\n",
              "      <th>2</th>\n",
              "      <td>1583306434</td>\n",
              "      <td>1.583460e+09</td>\n",
              "      <td>NaN</td>\n",
              "    </tr>\n",
              "    <tr>\n",
              "      <th>3</th>\n",
              "      <td>1583419016</td>\n",
              "      <td>1.583556e+09</td>\n",
              "      <td>NaN</td>\n",
              "    </tr>\n",
              "    <tr>\n",
              "      <th>4</th>\n",
              "      <td>1583318305</td>\n",
              "      <td>1.583480e+09</td>\n",
              "      <td>NaN</td>\n",
              "    </tr>\n",
              "    <tr>\n",
              "      <th>...</th>\n",
              "      <td>...</td>\n",
              "      <td>...</td>\n",
              "      <td>...</td>\n",
              "    </tr>\n",
              "    <tr>\n",
              "      <th>3176308</th>\n",
              "      <td>1585821728</td>\n",
              "      <td>1.585978e+09</td>\n",
              "      <td>NaN</td>\n",
              "    </tr>\n",
              "    <tr>\n",
              "      <th>3176309</th>\n",
              "      <td>1585895011</td>\n",
              "      <td>1.586179e+09</td>\n",
              "      <td>1.586232e+09</td>\n",
              "    </tr>\n",
              "    <tr>\n",
              "      <th>3176310</th>\n",
              "      <td>1585826951</td>\n",
              "      <td>1.585965e+09</td>\n",
              "      <td>NaN</td>\n",
              "    </tr>\n",
              "    <tr>\n",
              "      <th>3176311</th>\n",
              "      <td>1585891194</td>\n",
              "      <td>1.586230e+09</td>\n",
              "      <td>NaN</td>\n",
              "    </tr>\n",
              "    <tr>\n",
              "      <th>3176312</th>\n",
              "      <td>1585823923</td>\n",
              "      <td>1.586153e+09</td>\n",
              "      <td>1.586231e+09</td>\n",
              "    </tr>\n",
              "  </tbody>\n",
              "</table>\n",
              "<p>3176313 rows × 3 columns</p>\n",
              "</div>"
            ],
            "text/plain": [
              "               pick  deliver_attempt_1  deliver_attempt_2\n",
              "0        1583138397       1.583385e+09                NaN\n",
              "1        1583309968       1.583463e+09       1.583799e+09\n",
              "2        1583306434       1.583460e+09                NaN\n",
              "3        1583419016       1.583556e+09                NaN\n",
              "4        1583318305       1.583480e+09                NaN\n",
              "...             ...                ...                ...\n",
              "3176308  1585821728       1.585978e+09                NaN\n",
              "3176309  1585895011       1.586179e+09       1.586232e+09\n",
              "3176310  1585826951       1.585965e+09                NaN\n",
              "3176311  1585891194       1.586230e+09                NaN\n",
              "3176312  1585823923       1.586153e+09       1.586231e+09\n",
              "\n",
              "[3176313 rows x 3 columns]"
            ]
          },
          "metadata": {
            "tags": []
          },
          "execution_count": 20
        }
      ]
    },
    {
      "cell_type": "code",
      "metadata": {
        "id": "C0RA7gnFrHsb",
        "colab_type": "code",
        "colab": {}
      },
      "source": [
        "# Assuming that the dates provided by the dataset are in UNIX format\n",
        "\n",
        "def date_parser(columns, df):\n",
        "    for s in columns:\n",
        "        df[s] = pd.to_datetime(df[s], unit='s')\n",
        "        df[s] = df[s].values.astype('datetime64[D]')\n",
        "    return df"
      ],
      "execution_count": 22,
      "outputs": []
    },
    {
      "cell_type": "code",
      "metadata": {
        "id": "hqfUqWjtrhab",
        "colab_type": "code",
        "colab": {
          "base_uri": "https://localhost:8080/",
          "height": 312
        },
        "outputId": "34b63346-1b61-466c-fd3b-fb384f714b4a"
      },
      "source": [
        "delivery_df = date_parser(['pick', 'deliver_attempt_1', 'deliver_attempt_2'], delivery_df)\n",
        "delivery_df.head(5)"
      ],
      "execution_count": 23,
      "outputs": [
        {
          "output_type": "execute_result",
          "data": {
            "text/html": [
              "<div>\n",
              "<style scoped>\n",
              "    .dataframe tbody tr th:only-of-type {\n",
              "        vertical-align: middle;\n",
              "    }\n",
              "\n",
              "    .dataframe tbody tr th {\n",
              "        vertical-align: top;\n",
              "    }\n",
              "\n",
              "    .dataframe thead th {\n",
              "        text-align: right;\n",
              "    }\n",
              "</style>\n",
              "<table border=\"1\" class=\"dataframe\">\n",
              "  <thead>\n",
              "    <tr style=\"text-align: right;\">\n",
              "      <th></th>\n",
              "      <th>orderid</th>\n",
              "      <th>pick</th>\n",
              "      <th>deliver_attempt_1</th>\n",
              "      <th>deliver_attempt_2</th>\n",
              "      <th>buyeraddress</th>\n",
              "      <th>selleraddress</th>\n",
              "    </tr>\n",
              "  </thead>\n",
              "  <tbody>\n",
              "    <tr>\n",
              "      <th>0</th>\n",
              "      <td>2215676524</td>\n",
              "      <td>2020-03-02</td>\n",
              "      <td>2020-03-05</td>\n",
              "      <td>NaT</td>\n",
              "      <td>Baging ldl BUENAVISTA,PATAG.CAGAYAN Buagsong,c...</td>\n",
              "      <td>Pantranco vill. 417 Warehouse# katipunan 532 (...</td>\n",
              "    </tr>\n",
              "    <tr>\n",
              "      <th>1</th>\n",
              "      <td>2219624609</td>\n",
              "      <td>2020-03-04</td>\n",
              "      <td>2020-03-06</td>\n",
              "      <td>2020-03-10</td>\n",
              "      <td>coloma's quzom CASANAS Site1 Masiyan 533A Stol...</td>\n",
              "      <td>BLDG 210A Moras C42B 2B16,168 church) Complex ...</td>\n",
              "    </tr>\n",
              "    <tr>\n",
              "      <th>2</th>\n",
              "      <td>2220979489</td>\n",
              "      <td>2020-03-04</td>\n",
              "      <td>2020-03-06</td>\n",
              "      <td>NaT</td>\n",
              "      <td>21-O LumangDaan,Capitangan,Abucay,Bataan .Bign...</td>\n",
              "      <td>#66 150-C, DRIVE, Milagros Joe socorro Metro M...</td>\n",
              "    </tr>\n",
              "    <tr>\n",
              "      <th>3</th>\n",
              "      <td>2221066352</td>\n",
              "      <td>2020-03-05</td>\n",
              "      <td>2020-03-07</td>\n",
              "      <td>NaT</td>\n",
              "      <td>616Espiritu MARTINVILLE,MANUYO #5paraiso kengi...</td>\n",
              "      <td>999maII 201,26 Villaruel Barretto gen.t number...</td>\n",
              "    </tr>\n",
              "    <tr>\n",
              "      <th>4</th>\n",
              "      <td>2222478803</td>\n",
              "      <td>2020-03-04</td>\n",
              "      <td>2020-03-06</td>\n",
              "      <td>NaT</td>\n",
              "      <td>L042 Summerbreezee1 L2(Balanay analyn Lot760 C...</td>\n",
              "      <td>G66MANILA Hiyas Fitness MAYSILO magdiwang Lt.4...</td>\n",
              "    </tr>\n",
              "  </tbody>\n",
              "</table>\n",
              "</div>"
            ],
            "text/plain": [
              "      orderid  ...                                      selleraddress\n",
              "0  2215676524  ...  Pantranco vill. 417 Warehouse# katipunan 532 (...\n",
              "1  2219624609  ...  BLDG 210A Moras C42B 2B16,168 church) Complex ...\n",
              "2  2220979489  ...  #66 150-C, DRIVE, Milagros Joe socorro Metro M...\n",
              "3  2221066352  ...  999maII 201,26 Villaruel Barretto gen.t number...\n",
              "4  2222478803  ...  G66MANILA Hiyas Fitness MAYSILO magdiwang Lt.4...\n",
              "\n",
              "[5 rows x 6 columns]"
            ]
          },
          "metadata": {
            "tags": []
          },
          "execution_count": 23
        }
      ]
    },
    {
      "cell_type": "code",
      "metadata": {
        "id": "w-mNSL8osH8b",
        "colab_type": "code",
        "colab": {}
      },
      "source": [
        "def convert_address(dB: pd.core.frame.DataFrame, address_column: str) -> pd.core.series.Series:\n",
        "\n",
        "    def returnFinalWord(adr: str) -> str:\n",
        "        proc_ad = adr.split()\n",
        "        result_loc = proc_ad[len(proc_ad)-1].lower()\n",
        "        if result_loc == \"manila\":\n",
        "            return 0\n",
        "        elif result_loc == \"luzon\":\n",
        "            return 1\n",
        "        elif result_loc == \"visayas\":\n",
        "            return 2\n",
        "        elif result_loc == \"mindanao\":\n",
        "            return 3\n",
        "\n",
        "    address = pd.DataFrame()\n",
        "    address['raw_address'] = dB[address_column]\n",
        "    address[address_column] = address['raw_address'].apply(lambda x: returnFinalWord(x))\n",
        "\n",
        "    return address[address_column]"
      ],
      "execution_count": 35,
      "outputs": []
    },
    {
      "cell_type": "code",
      "metadata": {
        "id": "_95uRlSyvNKX",
        "colab_type": "code",
        "colab": {}
      },
      "source": [
        "delivery_df['buyeraddress'] = convert_address(delivery_df, 'buyeraddress')\n",
        "delivery_df['selleraddress'] = convert_address(delivery_df, 'selleraddress')"
      ],
      "execution_count": 36,
      "outputs": []
    },
    {
      "cell_type": "code",
      "metadata": {
        "id": "x_frE1K8u_08",
        "colab_type": "code",
        "colab": {
          "base_uri": "https://localhost:8080/",
          "height": 194
        },
        "outputId": "d428d410-8dd6-4d74-8ff8-af244ee84f70"
      },
      "source": [
        "delivery_df.head()"
      ],
      "execution_count": 37,
      "outputs": [
        {
          "output_type": "execute_result",
          "data": {
            "text/html": [
              "<div>\n",
              "<style scoped>\n",
              "    .dataframe tbody tr th:only-of-type {\n",
              "        vertical-align: middle;\n",
              "    }\n",
              "\n",
              "    .dataframe tbody tr th {\n",
              "        vertical-align: top;\n",
              "    }\n",
              "\n",
              "    .dataframe thead th {\n",
              "        text-align: right;\n",
              "    }\n",
              "</style>\n",
              "<table border=\"1\" class=\"dataframe\">\n",
              "  <thead>\n",
              "    <tr style=\"text-align: right;\">\n",
              "      <th></th>\n",
              "      <th>orderid</th>\n",
              "      <th>pick</th>\n",
              "      <th>deliver_attempt_1</th>\n",
              "      <th>deliver_attempt_2</th>\n",
              "      <th>buyeraddress</th>\n",
              "      <th>selleraddress</th>\n",
              "    </tr>\n",
              "  </thead>\n",
              "  <tbody>\n",
              "    <tr>\n",
              "      <th>0</th>\n",
              "      <td>2215676524</td>\n",
              "      <td>2020-03-02</td>\n",
              "      <td>2020-03-05</td>\n",
              "      <td>NaT</td>\n",
              "      <td>0</td>\n",
              "      <td>0</td>\n",
              "    </tr>\n",
              "    <tr>\n",
              "      <th>1</th>\n",
              "      <td>2219624609</td>\n",
              "      <td>2020-03-04</td>\n",
              "      <td>2020-03-06</td>\n",
              "      <td>2020-03-10</td>\n",
              "      <td>0</td>\n",
              "      <td>0</td>\n",
              "    </tr>\n",
              "    <tr>\n",
              "      <th>2</th>\n",
              "      <td>2220979489</td>\n",
              "      <td>2020-03-04</td>\n",
              "      <td>2020-03-06</td>\n",
              "      <td>NaT</td>\n",
              "      <td>0</td>\n",
              "      <td>0</td>\n",
              "    </tr>\n",
              "    <tr>\n",
              "      <th>3</th>\n",
              "      <td>2221066352</td>\n",
              "      <td>2020-03-05</td>\n",
              "      <td>2020-03-07</td>\n",
              "      <td>NaT</td>\n",
              "      <td>0</td>\n",
              "      <td>0</td>\n",
              "    </tr>\n",
              "    <tr>\n",
              "      <th>4</th>\n",
              "      <td>2222478803</td>\n",
              "      <td>2020-03-04</td>\n",
              "      <td>2020-03-06</td>\n",
              "      <td>NaT</td>\n",
              "      <td>1</td>\n",
              "      <td>0</td>\n",
              "    </tr>\n",
              "  </tbody>\n",
              "</table>\n",
              "</div>"
            ],
            "text/plain": [
              "      orderid       pick  ... buyeraddress selleraddress\n",
              "0  2215676524 2020-03-02  ...            0             0\n",
              "1  2219624609 2020-03-04  ...            0             0\n",
              "2  2220979489 2020-03-04  ...            0             0\n",
              "3  2221066352 2020-03-05  ...            0             0\n",
              "4  2222478803 2020-03-04  ...            1             0\n",
              "\n",
              "[5 rows x 6 columns]"
            ]
          },
          "metadata": {
            "tags": []
          },
          "execution_count": 37
        }
      ]
    },
    {
      "cell_type": "markdown",
      "metadata": {
        "id": "ErFAakGAuxQ9",
        "colab_type": "text"
      },
      "source": [
        "# Processing Data"
      ]
    },
    {
      "cell_type": "code",
      "metadata": {
        "id": "eLvOtk5cE_wa",
        "colab_type": "code",
        "colab": {}
      },
      "source": [
        "sla_matrix = [\n",
        "             [3, 5, 7, 7],\n",
        "             [5, 5, 7, 7],\n",
        "             [7, 7, 7, 7],\n",
        "             [7, 7, 7, 7]\n",
        "]\n"
      ],
      "execution_count": 38,
      "outputs": []
    },
    {
      "cell_type": "code",
      "metadata": {
        "id": "PYT-wqDfTTc0",
        "colab_type": "code",
        "colab": {}
      },
      "source": [
        "def sla_max(buyeraddress, selleraddress):\n",
        "    return sla_matrix[buyeraddress][selleraddress]\n",
        "\n",
        "max_day = np.vectorize(sla_max)"
      ],
      "execution_count": 41,
      "outputs": []
    },
    {
      "cell_type": "code",
      "metadata": {
        "id": "vHYolb-YOFp_",
        "colab_type": "code",
        "colab": {
          "base_uri": "https://localhost:8080/",
          "height": 401
        },
        "outputId": "c2274932-a3e1-41fe-a0e8-4e30edaa0300"
      },
      "source": [
        "delivery_df['sla'] = max_day(delivery_df['buyeraddress'], delivery_df['selleraddress'])\n",
        "delivery_df"
      ],
      "execution_count": 43,
      "outputs": [
        {
          "output_type": "execute_result",
          "data": {
            "text/html": [
              "<div>\n",
              "<style scoped>\n",
              "    .dataframe tbody tr th:only-of-type {\n",
              "        vertical-align: middle;\n",
              "    }\n",
              "\n",
              "    .dataframe tbody tr th {\n",
              "        vertical-align: top;\n",
              "    }\n",
              "\n",
              "    .dataframe thead th {\n",
              "        text-align: right;\n",
              "    }\n",
              "</style>\n",
              "<table border=\"1\" class=\"dataframe\">\n",
              "  <thead>\n",
              "    <tr style=\"text-align: right;\">\n",
              "      <th></th>\n",
              "      <th>orderid</th>\n",
              "      <th>pick</th>\n",
              "      <th>deliver_attempt_1</th>\n",
              "      <th>deliver_attempt_2</th>\n",
              "      <th>buyeraddress</th>\n",
              "      <th>selleraddress</th>\n",
              "      <th>sla</th>\n",
              "    </tr>\n",
              "  </thead>\n",
              "  <tbody>\n",
              "    <tr>\n",
              "      <th>0</th>\n",
              "      <td>2215676524</td>\n",
              "      <td>2020-03-02</td>\n",
              "      <td>2020-03-05</td>\n",
              "      <td>NaT</td>\n",
              "      <td>0</td>\n",
              "      <td>0</td>\n",
              "      <td>3</td>\n",
              "    </tr>\n",
              "    <tr>\n",
              "      <th>1</th>\n",
              "      <td>2219624609</td>\n",
              "      <td>2020-03-04</td>\n",
              "      <td>2020-03-06</td>\n",
              "      <td>2020-03-10</td>\n",
              "      <td>0</td>\n",
              "      <td>0</td>\n",
              "      <td>3</td>\n",
              "    </tr>\n",
              "    <tr>\n",
              "      <th>2</th>\n",
              "      <td>2220979489</td>\n",
              "      <td>2020-03-04</td>\n",
              "      <td>2020-03-06</td>\n",
              "      <td>NaT</td>\n",
              "      <td>0</td>\n",
              "      <td>0</td>\n",
              "      <td>3</td>\n",
              "    </tr>\n",
              "    <tr>\n",
              "      <th>3</th>\n",
              "      <td>2221066352</td>\n",
              "      <td>2020-03-05</td>\n",
              "      <td>2020-03-07</td>\n",
              "      <td>NaT</td>\n",
              "      <td>0</td>\n",
              "      <td>0</td>\n",
              "      <td>3</td>\n",
              "    </tr>\n",
              "    <tr>\n",
              "      <th>4</th>\n",
              "      <td>2222478803</td>\n",
              "      <td>2020-03-04</td>\n",
              "      <td>2020-03-06</td>\n",
              "      <td>NaT</td>\n",
              "      <td>1</td>\n",
              "      <td>0</td>\n",
              "      <td>5</td>\n",
              "    </tr>\n",
              "    <tr>\n",
              "      <th>...</th>\n",
              "      <td>...</td>\n",
              "      <td>...</td>\n",
              "      <td>...</td>\n",
              "      <td>...</td>\n",
              "      <td>...</td>\n",
              "      <td>...</td>\n",
              "      <td>...</td>\n",
              "    </tr>\n",
              "    <tr>\n",
              "      <th>3176308</th>\n",
              "      <td>31504087640510</td>\n",
              "      <td>2020-04-02</td>\n",
              "      <td>2020-04-04</td>\n",
              "      <td>NaT</td>\n",
              "      <td>0</td>\n",
              "      <td>0</td>\n",
              "      <td>3</td>\n",
              "    </tr>\n",
              "    <tr>\n",
              "      <th>3176309</th>\n",
              "      <td>31504147352227</td>\n",
              "      <td>2020-04-03</td>\n",
              "      <td>2020-04-06</td>\n",
              "      <td>2020-04-07</td>\n",
              "      <td>0</td>\n",
              "      <td>0</td>\n",
              "      <td>3</td>\n",
              "    </tr>\n",
              "    <tr>\n",
              "      <th>3176310</th>\n",
              "      <td>31504462290482</td>\n",
              "      <td>2020-04-02</td>\n",
              "      <td>2020-04-04</td>\n",
              "      <td>NaT</td>\n",
              "      <td>0</td>\n",
              "      <td>0</td>\n",
              "      <td>3</td>\n",
              "    </tr>\n",
              "    <tr>\n",
              "      <th>3176311</th>\n",
              "      <td>31504851495943</td>\n",
              "      <td>2020-04-03</td>\n",
              "      <td>2020-04-07</td>\n",
              "      <td>NaT</td>\n",
              "      <td>1</td>\n",
              "      <td>0</td>\n",
              "      <td>5</td>\n",
              "    </tr>\n",
              "    <tr>\n",
              "      <th>3176312</th>\n",
              "      <td>31505199116340</td>\n",
              "      <td>2020-04-02</td>\n",
              "      <td>2020-04-06</td>\n",
              "      <td>2020-04-07</td>\n",
              "      <td>1</td>\n",
              "      <td>0</td>\n",
              "      <td>5</td>\n",
              "    </tr>\n",
              "  </tbody>\n",
              "</table>\n",
              "<p>3176313 rows × 7 columns</p>\n",
              "</div>"
            ],
            "text/plain": [
              "                orderid       pick  ... selleraddress sla\n",
              "0            2215676524 2020-03-02  ...             0   3\n",
              "1            2219624609 2020-03-04  ...             0   3\n",
              "2            2220979489 2020-03-04  ...             0   3\n",
              "3            2221066352 2020-03-05  ...             0   3\n",
              "4            2222478803 2020-03-04  ...             0   5\n",
              "...                 ...        ...  ...           ...  ..\n",
              "3176308  31504087640510 2020-04-02  ...             0   3\n",
              "3176309  31504147352227 2020-04-03  ...             0   3\n",
              "3176310  31504462290482 2020-04-02  ...             0   3\n",
              "3176311  31504851495943 2020-04-03  ...             0   5\n",
              "3176312  31505199116340 2020-04-02  ...             0   5\n",
              "\n",
              "[3176313 rows x 7 columns]"
            ]
          },
          "metadata": {
            "tags": []
          },
          "execution_count": 43
        }
      ]
    },
    {
      "cell_type": "code",
      "metadata": {
        "id": "OsZCwfkSTzjc",
        "colab_type": "code",
        "colab": {}
      },
      "source": [
        "holidays = ['2020-03-08', '2020-03-25', '2020-03-30', '2020-03-31']\n",
        "weekmask = 'Mon Tue Wed Thu Fri Sat'"
      ],
      "execution_count": 45,
      "outputs": []
    },
    {
      "cell_type": "code",
      "metadata": {
        "id": "DENJeIv_V-5L",
        "colab_type": "code",
        "colab": {}
      },
      "source": [
        "def dateSRS_to_arr(srs):\n",
        "    return [np.datetime64('1970-01-01') if pd.isnull(x) else x.date() for x in srs]"
      ],
      "execution_count": 47,
      "outputs": []
    },
    {
      "cell_type": "code",
      "metadata": {
        "id": "-UJb9WPiVQ27",
        "colab_type": "code",
        "colab": {}
      },
      "source": [
        "pick_arr = dateSRS_to_arr(delivery_df['pick'])\n",
        "one_delivery_attempt_arr = dateSRS_to_arr(delivery_df['deliver_attempt_1'])\n",
        "two_delivery_attempt_arr = dateSRS_to_arr(delivery_df['deliver_attempt_2'])\n",
        "\n",
        "delivery_df['attempt_1_duration'] = np.busday_count(pick_arr, one_delivery_attempt_arr, weekmask, holidays) \n",
        "delivery_df['attempt_2_duration'] = np.busday_count(one_delivery_attempt_arr, two_delivery_attempt_arr, weekmask, holidays)\n",
        "delivery_df['is_late'] = (delivery_df['attempt_1_duration'] > delivery_df['sla']) | (delivery_df['attempt_2_duration'] > 3)\n",
        "delivery_df['is_late'] = delivery_df['is_late'].astype(int) "
      ],
      "execution_count": 49,
      "outputs": []
    },
    {
      "cell_type": "code",
      "metadata": {
        "id": "ZKtJDgJvzL_5",
        "colab_type": "code",
        "colab": {}
      },
      "source": [
        "#JUNK CODE -- TO BE USED IF YOU WANT TO MAKE YOUR LIFE COMPLICATED\n",
        "\n",
        "\"\"\"def is_late_process(pick, one_deliver_attempt, two_deliver_attempt, buyeraddress, selleraddress):\n",
        "    #pick = row.pick\n",
        "    #one_deliver_attempt = row.deliver_attempt_1\n",
        "    #two_deliver_attempt = row.deliver_attempt_2\n",
        "    #buyeraddress = row.buyeraddress\n",
        "    #selleraddress = row.selleraddress\n",
        "    pick = pd.to_datetime(pick)\n",
        "    one_deliver_attempt = pd.to_datetime(one_deliver_attempt)\n",
        "    two_deliver_attempt = pd.to_datetime(two_deliver_attempt)\n",
        "\n",
        "    #print(type(two_deliver_attempt))\n",
        "    #print(f\"buyeraddress[TYPE]: {type(buyeraddress)}\")\n",
        "    #print(f\"selleraddress[TYPE]: {type(selleraddress)}\")\n",
        "    if type(two_deliver_attempt) != nat:\n",
        "        #print(\"i went here!!!!!!\")\n",
        "        duration = (two_deliver_attempt - one_deliver_attempt) / np.timedelta64(1, 'D')\n",
        "        #print(f\"BEFORE duration process: \\nduration: {duration}, duration[TYPE]: {type(duration)}\")\n",
        "        days_to_exclude = 1\n",
        "        for i in exclude_date:\n",
        "            if one_deliver_attempt < pd.to_datetime(i) < two_deliver_attempt:\n",
        "                days_to_exclude += 1\n",
        "        duration -= days_to_exclude\n",
        "        #print(f\"AFTER duration process: \\nduration: {duration}, duration[TYPE]: {type(duration)}\")\n",
        "    else:\n",
        "        #print(f\"I went here instead lolloololol\")\n",
        "        duration = (one_deliver_attempt - pick) / np.timedelta64(1, 'D')\n",
        "        #print(duration)\n",
        "        days_to_exclude = 1 \n",
        "        for i in exclude_date:\n",
        "            if pick < pd.to_datetime(i) < one_deliver_attempt:\n",
        "                days_to_exclude += 1\n",
        "        duration -= days_to_exclude\n",
        "\n",
        "    if duration < what_max_day(locations, buyeraddress, selleraddress):\n",
        "        return 0\n",
        "    else:\n",
        "        return 1\"\"\""
      ],
      "execution_count": null,
      "outputs": []
    },
    {
      "cell_type": "code",
      "metadata": {
        "id": "djxmj67B_qv6",
        "colab_type": "code",
        "colab": {}
      },
      "source": [
        "#result_df = pd.DataFrame()\n",
        "#result_df['orderid'] = delivery_df['orderid']\n",
        "#is_late = np.vectorize(is_late_process) -- Use if junk code is used"
      ],
      "execution_count": null,
      "outputs": []
    },
    {
      "cell_type": "code",
      "metadata": {
        "id": "y6nUlX2CEwMp",
        "colab_type": "code",
        "colab": {}
      },
      "source": [
        "#result_df['is_late'] = is_late(delivery_df['pick'].values, delivery_df['deliver_attempt_1'].values, delivery_df['deliver_attempt_2'], delivery_df['buyeraddress'], delivery_df['selleraddress'])\n",
        "#result_df['is_late'] = delivery_df.apply(is_late, axis=1)\n",
        "\n",
        "# Use this code if junk code is used. WARNING: WILL TAKE 4040 SECONDS TO PROCESS DATA.\n",
        "# Accuracy: 63%"
      ],
      "execution_count": null,
      "outputs": []
    },
    {
      "cell_type": "code",
      "metadata": {
        "id": "N_LC1nNILKPs",
        "colab_type": "code",
        "colab": {}
      },
      "source": [
        "result_df = pd.DataFrame()\n",
        "result_df['orderid'] = delivery_df['orderid']\n",
        "result_df['is_late'] = delivery_df['is_late']"
      ],
      "execution_count": 50,
      "outputs": []
    },
    {
      "cell_type": "code",
      "metadata": {
        "id": "6Z0zIgeh7ckC",
        "colab_type": "code",
        "colab": {
          "base_uri": "https://localhost:8080/",
          "height": 34
        },
        "outputId": "9b03c085-9e35-444d-9810-fde19db369fa"
      },
      "source": [
        "print(f\"Are the delivery_df and result_df have the same number of rows? {delivery_df.shape[0] == result_df.shape[0]}\")"
      ],
      "execution_count": 54,
      "outputs": [
        {
          "output_type": "stream",
          "text": [
            "Are the delivery_df and result_df have the same number of rows? True\n"
          ],
          "name": "stdout"
        }
      ]
    },
    {
      "cell_type": "code",
      "metadata": {
        "id": "0rDs8HflCaR2",
        "colab_type": "code",
        "colab": {}
      },
      "source": [
        "result_df.to_csv('submission.csv', index=False)"
      ],
      "execution_count": 53,
      "outputs": []
    }
  ]
}