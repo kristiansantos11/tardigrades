{
 "cells": [
  {
   "cell_type": "code",
   "execution_count": 1,
   "metadata": {},
   "outputs": [],
   "source": [
    "import pandas as pd"
   ]
  },
  {
   "cell_type": "markdown",
   "metadata": {},
   "source": [
    "import pandas as pd"
   ]
  },
  {
   "cell_type": "code",
   "execution_count": null,
   "metadata": {},
   "outputs": [],
   "source": []
  },
  {
   "cell_type": "code",
   "execution_count": 2,
   "metadata": {},
   "outputs": [],
   "source": [
    "#Imporing the data and transforming it into useable dataset"
   ]
  },
  {
   "cell_type": "code",
   "execution_count": null,
   "metadata": {},
   "outputs": [],
   "source": []
  },
  {
   "cell_type": "code",
   "execution_count": 3,
   "metadata": {},
   "outputs": [],
   "source": [
    "dataBin = pd.read_csv('order_brush_order.csv')"
   ]
  },
  {
   "cell_type": "code",
   "execution_count": 4,
   "metadata": {},
   "outputs": [],
   "source": [
    "dataBin = dataBin.drop(['orderid'], axis='columns')"
   ]
  },
  {
   "cell_type": "code",
   "execution_count": 5,
   "metadata": {},
   "outputs": [],
   "source": [
    "from datetime import datetime"
   ]
  },
  {
   "cell_type": "code",
   "execution_count": 6,
   "metadata": {},
   "outputs": [],
   "source": [
    "dFormat = '%Y-%m-%d %H:%M:%S'\n",
    "dataBin['year'] = dataBin['event_time'].apply(lambda x: int(datetime.strptime(x, dFormat).strftime(\"%Y\")))\n",
    "dataBin['month'] = dataBin['event_time'].apply(lambda x:  int(datetime.strptime(x, dFormat).strftime(\"%m\")))\n",
    "dataBin['date'] = dataBin['event_time'].apply(lambda x: int( datetime.strptime(x, dFormat).strftime(\"%d\")))\n",
    "dataBin['hour'] = dataBin['event_time'].apply(lambda x: int( datetime.strptime(x, dFormat).strftime(\"%H\")))\n",
    "dataBin['minute'] = dataBin['event_time'].apply(lambda x: int( datetime.strptime(x, dFormat).strftime(\"%M\")))"
   ]
  },
  {
   "cell_type": "code",
   "execution_count": 7,
   "metadata": {},
   "outputs": [],
   "source": [
    "dataBin = dataBin.drop(['event_time'], axis='columns')\n",
    "dataBin = dataBin.drop(['month'], axis = 'columns')\n",
    "dataBin = dataBin.drop(['year'], axis = 'columns')"
   ]
  },
  {
   "cell_type": "code",
   "execution_count": null,
   "metadata": {},
   "outputs": [],
   "source": []
  },
  {
   "cell_type": "code",
   "execution_count": 8,
   "metadata": {},
   "outputs": [],
   "source": [
    "# Applying data transformation for analysis"
   ]
  },
  {
   "cell_type": "code",
   "execution_count": null,
   "metadata": {},
   "outputs": [],
   "source": []
  },
  {
   "cell_type": "code",
   "execution_count": 9,
   "metadata": {},
   "outputs": [],
   "source": [
    "dataBin['timePoint'] = ((dataBin['date'] - 27) * 60*24) +  dataBin['hour'] * 60 + dataBin['minute']"
   ]
  },
  {
   "cell_type": "code",
   "execution_count": 10,
   "metadata": {},
   "outputs": [],
   "source": [
    "transactCt = dataBin.groupby('shopid')['shopid'].agg('count')"
   ]
  },
  {
   "cell_type": "code",
   "execution_count": 11,
   "metadata": {},
   "outputs": [],
   "source": [
    "listShop = dataBin['shopid'].unique()"
   ]
  },
  {
   "cell_type": "code",
   "execution_count": 12,
   "metadata": {},
   "outputs": [],
   "source": [
    "frequentShops = dict()\n",
    "for items in listShop:\n",
    "    if (transactCt[int(items)] >= 1):\n",
    "        frequentShops[items] = transactCt[int(items)]"
   ]
  },
  {
   "cell_type": "code",
   "execution_count": null,
   "metadata": {},
   "outputs": [],
   "source": []
  },
  {
   "cell_type": "code",
   "execution_count": 13,
   "metadata": {},
   "outputs": [],
   "source": [
    "# Setting up functions for data analysis"
   ]
  },
  {
   "cell_type": "code",
   "execution_count": null,
   "metadata": {},
   "outputs": [],
   "source": []
  },
  {
   "cell_type": "code",
   "execution_count": 14,
   "metadata": {},
   "outputs": [],
   "source": [
    "def checkBrushing():\n",
    "    shopList = dict()\n",
    "    \n",
    "    for shops in frequentShops:\n",
    "        \n",
    "        shopList[shops] = list()\n",
    "        \n",
    "        x = dataBin[dataBin['shopid'] == shops]\n",
    "        x = x.sort_values(by = ['timePoint'])\n",
    "        \n",
    "        \n",
    "        brush_oc = 0\n",
    "        ctr_time = -999\n",
    "        pend_list = list()\n",
    "        x_handler = None\n",
    "        \n",
    "        for ctr in x['timePoint'].index:\n",
    "            if (ctr_time == -999):\n",
    "                ctr_time = x['timePoint'][ctr]\n",
    "                x_handler = x['userid'][ctr]\n",
    "                \n",
    "            elif (abs(x['timePoint'][ctr] - ctr_time) > 10):\n",
    "                \n",
    "                ctr_time = x['timePoint'][ctr]\n",
    "                x_handler = x['userid'][ctr]\n",
    "                #print(ctr_time)\n",
    "                \n",
    "                if (brush_oc >= 2):\n",
    "                    #print(pend_list)\n",
    "                    for pending in pend_list:\n",
    "                        shopList[shops].append(pending)\n",
    "                \n",
    "                brush_oc = 0\n",
    "                pend_list = list()\n",
    "                \n",
    "            else:\n",
    "                brush_oc += 1\n",
    "\n",
    "                if (brush_oc == 1):\n",
    "                    pend_list.append(x_handler)\n",
    "                    pend_list.append(x['userid'][ctr])\n",
    "                elif (brush_oc > 1):\n",
    "                    pend_list.append(x['userid'][ctr])\n",
    "                    \n",
    "                    \n",
    "                ctr_time = x['timePoint'][ctr]\n",
    "                    \n",
    "    return shopList                "
   ]
  },
  {
   "cell_type": "code",
   "execution_count": 15,
   "metadata": {},
   "outputs": [],
   "source": [
    "def occurence_counter(List):\n",
    "    retList = dict()\n",
    "    \n",
    "    for item in List:\n",
    "        if item in retList:\n",
    "            retList[item] += 1\n",
    "        else:\n",
    "            retList[item] = 1\n",
    "    \n",
    "    returning = list()\n",
    "    \n",
    "    for key in retList:\n",
    "        if (retList[key] >= 2):\n",
    "            returning.append(key)\n",
    "            \n",
    "    return returning\n",
    "    \n",
    "    "
   ]
  },
  {
   "cell_type": "code",
   "execution_count": 16,
   "metadata": {},
   "outputs": [],
   "source": [
    "def listToString(s):  \n",
    "    \n",
    "    # initialize an empty string \n",
    "    str1 = \"\"  \n",
    "    \n",
    "    # traverse in the string   \n",
    "    if (len(s) != 0):\n",
    "        for ele in s:  \n",
    "            str1 += str(ele)\n",
    "            str1 += \"&\"\n",
    "        \n",
    "        str1 = str1[:len(str1)-1]\n",
    "    \n",
    "    # return string   \n",
    "    return str1  "
   ]
  },
  {
   "cell_type": "code",
   "execution_count": null,
   "metadata": {},
   "outputs": [],
   "source": []
  },
  {
   "cell_type": "code",
   "execution_count": 17,
   "metadata": {},
   "outputs": [],
   "source": [
    "# Data Analysis"
   ]
  },
  {
   "cell_type": "code",
   "execution_count": null,
   "metadata": {},
   "outputs": [],
   "source": []
  },
  {
   "cell_type": "code",
   "execution_count": 18,
   "metadata": {},
   "outputs": [],
   "source": [
    "extract = checkBrushing()"
   ]
  },
  {
   "cell_type": "code",
   "execution_count": 19,
   "metadata": {},
   "outputs": [],
   "source": [
    "dataBin2 = pd.DataFrame()\n",
    "dataBin2['shopid'] = [i for i in extract]"
   ]
  },
  {
   "cell_type": "code",
   "execution_count": 20,
   "metadata": {},
   "outputs": [],
   "source": [
    "dataBin2['count'] = [len(extract[i]) for i in extract]"
   ]
  },
  {
   "cell_type": "code",
   "execution_count": 21,
   "metadata": {},
   "outputs": [],
   "source": [
    "dataBin2['userid'] = [occurence_counter(extract[i]) for i in extract]"
   ]
  },
  {
   "cell_type": "code",
   "execution_count": null,
   "metadata": {},
   "outputs": [],
   "source": []
  },
  {
   "cell_type": "code",
   "execution_count": 22,
   "metadata": {},
   "outputs": [],
   "source": [
    "#Removal of filler buyers"
   ]
  },
  {
   "cell_type": "code",
   "execution_count": null,
   "metadata": {},
   "outputs": [],
   "source": []
  },
  {
   "cell_type": "code",
   "execution_count": 23,
   "metadata": {},
   "outputs": [],
   "source": [
    "dataBin2 = dataBin2[dataBin2['count'] > 3]"
   ]
  },
  {
   "cell_type": "code",
   "execution_count": 24,
   "metadata": {},
   "outputs": [],
   "source": [
    "dataBin2 = dataBin2[dataBin2['userid'] != 0]"
   ]
  },
  {
   "cell_type": "code",
   "execution_count": 25,
   "metadata": {},
   "outputs": [],
   "source": [
    "dataBin2['userid2'] = dataBin2['userid'].apply(lambda x: listToString(x))"
   ]
  },
  {
   "cell_type": "code",
   "execution_count": 26,
   "metadata": {},
   "outputs": [],
   "source": [
    "dataBin3 = dataBin2[['shopid','userid2']]"
   ]
  },
  {
   "cell_type": "code",
   "execution_count": 27,
   "metadata": {},
   "outputs": [],
   "source": [
    "dataBin3 = dataBin3.rename(columns = {'userid2':'userid'})"
   ]
  },
  {
   "cell_type": "code",
   "execution_count": 28,
   "metadata": {},
   "outputs": [],
   "source": [
    "dataBinFinal = pd.DataFrame()"
   ]
  },
  {
   "cell_type": "code",
   "execution_count": 29,
   "metadata": {},
   "outputs": [],
   "source": [
    "dataBinFinal['shopid'] = listShop"
   ]
  },
  {
   "cell_type": "code",
   "execution_count": 30,
   "metadata": {},
   "outputs": [],
   "source": [
    "dataBinFinal = pd.merge(dataBinFinal, dataBin3, how='left')"
   ]
  },
  {
   "cell_type": "code",
   "execution_count": 31,
   "metadata": {},
   "outputs": [],
   "source": [
    "dataBinFinal['userid'] = dataBinFinal['userid'].apply(lambda x: '0' if ((x == 0) or (x == '')) else x)"
   ]
  },
  {
   "cell_type": "code",
   "execution_count": 32,
   "metadata": {},
   "outputs": [],
   "source": [
    "dataBinFinal = dataBinFinal.fillna(0)"
   ]
  },
  {
   "cell_type": "code",
   "execution_count": 33,
   "metadata": {},
   "outputs": [],
   "source": [
    "dataBinFinal.to_csv('exprtCSV.csv', index=False)"
   ]
  },
  {
   "cell_type": "code",
   "execution_count": 34,
   "metadata": {},
   "outputs": [
    {
     "data": {
      "text/plain": [
       "userid\n",
       "0                                                          18071\n",
       "0                                                            247\n",
       "100793597&55375223&123073475&14512957&97325553&96470129        1\n",
       "10209247                                                       1\n",
       "102125116                                                      1\n",
       "                                                           ...  \n",
       "9837180                                                        1\n",
       "9837180&37720791&123365889                                     1\n",
       "98771800&159224660&131375087                                   1\n",
       "99177476                                                       1\n",
       "99691479                                                       1\n",
       "Name: userid, Length: 451, dtype: int64"
      ]
     },
     "execution_count": 34,
     "metadata": {},
     "output_type": "execute_result"
    }
   ],
   "source": [
    "dataBinFinal.groupby('userid')['userid'].agg('count')"
   ]
  },
  {
   "cell_type": "code",
   "execution_count": 35,
   "metadata": {},
   "outputs": [],
   "source": [
    "#dataBin2.sort_values(by = ['count'], ascending=False)"
   ]
  },
  {
   "cell_type": "code",
   "execution_count": 36,
   "metadata": {},
   "outputs": [
    {
     "data": {
      "text/plain": [
       "(18770, 2)"
      ]
     },
     "execution_count": 36,
     "metadata": {},
     "output_type": "execute_result"
    }
   ],
   "source": [
    "dataBinFinal.shape"
   ]
  },
  {
   "cell_type": "code",
   "execution_count": 37,
   "metadata": {},
   "outputs": [
    {
     "data": {
      "text/html": [
       "<div>\n",
       "<style scoped>\n",
       "    .dataframe tbody tr th:only-of-type {\n",
       "        vertical-align: middle;\n",
       "    }\n",
       "\n",
       "    .dataframe tbody tr th {\n",
       "        vertical-align: top;\n",
       "    }\n",
       "\n",
       "    .dataframe thead th {\n",
       "        text-align: right;\n",
       "    }\n",
       "</style>\n",
       "<table border=\"1\" class=\"dataframe\">\n",
       "  <thead>\n",
       "    <tr style=\"text-align: right;\">\n",
       "      <th></th>\n",
       "      <th>shopid</th>\n",
       "      <th>userid</th>\n",
       "    </tr>\n",
       "  </thead>\n",
       "  <tbody>\n",
       "    <tr>\n",
       "      <th>2279</th>\n",
       "      <td>149773657</td>\n",
       "      <td>99691479</td>\n",
       "    </tr>\n",
       "    <tr>\n",
       "      <th>2137</th>\n",
       "      <td>11342466</td>\n",
       "      <td>99177476</td>\n",
       "    </tr>\n",
       "    <tr>\n",
       "      <th>1203</th>\n",
       "      <td>51960315</td>\n",
       "      <td>98771800&amp;159224660&amp;131375087</td>\n",
       "    </tr>\n",
       "    <tr>\n",
       "      <th>2624</th>\n",
       "      <td>54054704</td>\n",
       "      <td>9837180&amp;37720791&amp;123365889</td>\n",
       "    </tr>\n",
       "    <tr>\n",
       "      <th>1011</th>\n",
       "      <td>49674796</td>\n",
       "      <td>9837180</td>\n",
       "    </tr>\n",
       "    <tr>\n",
       "      <th>...</th>\n",
       "      <td>...</td>\n",
       "      <td>...</td>\n",
       "    </tr>\n",
       "    <tr>\n",
       "      <th>720</th>\n",
       "      <td>50090018</td>\n",
       "      <td></td>\n",
       "    </tr>\n",
       "    <tr>\n",
       "      <th>2204</th>\n",
       "      <td>90172857</td>\n",
       "      <td></td>\n",
       "    </tr>\n",
       "    <tr>\n",
       "      <th>2189</th>\n",
       "      <td>10678993</td>\n",
       "      <td></td>\n",
       "    </tr>\n",
       "    <tr>\n",
       "      <th>736</th>\n",
       "      <td>99510463</td>\n",
       "      <td></td>\n",
       "    </tr>\n",
       "    <tr>\n",
       "      <th>0</th>\n",
       "      <td>93950878</td>\n",
       "      <td></td>\n",
       "    </tr>\n",
       "  </tbody>\n",
       "</table>\n",
       "<p>699 rows × 2 columns</p>\n",
       "</div>"
      ],
      "text/plain": [
       "         shopid                        userid\n",
       "2279  149773657                      99691479\n",
       "2137   11342466                      99177476\n",
       "1203   51960315  98771800&159224660&131375087\n",
       "2624   54054704    9837180&37720791&123365889\n",
       "1011   49674796                       9837180\n",
       "...         ...                           ...\n",
       "720    50090018                              \n",
       "2204   90172857                              \n",
       "2189   10678993                              \n",
       "736    99510463                              \n",
       "0      93950878                              \n",
       "\n",
       "[699 rows x 2 columns]"
      ]
     },
     "execution_count": 37,
     "metadata": {},
     "output_type": "execute_result"
    }
   ],
   "source": [
    "dataBin3.sort_values(by = ['userid'], ascending=False)"
   ]
  },
  {
   "cell_type": "code",
   "execution_count": 38,
   "metadata": {},
   "outputs": [
    {
     "data": {
      "text/html": [
       "<div>\n",
       "<style scoped>\n",
       "    .dataframe tbody tr th:only-of-type {\n",
       "        vertical-align: middle;\n",
       "    }\n",
       "\n",
       "    .dataframe tbody tr th {\n",
       "        vertical-align: top;\n",
       "    }\n",
       "\n",
       "    .dataframe thead th {\n",
       "        text-align: right;\n",
       "    }\n",
       "</style>\n",
       "<table border=\"1\" class=\"dataframe\">\n",
       "  <thead>\n",
       "    <tr style=\"text-align: right;\">\n",
       "      <th></th>\n",
       "      <th>shopid</th>\n",
       "      <th>userid</th>\n",
       "    </tr>\n",
       "  </thead>\n",
       "  <tbody>\n",
       "    <tr>\n",
       "      <th>1</th>\n",
       "      <td>156423439</td>\n",
       "      <td>0</td>\n",
       "    </tr>\n",
       "    <tr>\n",
       "      <th>3</th>\n",
       "      <td>63674025</td>\n",
       "      <td>0</td>\n",
       "    </tr>\n",
       "    <tr>\n",
       "      <th>4</th>\n",
       "      <td>127249066</td>\n",
       "      <td>0</td>\n",
       "    </tr>\n",
       "    <tr>\n",
       "      <th>5</th>\n",
       "      <td>173811070</td>\n",
       "      <td>0</td>\n",
       "    </tr>\n",
       "    <tr>\n",
       "      <th>6</th>\n",
       "      <td>107921853</td>\n",
       "      <td>113289032&amp;4950388&amp;101766677&amp;78896980&amp;2954376&amp;2...</td>\n",
       "    </tr>\n",
       "    <tr>\n",
       "      <th>...</th>\n",
       "      <td>...</td>\n",
       "      <td>...</td>\n",
       "    </tr>\n",
       "    <tr>\n",
       "      <th>18765</th>\n",
       "      <td>163337224</td>\n",
       "      <td>0</td>\n",
       "    </tr>\n",
       "    <tr>\n",
       "      <th>18766</th>\n",
       "      <td>772599</td>\n",
       "      <td>0</td>\n",
       "    </tr>\n",
       "    <tr>\n",
       "      <th>18767</th>\n",
       "      <td>50236030</td>\n",
       "      <td>0</td>\n",
       "    </tr>\n",
       "    <tr>\n",
       "      <th>18768</th>\n",
       "      <td>203587596</td>\n",
       "      <td>0</td>\n",
       "    </tr>\n",
       "    <tr>\n",
       "      <th>18769</th>\n",
       "      <td>147118226</td>\n",
       "      <td>0</td>\n",
       "    </tr>\n",
       "  </tbody>\n",
       "</table>\n",
       "<p>18523 rows × 2 columns</p>\n",
       "</div>"
      ],
      "text/plain": [
       "          shopid                                             userid\n",
       "1      156423439                                                  0\n",
       "3       63674025                                                  0\n",
       "4      127249066                                                  0\n",
       "5      173811070                                                  0\n",
       "6      107921853  113289032&4950388&101766677&78896980&2954376&2...\n",
       "...          ...                                                ...\n",
       "18765  163337224                                                  0\n",
       "18766     772599                                                  0\n",
       "18767   50236030                                                  0\n",
       "18768  203587596                                                  0\n",
       "18769  147118226                                                  0\n",
       "\n",
       "[18523 rows x 2 columns]"
      ]
     },
     "execution_count": 38,
     "metadata": {},
     "output_type": "execute_result"
    }
   ],
   "source": [
    "dataBinFinal[dataBinFinal['userid'] != '0']"
   ]
  },
  {
   "cell_type": "code",
   "execution_count": 39,
   "metadata": {},
   "outputs": [
    {
     "data": {
      "text/plain": [
       "18770"
      ]
     },
     "execution_count": 39,
     "metadata": {},
     "output_type": "execute_result"
    }
   ],
   "source": [
    "len(frequentShops)"
   ]
  },
  {
   "cell_type": "code",
   "execution_count": 40,
   "metadata": {},
   "outputs": [
    {
     "data": {
      "text/html": [
       "<div>\n",
       "<style scoped>\n",
       "    .dataframe tbody tr th:only-of-type {\n",
       "        vertical-align: middle;\n",
       "    }\n",
       "\n",
       "    .dataframe tbody tr th {\n",
       "        vertical-align: top;\n",
       "    }\n",
       "\n",
       "    .dataframe thead th {\n",
       "        text-align: right;\n",
       "    }\n",
       "</style>\n",
       "<table border=\"1\" class=\"dataframe\">\n",
       "  <thead>\n",
       "    <tr style=\"text-align: right;\">\n",
       "      <th></th>\n",
       "      <th>shopid</th>\n",
       "      <th>userid</th>\n",
       "      <th>date</th>\n",
       "      <th>hour</th>\n",
       "      <th>minute</th>\n",
       "      <th>timePoint</th>\n",
       "    </tr>\n",
       "  </thead>\n",
       "  <tbody>\n",
       "    <tr>\n",
       "      <th>count</th>\n",
       "      <td>2.227500e+05</td>\n",
       "      <td>2.227500e+05</td>\n",
       "      <td>222750.000000</td>\n",
       "      <td>222750.000000</td>\n",
       "      <td>222750.000000</td>\n",
       "      <td>222750.000000</td>\n",
       "    </tr>\n",
       "    <tr>\n",
       "      <th>mean</th>\n",
       "      <td>9.433117e+07</td>\n",
       "      <td>9.802880e+07</td>\n",
       "      <td>29.025917</td>\n",
       "      <td>13.401715</td>\n",
       "      <td>29.195232</td>\n",
       "      <td>3750.618532</td>\n",
       "    </tr>\n",
       "    <tr>\n",
       "      <th>std</th>\n",
       "      <td>5.695790e+07</td>\n",
       "      <td>6.839048e+07</td>\n",
       "      <td>1.393320</td>\n",
       "      <td>6.929045</td>\n",
       "      <td>17.393935</td>\n",
       "      <td>2037.957849</td>\n",
       "    </tr>\n",
       "    <tr>\n",
       "      <th>min</th>\n",
       "      <td>1.000900e+04</td>\n",
       "      <td>1.000700e+04</td>\n",
       "      <td>27.000000</td>\n",
       "      <td>0.000000</td>\n",
       "      <td>0.000000</td>\n",
       "      <td>0.000000</td>\n",
       "    </tr>\n",
       "    <tr>\n",
       "      <th>25%</th>\n",
       "      <td>4.980267e+07</td>\n",
       "      <td>3.508127e+07</td>\n",
       "      <td>28.000000</td>\n",
       "      <td>9.000000</td>\n",
       "      <td>14.000000</td>\n",
       "      <td>2139.000000</td>\n",
       "    </tr>\n",
       "    <tr>\n",
       "      <th>50%</th>\n",
       "      <td>9.033636e+07</td>\n",
       "      <td>9.309625e+07</td>\n",
       "      <td>29.000000</td>\n",
       "      <td>14.000000</td>\n",
       "      <td>29.000000</td>\n",
       "      <td>3840.000000</td>\n",
       "    </tr>\n",
       "    <tr>\n",
       "      <th>75%</th>\n",
       "      <td>1.475053e+08</td>\n",
       "      <td>1.590612e+08</td>\n",
       "      <td>30.000000</td>\n",
       "      <td>19.000000</td>\n",
       "      <td>44.000000</td>\n",
       "      <td>5513.000000</td>\n",
       "    </tr>\n",
       "    <tr>\n",
       "      <th>max</th>\n",
       "      <td>2.154352e+08</td>\n",
       "      <td>2.155262e+08</td>\n",
       "      <td>31.000000</td>\n",
       "      <td>23.000000</td>\n",
       "      <td>59.000000</td>\n",
       "      <td>7199.000000</td>\n",
       "    </tr>\n",
       "  </tbody>\n",
       "</table>\n",
       "</div>"
      ],
      "text/plain": [
       "             shopid        userid           date           hour  \\\n",
       "count  2.227500e+05  2.227500e+05  222750.000000  222750.000000   \n",
       "mean   9.433117e+07  9.802880e+07      29.025917      13.401715   \n",
       "std    5.695790e+07  6.839048e+07       1.393320       6.929045   \n",
       "min    1.000900e+04  1.000700e+04      27.000000       0.000000   \n",
       "25%    4.980267e+07  3.508127e+07      28.000000       9.000000   \n",
       "50%    9.033636e+07  9.309625e+07      29.000000      14.000000   \n",
       "75%    1.475053e+08  1.590612e+08      30.000000      19.000000   \n",
       "max    2.154352e+08  2.155262e+08      31.000000      23.000000   \n",
       "\n",
       "              minute      timePoint  \n",
       "count  222750.000000  222750.000000  \n",
       "mean       29.195232    3750.618532  \n",
       "std        17.393935    2037.957849  \n",
       "min         0.000000       0.000000  \n",
       "25%        14.000000    2139.000000  \n",
       "50%        29.000000    3840.000000  \n",
       "75%        44.000000    5513.000000  \n",
       "max        59.000000    7199.000000  "
      ]
     },
     "execution_count": 40,
     "metadata": {},
     "output_type": "execute_result"
    }
   ],
   "source": [
    "dataBin.describe()"
   ]
  },
  {
   "cell_type": "code",
   "execution_count": null,
   "metadata": {},
   "outputs": [],
   "source": []
  }
 ],
 "metadata": {
  "kernelspec": {
   "display_name": "Python 3",
   "language": "python",
   "name": "python3"
  },
  "language_info": {
   "codemirror_mode": {
    "name": "ipython",
    "version": 3
   },
   "file_extension": ".py",
   "mimetype": "text/x-python",
   "name": "python",
   "nbconvert_exporter": "python",
   "pygments_lexer": "ipython3",
   "version": "3.7.0"
  }
 },
 "nbformat": 4,
 "nbformat_minor": 4
}
