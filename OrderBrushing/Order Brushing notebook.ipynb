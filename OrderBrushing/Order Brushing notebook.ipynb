{
 "cells": [
  {
   "cell_type": "code",
   "execution_count": null,
   "metadata": {},
   "outputs": [],
   "source": [
    "## Import pandas as pd and numpy as np and read csv file"
   ]
  },
  {
   "cell_type": "code",
   "execution_count": 32,
   "metadata": {},
   "outputs": [],
   "source": [
    "import pandas as pd\n",
    "import numpy as np\n",
    "\n",
    "dataBin = pd.read_csv('order_brush_order.csv')"
   ]
  },
  {
   "cell_type": "markdown",
   "metadata": {},
   "source": [
    " "
   ]
  },
  {
   "cell_type": "markdown",
   "metadata": {},
   "source": [
    "**Process:** Parsing Time"
   ]
  },
  {
   "cell_type": "markdown",
   "metadata": {},
   "source": [
    "  "
   ]
  },
  {
   "cell_type": "code",
   "execution_count": 3,
   "metadata": {},
   "outputs": [],
   "source": [
    "from datetime import datetime"
   ]
  },
  {
   "cell_type": "code",
   "execution_count": 33,
   "metadata": {},
   "outputs": [],
   "source": [
    "dFormat = '%Y-%m-%d %H:%M:%S'\n",
    "dataBin['date'] = dataBin['event_time'].apply(lambda x: int( datetime.strptime(x, dFormat).strftime(\"%d\")))\n",
    "dataBin['hour'] = dataBin['event_time'].apply(lambda x: int( datetime.strptime(x, dFormat).strftime(\"%H\")))\n",
    "dataBin['minute'] = dataBin['event_time'].apply(lambda x: int( datetime.strptime(x, dFormat).strftime(\"%M\")))"
   ]
  },
  {
   "cell_type": "markdown",
   "metadata": {},
   "source": [
    " "
   ]
  },
  {
   "cell_type": "markdown",
   "metadata": {},
   "source": [
    "**Process:** Drop the event time, the year(since all of them are 2019), the month (since all of them are 12) and the orderid(they are insignificant)"
   ]
  },
  {
   "cell_type": "markdown",
   "metadata": {},
   "source": [
    "  "
   ]
  },
  {
   "cell_type": "code",
   "execution_count": 5,
   "metadata": {},
   "outputs": [],
   "source": [
    "dataBin = dataBin.drop(['event_time', 'orderid'], axis='columns')"
   ]
  },
  {
   "cell_type": "code",
   "execution_count": 6,
   "metadata": {},
   "outputs": [
    {
     "data": {
      "text/html": [
       "<div>\n",
       "<style scoped>\n",
       "    .dataframe tbody tr th:only-of-type {\n",
       "        vertical-align: middle;\n",
       "    }\n",
       "\n",
       "    .dataframe tbody tr th {\n",
       "        vertical-align: top;\n",
       "    }\n",
       "\n",
       "    .dataframe thead th {\n",
       "        text-align: right;\n",
       "    }\n",
       "</style>\n",
       "<table border=\"1\" class=\"dataframe\">\n",
       "  <thead>\n",
       "    <tr style=\"text-align: right;\">\n",
       "      <th></th>\n",
       "      <th>shopid</th>\n",
       "      <th>userid</th>\n",
       "      <th>date</th>\n",
       "      <th>hour</th>\n",
       "      <th>minute</th>\n",
       "    </tr>\n",
       "  </thead>\n",
       "  <tbody>\n",
       "    <tr>\n",
       "      <th>0</th>\n",
       "      <td>93950878</td>\n",
       "      <td>30530270</td>\n",
       "      <td>27</td>\n",
       "      <td>0</td>\n",
       "      <td>23</td>\n",
       "    </tr>\n",
       "    <tr>\n",
       "      <th>1</th>\n",
       "      <td>156423439</td>\n",
       "      <td>46057927</td>\n",
       "      <td>27</td>\n",
       "      <td>11</td>\n",
       "      <td>54</td>\n",
       "    </tr>\n",
       "    <tr>\n",
       "      <th>2</th>\n",
       "      <td>173699291</td>\n",
       "      <td>67341739</td>\n",
       "      <td>27</td>\n",
       "      <td>13</td>\n",
       "      <td>22</td>\n",
       "    </tr>\n",
       "    <tr>\n",
       "      <th>3</th>\n",
       "      <td>63674025</td>\n",
       "      <td>149380322</td>\n",
       "      <td>27</td>\n",
       "      <td>13</td>\n",
       "      <td>1</td>\n",
       "    </tr>\n",
       "    <tr>\n",
       "      <th>4</th>\n",
       "      <td>127249066</td>\n",
       "      <td>149493217</td>\n",
       "      <td>27</td>\n",
       "      <td>11</td>\n",
       "      <td>37</td>\n",
       "    </tr>\n",
       "    <tr>\n",
       "      <th>...</th>\n",
       "      <td>...</td>\n",
       "      <td>...</td>\n",
       "      <td>...</td>\n",
       "      <td>...</td>\n",
       "      <td>...</td>\n",
       "    </tr>\n",
       "    <tr>\n",
       "      <th>222745</th>\n",
       "      <td>110868129</td>\n",
       "      <td>193218997</td>\n",
       "      <td>28</td>\n",
       "      <td>23</td>\n",
       "      <td>17</td>\n",
       "    </tr>\n",
       "    <tr>\n",
       "      <th>222746</th>\n",
       "      <td>91639906</td>\n",
       "      <td>3541807</td>\n",
       "      <td>28</td>\n",
       "      <td>19</td>\n",
       "      <td>7</td>\n",
       "    </tr>\n",
       "    <tr>\n",
       "      <th>222747</th>\n",
       "      <td>29391773</td>\n",
       "      <td>135908070</td>\n",
       "      <td>28</td>\n",
       "      <td>8</td>\n",
       "      <td>17</td>\n",
       "    </tr>\n",
       "    <tr>\n",
       "      <th>222748</th>\n",
       "      <td>61556313</td>\n",
       "      <td>27306783</td>\n",
       "      <td>28</td>\n",
       "      <td>10</td>\n",
       "      <td>14</td>\n",
       "    </tr>\n",
       "    <tr>\n",
       "      <th>222749</th>\n",
       "      <td>147941492</td>\n",
       "      <td>127484153</td>\n",
       "      <td>28</td>\n",
       "      <td>0</td>\n",
       "      <td>45</td>\n",
       "    </tr>\n",
       "  </tbody>\n",
       "</table>\n",
       "<p>222750 rows × 5 columns</p>\n",
       "</div>"
      ],
      "text/plain": [
       "           shopid     userid  date  hour  minute\n",
       "0        93950878   30530270    27     0      23\n",
       "1       156423439   46057927    27    11      54\n",
       "2       173699291   67341739    27    13      22\n",
       "3        63674025  149380322    27    13       1\n",
       "4       127249066  149493217    27    11      37\n",
       "...           ...        ...   ...   ...     ...\n",
       "222745  110868129  193218997    28    23      17\n",
       "222746   91639906    3541807    28    19       7\n",
       "222747   29391773  135908070    28     8      17\n",
       "222748   61556313   27306783    28    10      14\n",
       "222749  147941492  127484153    28     0      45\n",
       "\n",
       "[222750 rows x 5 columns]"
      ]
     },
     "execution_count": 6,
     "metadata": {},
     "output_type": "execute_result"
    }
   ],
   "source": [
    "dataBin"
   ]
  },
  {
   "cell_type": "markdown",
   "metadata": {},
   "source": [
    " "
   ]
  },
  {
   "cell_type": "markdown",
   "metadata": {},
   "source": [
    "**Overview:**\n",
    "Since the logic of the code is to iterate over all shops over the scope of time, we need to get a list of all the unique shops"
   ]
  },
  {
   "cell_type": "markdown",
   "metadata": {},
   "source": [
    "  "
   ]
  },
  {
   "cell_type": "code",
   "execution_count": 29,
   "metadata": {},
   "outputs": [],
   "source": [
    "listShop = dataBin['shopid'].unique()"
   ]
  },
  {
   "cell_type": "markdown",
   "metadata": {},
   "source": [
    " "
   ]
  },
  {
   "cell_type": "markdown",
   "metadata": {},
   "source": [
    "**Optimization:** Since order brushing happens when order to buyer ratio is 3 or above. All shops who have a total of 3 transaction below are impossible to have conducted order brushing. So, we can filter all these shops"
   ]
  },
  {
   "cell_type": "markdown",
   "metadata": {},
   "source": [
    " "
   ]
  },
  {
   "cell_type": "code",
   "execution_count": 30,
   "metadata": {},
   "outputs": [],
   "source": [
    "def shopFilter(listShop):\n",
    "    shopCounter = dataBin.groupby('shopid')['shopid'].agg('count')\n",
    "    \n",
    "    shopsQualified = dict()\n",
    "    \n",
    "    for shop in listShop:\n",
    "        if (shopCounter[shop] >= 3):\n",
    "            shopsQualified[shop] = shopCounter[shop]\n",
    "            \n",
    "    return shopsQualified"
   ]
  },
  {
   "cell_type": "code",
   "execution_count": 31,
   "metadata": {},
   "outputs": [],
   "source": [
    "listShopToCheck = shopFilter(listShop)"
   ]
  },
  {
   "cell_type": "markdown",
   "metadata": {},
   "source": [
    "  "
   ]
  },
  {
   "cell_type": "markdown",
   "metadata": {},
   "source": [
    "**Process:** Now, the real chunk of code, Order Brushing Logic"
   ]
  },
  {
   "cell_type": "markdown",
   "metadata": {},
   "source": [
    "    1. Iterate over all shops\n",
    "    2. Sort the time and date of the selected shop\n",
    "    3. Iterate over hours\n",
    "        a. Count all the transaction at that hour\n",
    "        b. Count all the unique buyer at that hour\n",
    "        c. If ratio of transaction to buyer is 3 above, mark as Order Brushing\n",
    "            a1. If order brushing, get the suspect buyer(s) of the period and put in a list\n",
    "    4. After looping through out, check the list for the buyer's most prevalent order brusher"
   ]
  },
  {
   "cell_type": "markdown",
   "metadata": {},
   "source": [
    " "
   ]
  },
  {
   "cell_type": "code",
   "execution_count": 79,
   "metadata": {},
   "outputs": [],
   "source": [
    "def getBestOrderBrusher(brushersList):\n",
    "    \n",
    "    brush_counter = dict()\n",
    "    \n",
    "    for brusher in brushersList:\n",
    "        if (brusher in brush_counter):\n",
    "            brush_counter[brusher] += 1\n",
    "        else:\n",
    "            brush_counter[brusher] = 1\n",
    "    \n",
    "    best_count = 0\n",
    "    best_brusher = list()\n",
    "    \n",
    "    for brusher in brush_counter:\n",
    "        if (brush_counter[brusher] > best_count):\n",
    "            best_brusher = list()\n",
    "            best_brusher.append(brusher)\n",
    "            best_count = brush_counter[brusher]\n",
    "        elif (brush_counter[brusher] == best_count):\n",
    "            best_brusher.append(brusher)\n",
    "            \n",
    "    return best_brusher\n",
    "            "
   ]
  },
  {
   "cell_type": "code",
   "execution_count": 80,
   "metadata": {},
   "outputs": [],
   "source": [
    "def getOrderBrusher(userNames, userCounts):\n",
    "    brushers_list = list()\n",
    "    for name in userNames:\n",
    "        if (userCounts[name] >= 3):\n",
    "            brushers_list.append(name)\n",
    "            \n",
    "    return brushers_list\n",
    "            "
   ]
  },
  {
   "cell_type": "code",
   "execution_count": 81,
   "metadata": {},
   "outputs": [],
   "source": [
    "def checkOrderBrushing(realtimeCheck = False):\n",
    "    orderBrushers = dict()\n",
    "    \n",
    "    for shop in listShopToCheck:\n",
    "        \n",
    "        curShop = dataBin[dataBin['shopid'] == shop]\n",
    "        curShop = curShop.sort_values(by = ['date', 'hour', 'minute'])\n",
    "        \n",
    "        orderBrushers[shop] = list()\n",
    "        \n",
    "        for day in curShop['date'].unique():\n",
    "            x2 = curShop[curShop['date'] == day]\n",
    "            \n",
    "            for hour in x2['hour'].unique():\n",
    "                x3 = x2[x2['hour'] == hour]\n",
    "                \n",
    "                transactions = x3.shape[0]\n",
    "                unique_buyers = x3['userid'].unique()\n",
    "                \n",
    "                if(transactions // len(unique_buyers) >= 3):\n",
    "                    if (realtimeCheck): \n",
    "                        print(\"Shopid: \", shop, \" data: \" , transactions, len(unique_buyers))\n",
    "                        \n",
    "                    unique_buyers_list = x3.groupby('userid')['userid'].agg('count')\n",
    "                    \n",
    "                    orderBrushers[shop] = orderBrushers[shop] + getOrderBrusher(unique_buyers, unique_buyers_list)\n",
    "                    \n",
    "        orderBrushers[shop] = getBestOrderBrusher(orderBrushers[shop])\n",
    "        \n",
    "        \n",
    "    return orderBrushers\n",
    "        "
   ]
  },
  {
   "cell_type": "code",
   "execution_count": 83,
   "metadata": {},
   "outputs": [],
   "source": [
    "brusherSearchResult = checkOrderBrushing()"
   ]
  },
  {
   "cell_type": "markdown",
   "metadata": {},
   "source": [
    " "
   ]
  },
  {
   "cell_type": "markdown",
   "metadata": {},
   "source": [
    "**Process:** We put the brusherSearchResult in the dummy dataBin along with all the shops list"
   ]
  },
  {
   "cell_type": "markdown",
   "metadata": {},
   "source": [
    " "
   ]
  },
  {
   "cell_type": "code",
   "execution_count": 164,
   "metadata": {},
   "outputs": [],
   "source": [
    "dataBin2 = pd.DataFrame()"
   ]
  },
  {
   "cell_type": "code",
   "execution_count": 165,
   "metadata": {},
   "outputs": [],
   "source": [
    "dataBin2['shopid'] = [names for names in brusherSearchResult]"
   ]
  },
  {
   "cell_type": "code",
   "execution_count": 166,
   "metadata": {},
   "outputs": [],
   "source": [
    "dataBin2['userid_raw'] = [brusherSearchResult[names] for names in brusherSearchResult]"
   ]
  },
  {
   "cell_type": "code",
   "execution_count": 167,
   "metadata": {},
   "outputs": [],
   "source": [
    "def userIDFormatWriter(List):\n",
    "    # initialize an empty string \n",
    "    str1 = \"\"  \n",
    "    \n",
    "    # traverse in the string   \n",
    "    if (len(List) != 0):\n",
    "        for ele in List:  \n",
    "            str1 += str(ele)\n",
    "            str1 += \"&\"\n",
    "        \n",
    "        str1 = str1[:len(str1)-1]\n",
    "    \n",
    "    else:\n",
    "        str1 = 0\n",
    "    \n",
    "    # return string   \n",
    "    return str1  "
   ]
  },
  {
   "cell_type": "code",
   "execution_count": 169,
   "metadata": {},
   "outputs": [],
   "source": [
    "dataBin2['userid'] = dataBin2['userid_raw'].apply(lambda x: userIDFormatWriter(x))"
   ]
  },
  {
   "cell_type": "code",
   "execution_count": 170,
   "metadata": {},
   "outputs": [],
   "source": [
    "dataBin2 = dataBin2.drop(['userid_raw'], axis='columns')"
   ]
  },
  {
   "cell_type": "code",
   "execution_count": null,
   "metadata": {},
   "outputs": [],
   "source": []
  },
  {
   "cell_type": "code",
   "execution_count": 171,
   "metadata": {},
   "outputs": [],
   "source": [
    "dataBinFinal = pd.DataFrame()"
   ]
  },
  {
   "cell_type": "code",
   "execution_count": 172,
   "metadata": {},
   "outputs": [],
   "source": [
    "dataBinFinal['shopid'] = listShop"
   ]
  },
  {
   "cell_type": "code",
   "execution_count": 173,
   "metadata": {},
   "outputs": [],
   "source": [
    "dataBinFinal = pd.merge(dataBinFinal, dataBin2, how='left')"
   ]
  },
  {
   "cell_type": "code",
   "execution_count": 174,
   "metadata": {},
   "outputs": [],
   "source": [
    "dataBinFinal['userid'] = dataBinFinal['userid'].fillna(0)"
   ]
  },
  {
   "cell_type": "code",
   "execution_count": null,
   "metadata": {},
   "outputs": [],
   "source": []
  },
  {
   "cell_type": "code",
   "execution_count": 175,
   "metadata": {},
   "outputs": [
    {
     "data": {
      "text/html": [
       "<div>\n",
       "<style scoped>\n",
       "    .dataframe tbody tr th:only-of-type {\n",
       "        vertical-align: middle;\n",
       "    }\n",
       "\n",
       "    .dataframe tbody tr th {\n",
       "        vertical-align: top;\n",
       "    }\n",
       "\n",
       "    .dataframe thead th {\n",
       "        text-align: right;\n",
       "    }\n",
       "</style>\n",
       "<table border=\"1\" class=\"dataframe\">\n",
       "  <thead>\n",
       "    <tr style=\"text-align: right;\">\n",
       "      <th></th>\n",
       "      <th>shopid</th>\n",
       "      <th>userid</th>\n",
       "    </tr>\n",
       "  </thead>\n",
       "  <tbody>\n",
       "    <tr>\n",
       "      <th>0</th>\n",
       "      <td>93950878</td>\n",
       "      <td>0</td>\n",
       "    </tr>\n",
       "    <tr>\n",
       "      <th>1</th>\n",
       "      <td>156423439</td>\n",
       "      <td>0</td>\n",
       "    </tr>\n",
       "    <tr>\n",
       "      <th>2</th>\n",
       "      <td>173699291</td>\n",
       "      <td>0</td>\n",
       "    </tr>\n",
       "    <tr>\n",
       "      <th>3</th>\n",
       "      <td>63674025</td>\n",
       "      <td>0</td>\n",
       "    </tr>\n",
       "    <tr>\n",
       "      <th>4</th>\n",
       "      <td>127249066</td>\n",
       "      <td>0</td>\n",
       "    </tr>\n",
       "    <tr>\n",
       "      <th>...</th>\n",
       "      <td>...</td>\n",
       "      <td>...</td>\n",
       "    </tr>\n",
       "    <tr>\n",
       "      <th>18765</th>\n",
       "      <td>163337224</td>\n",
       "      <td>0</td>\n",
       "    </tr>\n",
       "    <tr>\n",
       "      <th>18766</th>\n",
       "      <td>772599</td>\n",
       "      <td>0</td>\n",
       "    </tr>\n",
       "    <tr>\n",
       "      <th>18767</th>\n",
       "      <td>50236030</td>\n",
       "      <td>0</td>\n",
       "    </tr>\n",
       "    <tr>\n",
       "      <th>18768</th>\n",
       "      <td>203587596</td>\n",
       "      <td>0</td>\n",
       "    </tr>\n",
       "    <tr>\n",
       "      <th>18769</th>\n",
       "      <td>147118226</td>\n",
       "      <td>0</td>\n",
       "    </tr>\n",
       "  </tbody>\n",
       "</table>\n",
       "<p>18770 rows × 2 columns</p>\n",
       "</div>"
      ],
      "text/plain": [
       "          shopid userid\n",
       "0       93950878      0\n",
       "1      156423439      0\n",
       "2      173699291      0\n",
       "3       63674025      0\n",
       "4      127249066      0\n",
       "...          ...    ...\n",
       "18765  163337224      0\n",
       "18766     772599      0\n",
       "18767   50236030      0\n",
       "18768  203587596      0\n",
       "18769  147118226      0\n",
       "\n",
       "[18770 rows x 2 columns]"
      ]
     },
     "execution_count": 175,
     "metadata": {},
     "output_type": "execute_result"
    }
   ],
   "source": [
    "dataBinFinal"
   ]
  },
  {
   "cell_type": "code",
   "execution_count": 176,
   "metadata": {},
   "outputs": [],
   "source": [
    "dataBinFinal.to_csv(\"OrderBrushingTry1.csv\", index=False)"
   ]
  },
  {
   "cell_type": "code",
   "execution_count": null,
   "metadata": {},
   "outputs": [],
   "source": []
  }
 ],
 "metadata": {
  "kernelspec": {
   "display_name": "Python 3",
   "language": "python",
   "name": "python3"
  },
  "language_info": {
   "codemirror_mode": {
    "name": "ipython",
    "version": 3
   },
   "file_extension": ".py",
   "mimetype": "text/x-python",
   "name": "python",
   "nbconvert_exporter": "python",
   "pygments_lexer": "ipython3",
   "version": "3.7.6"
  }
 },
 "nbformat": 4,
 "nbformat_minor": 4
}
