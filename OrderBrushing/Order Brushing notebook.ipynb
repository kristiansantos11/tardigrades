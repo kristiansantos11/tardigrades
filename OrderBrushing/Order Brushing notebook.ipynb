{
 "cells": [
  {
   "cell_type": "markdown",
   "metadata": {},
   "source": [
    "## Import pandas as pd and numpy as np and read csv file"
   ]
  },
  {
   "cell_type": "code",
   "execution_count": 2,
   "metadata": {},
   "outputs": [],
   "source": [
    "import pandas as pd\n",
    "import numpy as np\n",
    "\n",
    "order_df = pd.read_csv('order_brush_order.csv')"
   ]
  },
  {
   "cell_type": "markdown",
   "metadata": {},
   "source": [
    "Convert event_time inside order_df dataframe from String into Datetime object (to apply delta-time operation later)"
   ]
  },
  {
   "cell_type": "code",
   "execution_count": 5,
   "metadata": {},
   "outputs": [
    {
     "data": {
      "text/html": [
       "<div>\n",
       "<style scoped>\n",
       "    .dataframe tbody tr th:only-of-type {\n",
       "        vertical-align: middle;\n",
       "    }\n",
       "\n",
       "    .dataframe tbody tr th {\n",
       "        vertical-align: top;\n",
       "    }\n",
       "\n",
       "    .dataframe thead th {\n",
       "        text-align: right;\n",
       "    }\n",
       "</style>\n",
       "<table border=\"1\" class=\"dataframe\">\n",
       "  <thead>\n",
       "    <tr style=\"text-align: right;\">\n",
       "      <th></th>\n",
       "      <th>orderid</th>\n",
       "      <th>shopid</th>\n",
       "      <th>userid</th>\n",
       "      <th>event_time</th>\n",
       "    </tr>\n",
       "  </thead>\n",
       "  <tbody>\n",
       "    <tr>\n",
       "      <th>0</th>\n",
       "      <td>31076582227611</td>\n",
       "      <td>93950878</td>\n",
       "      <td>30530270</td>\n",
       "      <td>2019-12-27 00:23:03</td>\n",
       "    </tr>\n",
       "    <tr>\n",
       "      <th>1</th>\n",
       "      <td>31118059853484</td>\n",
       "      <td>156423439</td>\n",
       "      <td>46057927</td>\n",
       "      <td>2019-12-27 11:54:20</td>\n",
       "    </tr>\n",
       "    <tr>\n",
       "      <th>2</th>\n",
       "      <td>31123355095755</td>\n",
       "      <td>173699291</td>\n",
       "      <td>67341739</td>\n",
       "      <td>2019-12-27 13:22:35</td>\n",
       "    </tr>\n",
       "    <tr>\n",
       "      <th>3</th>\n",
       "      <td>31122059872723</td>\n",
       "      <td>63674025</td>\n",
       "      <td>149380322</td>\n",
       "      <td>2019-12-27 13:01:00</td>\n",
       "    </tr>\n",
       "    <tr>\n",
       "      <th>4</th>\n",
       "      <td>31117075665123</td>\n",
       "      <td>127249066</td>\n",
       "      <td>149493217</td>\n",
       "      <td>2019-12-27 11:37:55</td>\n",
       "    </tr>\n",
       "    <tr>\n",
       "      <th>...</th>\n",
       "      <td>...</td>\n",
       "      <td>...</td>\n",
       "      <td>...</td>\n",
       "      <td>...</td>\n",
       "    </tr>\n",
       "    <tr>\n",
       "      <th>222745</th>\n",
       "      <td>31245479170194</td>\n",
       "      <td>110868129</td>\n",
       "      <td>193218997</td>\n",
       "      <td>2019-12-28 23:17:59</td>\n",
       "    </tr>\n",
       "    <tr>\n",
       "      <th>222746</th>\n",
       "      <td>31230440360374</td>\n",
       "      <td>91639906</td>\n",
       "      <td>3541807</td>\n",
       "      <td>2019-12-28 19:07:20</td>\n",
       "    </tr>\n",
       "    <tr>\n",
       "      <th>222747</th>\n",
       "      <td>31191471145838</td>\n",
       "      <td>29391773</td>\n",
       "      <td>135908070</td>\n",
       "      <td>2019-12-28 08:17:52</td>\n",
       "    </tr>\n",
       "    <tr>\n",
       "      <th>222748</th>\n",
       "      <td>31198471732255</td>\n",
       "      <td>61556313</td>\n",
       "      <td>27306783</td>\n",
       "      <td>2019-12-28 10:14:31</td>\n",
       "    </tr>\n",
       "    <tr>\n",
       "      <th>222749</th>\n",
       "      <td>31164356713822</td>\n",
       "      <td>147941492</td>\n",
       "      <td>127484153</td>\n",
       "      <td>2019-12-28 00:45:56</td>\n",
       "    </tr>\n",
       "  </tbody>\n",
       "</table>\n",
       "<p>222750 rows × 4 columns</p>\n",
       "</div>"
      ],
      "text/plain": [
       "               orderid     shopid     userid          event_time\n",
       "0       31076582227611   93950878   30530270 2019-12-27 00:23:03\n",
       "1       31118059853484  156423439   46057927 2019-12-27 11:54:20\n",
       "2       31123355095755  173699291   67341739 2019-12-27 13:22:35\n",
       "3       31122059872723   63674025  149380322 2019-12-27 13:01:00\n",
       "4       31117075665123  127249066  149493217 2019-12-27 11:37:55\n",
       "...                ...        ...        ...                 ...\n",
       "222745  31245479170194  110868129  193218997 2019-12-28 23:17:59\n",
       "222746  31230440360374   91639906    3541807 2019-12-28 19:07:20\n",
       "222747  31191471145838   29391773  135908070 2019-12-28 08:17:52\n",
       "222748  31198471732255   61556313   27306783 2019-12-28 10:14:31\n",
       "222749  31164356713822  147941492  127484153 2019-12-28 00:45:56\n",
       "\n",
       "[222750 rows x 4 columns]"
      ]
     },
     "execution_count": 5,
     "metadata": {},
     "output_type": "execute_result"
    }
   ],
   "source": [
    "order_df['event_time'] = pd.to_datetime(order_df['event_time'])\n",
    "order_df.dtypes"
   ]
  },
  {
   "cell_type": "code",
   "execution_count": null,
   "metadata": {},
   "outputs": [],
   "source": []
  }
 ],
 "metadata": {
  "kernelspec": {
   "display_name": "Python 3",
   "language": "python",
   "name": "python3"
  },
  "language_info": {
   "codemirror_mode": {
    "name": "ipython",
    "version": 3
   },
   "file_extension": ".py",
   "mimetype": "text/x-python",
   "name": "python",
   "nbconvert_exporter": "python",
   "pygments_lexer": "ipython3",
   "version": "3.8.3"
  }
 },
 "nbformat": 4,
 "nbformat_minor": 4
}
