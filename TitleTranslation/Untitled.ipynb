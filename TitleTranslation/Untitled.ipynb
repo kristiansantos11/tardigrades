{
 "cells": [
  {
   "cell_type": "markdown",
   "metadata": {},
   "source": [
    "# Product Title Translation"
   ]
  },
  {
   "cell_type": "markdown",
   "metadata": {},
   "source": [
    "## Import the necessary packages / libraries"
   ]
  },
  {
   "cell_type": "code",
   "execution_count": 6,
   "metadata": {},
   "outputs": [],
   "source": [
    "from googletrans import Translator\n",
    "import pandas as pd"
   ]
  },
  {
   "cell_type": "markdown",
   "metadata": {},
   "source": [
    "### Instantiate the translator"
   ]
  },
  {
   "cell_type": "code",
   "execution_count": 7,
   "metadata": {},
   "outputs": [],
   "source": [
    "translator = Translator()"
   ]
  },
  {
   "cell_type": "code",
   "execution_count": 4,
   "metadata": {},
   "outputs": [],
   "source": [
    "test_df = pd.read_csv('test.csv')"
   ]
  },
  {
   "cell_type": "code",
   "execution_count": 13,
   "metadata": {},
   "outputs": [
    {
     "data": {
      "text/plain": [
       "'★2★蕾絲花邊孕婦安全褲韓版時尚百搭休閒防走光三分打底褲托腹褲'"
      ]
     },
     "execution_count": 13,
     "metadata": {},
     "output_type": "execute_result"
    }
   ],
   "source": [
    "test_df.iloc[1][0]"
   ]
  },
  {
   "cell_type": "code",
   "execution_count": 14,
   "metadata": {},
   "outputs": [],
   "source": [
    "result = translator.translate(test_df.iloc[1][0])"
   ]
  },
  {
   "cell_type": "code",
   "execution_count": 15,
   "metadata": {},
   "outputs": [
    {
     "data": {
      "text/plain": [
       "'★2★ Lace lace pregnant women safety pants Korean fashion wild casual anti-glare three-point leggings stomach lift pants'"
      ]
     },
     "execution_count": 15,
     "metadata": {},
     "output_type": "execute_result"
    }
   ],
   "source": [
    "result.text"
   ]
  },
  {
   "cell_type": "code",
   "execution_count": 32,
   "metadata": {},
   "outputs": [],
   "source": []
  },
  {
   "cell_type": "code",
   "execution_count": 33,
   "metadata": {},
   "outputs": [
    {
     "name": "stdout",
     "output_type": "stream",
     "text": [
      "★2★ Lace lace pregnant women safety pants Korean fashion wild casual anti-glare three-point leggings stomach lift pants\n"
     ]
    }
   ],
   "source": []
  },
  {
   "cell_type": "code",
   "execution_count": 18,
   "metadata": {},
   "outputs": [
    {
     "name": "stdout",
     "output_type": "stream",
     "text": [
      "{'en': ['en', 'de', 'fr', 'es', 'pt', 'pt', 'it', 'nl', 'pl', 'ru', 'ja', 'zh'], 'de': ['en', 'de', 'fr', 'es', 'pt', 'pt', 'it', 'nl', 'pl', 'ru', 'ja', 'zh'], 'fr': ['en', 'de', 'fr', 'es', 'pt', 'pt', 'it', 'nl', 'pl', 'ru', 'ja', 'zh'], 'es': ['en', 'de', 'fr', 'es', 'pt', 'pt', 'it', 'nl', 'pl', 'ru', 'ja', 'zh'], 'pt': ['en', 'de', 'fr', 'es', 'pt', 'pt', 'it', 'nl', 'pl', 'ru', 'ja', 'zh'], 'it': ['en', 'de', 'fr', 'es', 'pt', 'pt', 'it', 'nl', 'pl', 'ru', 'ja', 'zh'], 'nl': ['en', 'de', 'fr', 'es', 'pt', 'pt', 'it', 'nl', 'pl', 'ru', 'ja', 'zh'], 'pl': ['en', 'de', 'fr', 'es', 'pt', 'pt', 'it', 'nl', 'pl', 'ru', 'ja', 'zh'], 'ru': ['en', 'de', 'fr', 'es', 'pt', 'pt', 'it', 'nl', 'pl', 'ru', 'ja', 'zh'], 'ja': ['en', 'de', 'fr', 'es', 'pt', 'pt', 'it', 'nl', 'pl', 'ru', 'ja', 'zh'], 'zh': ['en', 'de', 'fr', 'es', 'pt', 'pt', 'it', 'nl', 'pl', 'ru', 'ja', 'zh']}\n"
     ]
    }
   ],
   "source": []
  },
  {
   "cell_type": "code",
   "execution_count": null,
   "metadata": {},
   "outputs": [],
   "source": []
  }
 ],
 "metadata": {
  "kernelspec": {
   "display_name": "Python 3",
   "language": "python",
   "name": "python3"
  },
  "language_info": {
   "codemirror_mode": {
    "name": "ipython",
    "version": 3
   },
   "file_extension": ".py",
   "mimetype": "text/x-python",
   "name": "python",
   "nbconvert_exporter": "python",
   "pygments_lexer": "ipython3",
   "version": "3.7.7"
  }
 },
 "nbformat": 4,
 "nbformat_minor": 4
}
