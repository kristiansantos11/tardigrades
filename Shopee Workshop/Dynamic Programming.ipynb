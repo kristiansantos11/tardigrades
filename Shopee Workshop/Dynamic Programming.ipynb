{
 "cells": [
  {
   "cell_type": "markdown",
   "metadata": {},
   "source": [
    "# Dynamic Programming\n",
    "## Problem Solving with Dynamic Programming\n",
    "\n",
    "1.) Problem Solving Approaches:\n",
    "\n",
    "   a.) Top-down: Recursion and Memorization - more intuitive, because of recursion + memorization (saving data)\n",
    "\n",
    "   b.) Bottom-up: Tabulation - More efficient and easier to optimize for space complexity\n",
    "\n",
    "\n",
    "2.) Problem Solving Strategy\n",
    "\n",
    "Two Defining Properties of DP:\n",
    "Optimal Substructure\n",
    "and "
   ]
  },
  {
   "cell_type": "markdown",
   "metadata": {},
   "source": [
    "### TOP-DOWN SOLVING APPROACH\n",
    "Fibonacci Sequence\n",
    "\n",
    "Code explanation: What this does is, it starts from the input n then the recursion input at line 14 decreases the input until it reaches 1 or 0. This slowly fills up the cache with fibonacci values from index n until index 0. This explains the TOP to DOWN approach"
   ]
  },
  {
   "cell_type": "code",
   "execution_count": 40,
   "metadata": {},
   "outputs": [
    {
     "data": {
      "text/plain": [
       "5702887"
      ]
     },
     "execution_count": 40,
     "metadata": {},
     "output_type": "execute_result"
    }
   ],
   "source": [
    "# API Code\n",
    "\n",
    "# Memory cache here\n",
    "memo = {}\n",
    "\n",
    "def fib(m):\n",
    "    if m in memo:\n",
    "        return memo[m]\n",
    "    elif m == 0:\n",
    "        return 0\n",
    "    elif m == 1:\n",
    "        return 1\n",
    "    else:    # Recursion then Memorization takes place in the code below\n",
    "        memo[m] = fib(m-1) + fib(m-2)\n",
    "    return memo[m]"
   ]
  },
  {
   "cell_type": "markdown",
   "metadata": {},
   "source": [
    "#### Client Code"
   ]
  },
  {
   "cell_type": "code",
   "execution_count": null,
   "metadata": {},
   "outputs": [],
   "source": [
    "fib(34)"
   ]
  },
  {
   "cell_type": "markdown",
   "metadata": {},
   "source": [
    "#### Observe that the higher the input number, the larger the cache becomes. This wastes space but it very efficient in operations."
   ]
  },
  {
   "cell_type": "code",
   "execution_count": 41,
   "metadata": {},
   "outputs": [
    {
     "name": "stdout",
     "output_type": "stream",
     "text": [
      "{2: 1, 3: 2, 4: 3, 5: 5, 6: 8, 7: 13, 8: 21, 9: 34, 10: 55, 11: 89, 12: 144, 13: 233, 14: 377, 15: 610, 16: 987, 17: 1597, 18: 2584, 19: 4181, 20: 6765, 21: 10946, 22: 17711, 23: 28657, 24: 46368, 25: 75025, 26: 121393, 27: 196418, 28: 317811, 29: 514229, 30: 832040, 31: 1346269, 32: 2178309, 33: 3524578, 34: 5702887}\n"
     ]
    }
   ],
   "source": [
    "print(memo)"
   ]
  },
  {
   "cell_type": "markdown",
   "metadata": {},
   "source": [
    "### BOTTOM-UP SOLVING APPROACH\n",
    "Fibonacci Sequence\n",
    "\n",
    "Code Explanation: The computation for the fibonacci number of index n starts from the base of 0 and 1. These are added, then swaps to the next sum of the 2 numbers. This process repeats until it reaches index n. This explains the Bottom to Up approach."
   ]
  },
  {
   "cell_type": "code",
   "execution_count": 42,
   "metadata": {},
   "outputs": [],
   "source": [
    "def fib_bottomup(n):\n",
    "    if n == 0 or n == 1:\n",
    "        return n\n",
    "\n",
    "    fib_n2, fib_n1 = 0, 1\n",
    "    \n",
    "    for i in range(n-1):\n",
    "        fib = fib_n2 + fib_n1\n",
    "        fib_n2, fib_n1 = fib_n1, fib\n",
    "\n",
    "    return fib"
   ]
  },
  {
   "cell_type": "code",
   "execution_count": 43,
   "metadata": {},
   "outputs": [
    {
     "data": {
      "text/plain": [
       "5702887"
      ]
     },
     "execution_count": 43,
     "metadata": {},
     "output_type": "execute_result"
    }
   ],
   "source": [
    "fib_bottomup(34)"
   ]
  },
  {
   "cell_type": "code",
   "execution_count": null,
   "metadata": {},
   "outputs": [],
   "source": []
  }
 ],
 "metadata": {
  "kernelspec": {
   "display_name": "Python 3",
   "language": "python",
   "name": "python3"
  },
  "language_info": {
   "codemirror_mode": {
    "name": "ipython",
    "version": 3
   },
   "file_extension": ".py",
   "mimetype": "text/x-python",
   "name": "python",
   "nbconvert_exporter": "python",
   "pygments_lexer": "ipython3",
   "version": "3.7.6"
  }
 },
 "nbformat": 4,
 "nbformat_minor": 4
}
