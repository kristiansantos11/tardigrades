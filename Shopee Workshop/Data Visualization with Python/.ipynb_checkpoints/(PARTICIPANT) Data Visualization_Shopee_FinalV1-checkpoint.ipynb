{
 "cells": [
  {
   "cell_type": "markdown",
   "metadata": {},
   "source": [
    "<img src=\"./vi_logo.png\" style=\"float: left; margin: 10px; height: 45px\">\n",
    "<img src=\"./Shopee.png\" style=\"float: left; margin: 10px; height: 45px\">\n",
    "\n",
    "# Vertical Institute Data Science \n"
   ]
  },
  {
   "cell_type": "markdown",
   "metadata": {},
   "source": [
    "\n",
    "### Learning Objectives\n",
    "\n",
    "#### Bar Plot & Heatmap\n",
    "**At the end of this lesson, you should understand:**\n",
    "- Using matplotlib to create horizontal bar chart\n",
    "- Using seaborn to create heatmap"
   ]
  },
  {
   "cell_type": "markdown",
   "metadata": {},
   "source": [
    "### Lesson Guide\n",
    "- [Bar Plot](#barplot)\n",
    "- [Heatmap](#heatmap)"
   ]
  },
  {
   "cell_type": "code",
   "execution_count": null,
   "metadata": {},
   "outputs": [],
   "source": [
    "#Import matplotlib\n",
    "\n",
    "import matplotlib.pyplot as plt\n",
    "plt.style.use('fivethirtyeight')# styling type \n",
    "%matplotlib inline\n",
    "from matplotlib import cm #colormaps\n",
    "from colorspacious import cspace_converter#convert colour space to another colour space \n"
   ]
  },
  {
   "cell_type": "markdown",
   "metadata": {},
   "source": [
    "**If you encounter this error \"ModuleNotFoundError: No module named 'colorspacious'\", please perform the following steps :**\n",
    "\n",
    "- launch Anaconda Prompt\n",
    "- run : pip install colorspace"
   ]
  },
  {
   "cell_type": "code",
   "execution_count": null,
   "metadata": {},
   "outputs": [],
   "source": [
    "#import pandas and numpy\n",
    "import pandas as pd\n",
    "import numpy as np"
   ]
  },
  {
   "cell_type": "code",
   "execution_count": null,
   "metadata": {},
   "outputs": [],
   "source": [
    "#Import data\n",
    "df = pd.DataFrame(np.random.randn(10, 4), \n",
    "                  columns=['col1', 'col2', 'col3', 'col4'],\n",
    "                  index=['a', 'b', 'c', 'd', 'e', 'f', 'g', 'h', 'i', 'j'])"
   ]
  },
  {
   "cell_type": "code",
   "execution_count": null,
   "metadata": {},
   "outputs": [],
   "source": [
    "df.head()"
   ]
  },
  {
   "cell_type": "markdown",
   "metadata": {},
   "source": [
    "# <a id=\"barplot\"></a>\n",
    "## Bar Plot"
   ]
  },
  {
   "cell_type": "code",
   "execution_count": null,
   "metadata": {},
   "outputs": [],
   "source": [
    "\n",
    "ax = plt.gca()\n",
    "ax.set_facecolor('xkcd:black')\n",
    "df['col4'].plot(kind='bar', figsize=(10,8), fontsize=14, cmap= 'PuBuGn') \n",
    "\n",
    "\n",
    "\n",
    "# Add some text for labels, title and custom x-axis tick labels, etc.\n",
    "ax.set_ylabel('y-axis')\n",
    "ax.set_xlabel('x-axis')\n",
    "ax.set_title('Example')\n",
    "#ax.legend()\n",
    "ax.legend(loc='lower left', bbox_to_anchor=(1.0, 0.6))"
   ]
  },
  {
   "cell_type": "markdown",
   "metadata": {},
   "source": [
    "**Create A Horizontal Bar**\n",
    "1. Create a horizontal chart with col4.\n",
    "2. Using kind = 'barh' and fontsize 14\n",
    "3. Set the color to twilight\n",
    "4. Set background as steel blue\n",
    "5. Set the title to \"Horizontal Block\".\n",
    "6. Set the figure size to 10 by 14."
   ]
  },
  {
   "cell_type": "code",
   "execution_count": null,
   "metadata": {},
   "outputs": [],
   "source": [
    "#write your code here\n",
    "\n"
   ]
  },
  {
   "cell_type": "markdown",
   "metadata": {},
   "source": [
    "# <a id=\"heatmap\"></a>\n",
    "## Heatmap Bar"
   ]
  },
  {
   "cell_type": "code",
   "execution_count": null,
   "metadata": {},
   "outputs": [],
   "source": [
    "#import seaborn\n",
    "import seaborn as sns"
   ]
  },
  {
   "cell_type": "code",
   "execution_count": null,
   "metadata": {},
   "outputs": [],
   "source": [
    "# Refresh what's in our df\n",
    "df"
   ]
  },
  {
   "cell_type": "code",
   "execution_count": null,
   "metadata": {},
   "outputs": [],
   "source": [
    "plt.figure(figsize=(25, 5))\n",
    "sns.heatmap(df.corr(),cmap=\"YlOrBr\")\n",
    "plt.title(\"Heatmap\", fontsize=20)\n",
    "plt.xlabel(\"Example\", fontsize=16)\n",
    "plt.ylabel(\"Columns\", fontsize=16)\n",
    "plt.show()"
   ]
  },
  {
   "cell_type": "markdown",
   "metadata": {},
   "source": [
    "**Create A Heatmap Bar**\n",
    "1. Using correlation.\n",
    "2. Create a heatmap\n",
    "3. Set the figure to 25 by 5\n",
    "4. Set background as steel blue\n",
    "5. Set the title to as heatmap\n",
    "6. Set the x axis as Example.\n",
    "7. Set the y axis as Columns."
   ]
  },
  {
   "cell_type": "code",
   "execution_count": null,
   "metadata": {},
   "outputs": [],
   "source": [
    "#write your code here\n",
    "\n"
   ]
  }
 ],
 "metadata": {
  "kernelspec": {
   "display_name": "Python 3",
   "language": "python",
   "name": "python3"
  },
  "language_info": {
   "codemirror_mode": {
    "name": "ipython",
    "version": 3
   },
   "file_extension": ".py",
   "mimetype": "text/x-python",
   "name": "python",
   "nbconvert_exporter": "python",
   "pygments_lexer": "ipython3",
   "version": "3.7.6"
  }
 },
 "nbformat": 4,
 "nbformat_minor": 2
}
