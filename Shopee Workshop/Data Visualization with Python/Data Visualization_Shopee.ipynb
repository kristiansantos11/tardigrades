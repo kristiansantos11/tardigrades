{
 "cells": [
  {
   "cell_type": "markdown",
   "metadata": {},
   "source": [
    "<img src=\"./vi_logo.png\" style=\"float: left; margin: 10px; height: 45px\">\n",
    "<img src=\"./Shopee.png\" style=\"float: left; margin: 10px; height: 45px\">\n",
    "\n",
    "# Vertical Institute Data Visualization With Python \n"
   ]
  },
  {
   "cell_type": "markdown",
   "metadata": {},
   "source": [
    "\n",
    "### Learning Objectives\n",
    "\n",
    "#### Bar Plot & Heatmap\n",
    "**At the end of this lesson, you should understand:**\n",
    "- Using matplotlib to create horizontal bar chart\n",
    "- Using seaborn to create heatmap "
   ]
  },
  {
   "cell_type": "markdown",
   "metadata": {},
   "source": [
    "### Lesson Guide\n",
    "- [Bar Plot](#barplot)\n",
    "- [Heatmap](#heatmap)"
   ]
  },
  {
   "cell_type": "code",
   "execution_count": 4,
   "metadata": {},
   "outputs": [],
   "source": [
    "#Import matplotlib\n",
    "\n",
    "import matplotlib.pyplot as plt\n",
    "plt.style.use('fivethirtyeight') # styling type \n",
    "%matplotlib inline\n",
    "from matplotlib import cm #colormaps\n",
    "from colorspacious import cspace_converter # convert colour space to another colour space \n"
   ]
  },
  {
   "cell_type": "markdown",
   "metadata": {},
   "source": [
    "**If you encounter this error \"ModuleNotFoundError: No module named 'colorspacious'\", please perform the following steps :**\n",
    "\n",
    "- launch Anaconda Prompt\n",
    "- run : pip install colorspace"
   ]
  },
  {
   "cell_type": "code",
   "execution_count": 5,
   "metadata": {},
   "outputs": [],
   "source": [
    "#import pandas and numpy\n",
    "import pandas as pd\n",
    "import numpy as np"
   ]
  },
  {
   "cell_type": "code",
   "execution_count": 6,
   "metadata": {},
   "outputs": [],
   "source": [
    "#Import data\n",
    "df = pd.DataFrame(np.random.randn(10, 4), \n",
    "                  columns=['col1', 'col2', 'col3', 'col4'],\n",
    "                  index=['a', 'b', 'c', 'd', 'e', 'f', 'g', 'h', 'i', 'j'])"
   ]
  },
  {
   "cell_type": "code",
   "execution_count": 7,
   "metadata": {},
   "outputs": [
    {
     "data": {
      "text/html": [
       "<div>\n",
       "<style scoped>\n",
       "    .dataframe tbody tr th:only-of-type {\n",
       "        vertical-align: middle;\n",
       "    }\n",
       "\n",
       "    .dataframe tbody tr th {\n",
       "        vertical-align: top;\n",
       "    }\n",
       "\n",
       "    .dataframe thead th {\n",
       "        text-align: right;\n",
       "    }\n",
       "</style>\n",
       "<table border=\"1\" class=\"dataframe\">\n",
       "  <thead>\n",
       "    <tr style=\"text-align: right;\">\n",
       "      <th></th>\n",
       "      <th>col1</th>\n",
       "      <th>col2</th>\n",
       "      <th>col3</th>\n",
       "      <th>col4</th>\n",
       "    </tr>\n",
       "  </thead>\n",
       "  <tbody>\n",
       "    <tr>\n",
       "      <th>a</th>\n",
       "      <td>-0.227704</td>\n",
       "      <td>-0.958645</td>\n",
       "      <td>-0.056856</td>\n",
       "      <td>0.615680</td>\n",
       "    </tr>\n",
       "    <tr>\n",
       "      <th>b</th>\n",
       "      <td>1.403511</td>\n",
       "      <td>2.078198</td>\n",
       "      <td>0.364788</td>\n",
       "      <td>0.100587</td>\n",
       "    </tr>\n",
       "    <tr>\n",
       "      <th>c</th>\n",
       "      <td>-1.091021</td>\n",
       "      <td>-0.688582</td>\n",
       "      <td>-0.948376</td>\n",
       "      <td>0.797503</td>\n",
       "    </tr>\n",
       "    <tr>\n",
       "      <th>d</th>\n",
       "      <td>-0.827163</td>\n",
       "      <td>1.689736</td>\n",
       "      <td>0.328438</td>\n",
       "      <td>0.872572</td>\n",
       "    </tr>\n",
       "    <tr>\n",
       "      <th>e</th>\n",
       "      <td>2.163931</td>\n",
       "      <td>-0.320586</td>\n",
       "      <td>-0.887566</td>\n",
       "      <td>-0.361292</td>\n",
       "    </tr>\n",
       "  </tbody>\n",
       "</table>\n",
       "</div>"
      ],
      "text/plain": [
       "       col1      col2      col3      col4\n",
       "a -0.227704 -0.958645 -0.056856  0.615680\n",
       "b  1.403511  2.078198  0.364788  0.100587\n",
       "c -1.091021 -0.688582 -0.948376  0.797503\n",
       "d -0.827163  1.689736  0.328438  0.872572\n",
       "e  2.163931 -0.320586 -0.887566 -0.361292"
      ]
     },
     "execution_count": 7,
     "metadata": {},
     "output_type": "execute_result"
    }
   ],
   "source": [
    "df.head()"
   ]
  },
  {
   "cell_type": "markdown",
   "metadata": {},
   "source": [
    "# <a id=\"barplot\"></a>\n",
    "## Matplotlib: Bar Plot"
   ]
  },
  {
   "cell_type": "code",
   "execution_count": 10,
   "metadata": {},
   "outputs": [
    {
     "data": {
      "text/plain": [
       "<matplotlib.legend.Legend at 0x1dcb4275908>"
      ]
     },
     "execution_count": 10,
     "metadata": {},
     "output_type": "execute_result"
    },
    {
     "data": {
      "image/png": "[encoded data removed]",
      "text/plain": [
       "<Figure size 720x576 with 1 Axes>"
      ]
     },
     "metadata": {
      "needs_background": "light"
     },
     "output_type": "display_data"
    }
   ],
   "source": [
    "\n",
    "ax = plt.gca() # used the last axes chart as the current axes\n",
    "ax.set_facecolor('xkcd:black') # set background colour within the axes\n",
    "\n",
    "# plot the 'bar' chart with font size 14 with colormap: PuBuGn\n",
    "df['col4'].plot(kind='bar', figsize=(10,8), fontsize=14, cmap= 'PuBuGn') \n",
    "\n",
    "\n",
    "\n",
    "# Add some text for labels, title and custom x-axis tick labels, etc.\n",
    "ax.set_ylabel('y-axis')\n",
    "ax.set_xlabel('x-axis')\n",
    "ax.set_title('Example')\n",
    "#ax.legend()\n",
    "ax.legend(loc='lower left', bbox_to_anchor=(1.0, 0.6)) # to specify the position of the box"
   ]
  },
  {
   "cell_type": "markdown",
   "metadata": {},
   "source": [
    "**Create A Horizontal Bar**\n",
    "1. Create a horizontal chart with col4.\n",
    "2. Using kind = 'barh' and fontsize 14\n",
    "3. Set the color to twilight\n",
    "4. Set background as steel blue\n",
    "5. Set the title to \"Horizontal Block\".\n",
    "6. Set the figure size to 10 by 14."
   ]
  },
  {
   "cell_type": "code",
   "execution_count": 13,
   "metadata": {},
   "outputs": [
    {
     "data": {
      "text/plain": [
       "<matplotlib.legend.Legend at 0x1dcb45cbe88>"
      ]
     },
     "execution_count": 13,
     "metadata": {},
     "output_type": "execute_result"
    },
    {
     "data": {
      "image/png": "[encoded data removed]",
      "text/plain": [
       "<Figure size 720x1008 with 1 Axes>"
      ]
     },
     "metadata": {
      "needs_background": "light"
     },
     "output_type": "display_data"
    }
   ],
   "source": [
    "#write your code here\n",
    "\n",
    "df.plot(kind='barh', figsize=(10, 14), fontsize=14, cmap='twilight')\n",
    "ax=plt.gca()\n",
    "ax.set_facecolor('xkcd:steel blue')\n",
    "\n",
    "ax.set_title('Horizontal Block')\n",
    "ax.legend(loc='lower left', bbox_to_anchor=(1.0, 0.6))"
   ]
  },
  {
   "cell_type": "markdown",
   "metadata": {},
   "source": [
    "# <a id=\"heatmap\"></a>\n",
    "## Seaborn : Heatmap"
   ]
  },
  {
   "cell_type": "markdown",
   "metadata": {},
   "source": [
    "**Installation of Seaborn Module**\n",
    "\n",
    "- launch Anaconda Prompt\n",
    "- run : pip install seaborn\n",
    "- conda install -c anaconda seaborn\n"
   ]
  },
  {
   "cell_type": "code",
   "execution_count": 14,
   "metadata": {},
   "outputs": [],
   "source": [
    "#import seaborn\n",
    "import seaborn as sns"
   ]
  },
  {
   "cell_type": "code",
   "execution_count": 15,
   "metadata": {},
   "outputs": [
    {
     "data": {
      "text/html": [
       "<div>\n",
       "<style scoped>\n",
       "    .dataframe tbody tr th:only-of-type {\n",
       "        vertical-align: middle;\n",
       "    }\n",
       "\n",
       "    .dataframe tbody tr th {\n",
       "        vertical-align: top;\n",
       "    }\n",
       "\n",
       "    .dataframe thead th {\n",
       "        text-align: right;\n",
       "    }\n",
       "</style>\n",
       "<table border=\"1\" class=\"dataframe\">\n",
       "  <thead>\n",
       "    <tr style=\"text-align: right;\">\n",
       "      <th></th>\n",
       "      <th>col1</th>\n",
       "      <th>col2</th>\n",
       "      <th>col3</th>\n",
       "      <th>col4</th>\n",
       "    </tr>\n",
       "  </thead>\n",
       "  <tbody>\n",
       "    <tr>\n",
       "      <th>a</th>\n",
       "      <td>-0.227704</td>\n",
       "      <td>-0.958645</td>\n",
       "      <td>-0.056856</td>\n",
       "      <td>0.615680</td>\n",
       "    </tr>\n",
       "    <tr>\n",
       "      <th>b</th>\n",
       "      <td>1.403511</td>\n",
       "      <td>2.078198</td>\n",
       "      <td>0.364788</td>\n",
       "      <td>0.100587</td>\n",
       "    </tr>\n",
       "    <tr>\n",
       "      <th>c</th>\n",
       "      <td>-1.091021</td>\n",
       "      <td>-0.688582</td>\n",
       "      <td>-0.948376</td>\n",
       "      <td>0.797503</td>\n",
       "    </tr>\n",
       "    <tr>\n",
       "      <th>d</th>\n",
       "      <td>-0.827163</td>\n",
       "      <td>1.689736</td>\n",
       "      <td>0.328438</td>\n",
       "      <td>0.872572</td>\n",
       "    </tr>\n",
       "    <tr>\n",
       "      <th>e</th>\n",
       "      <td>2.163931</td>\n",
       "      <td>-0.320586</td>\n",
       "      <td>-0.887566</td>\n",
       "      <td>-0.361292</td>\n",
       "    </tr>\n",
       "    <tr>\n",
       "      <th>f</th>\n",
       "      <td>-1.430330</td>\n",
       "      <td>1.299273</td>\n",
       "      <td>0.964857</td>\n",
       "      <td>-1.271750</td>\n",
       "    </tr>\n",
       "    <tr>\n",
       "      <th>g</th>\n",
       "      <td>-2.364863</td>\n",
       "      <td>-0.397356</td>\n",
       "      <td>-0.467438</td>\n",
       "      <td>0.496297</td>\n",
       "    </tr>\n",
       "    <tr>\n",
       "      <th>h</th>\n",
       "      <td>0.466532</td>\n",
       "      <td>-0.894848</td>\n",
       "      <td>-0.376787</td>\n",
       "      <td>-0.287338</td>\n",
       "    </tr>\n",
       "    <tr>\n",
       "      <th>i</th>\n",
       "      <td>0.761698</td>\n",
       "      <td>1.021947</td>\n",
       "      <td>-1.950801</td>\n",
       "      <td>-0.622149</td>\n",
       "    </tr>\n",
       "    <tr>\n",
       "      <th>j</th>\n",
       "      <td>-0.359150</td>\n",
       "      <td>1.384873</td>\n",
       "      <td>1.201358</td>\n",
       "      <td>-0.304522</td>\n",
       "    </tr>\n",
       "  </tbody>\n",
       "</table>\n",
       "</div>"
      ],
      "text/plain": [
       "       col1      col2      col3      col4\n",
       "a -0.227704 -0.958645 -0.056856  0.615680\n",
       "b  1.403511  2.078198  0.364788  0.100587\n",
       "c -1.091021 -0.688582 -0.948376  0.797503\n",
       "d -0.827163  1.689736  0.328438  0.872572\n",
       "e  2.163931 -0.320586 -0.887566 -0.361292\n",
       "f -1.430330  1.299273  0.964857 -1.271750\n",
       "g -2.364863 -0.397356 -0.467438  0.496297\n",
       "h  0.466532 -0.894848 -0.376787 -0.287338\n",
       "i  0.761698  1.021947 -1.950801 -0.622149\n",
       "j -0.359150  1.384873  1.201358 -0.304522"
      ]
     },
     "execution_count": 15,
     "metadata": {},
     "output_type": "execute_result"
    }
   ],
   "source": [
    "# Refresh what's in our df\n",
    "df"
   ]
  },
  {
   "cell_type": "code",
   "execution_count": 14,
   "metadata": {},
   "outputs": [
    {
     "data": {
      "image/png": "[encoded data removed]",
      "text/plain": [
       "<Figure size 1800x360 with 2 Axes>"
      ]
     },
     "metadata": {
      "needs_background": "light"
     },
     "output_type": "display_data"
    }
   ],
   "source": [
    "plt.figure(figsize=(25, 5))\n",
    "sns.heatmap(df.corr(),cmap=\"YlOrBr\")\n",
    "plt.title(\"Heatmap\", fontsize=20)\n",
    "plt.xlabel(\"Example\", fontsize=16)\n",
    "plt.ylabel(\"Columns\", fontsize=16)\n",
    "plt.show()"
   ]
  },
  {
   "cell_type": "markdown",
   "metadata": {},
   "source": [
    "**Create A Heatmap Bar**\n",
    "1. Using correlation\n",
    "2. Create a heatmap\n",
    "3. Set the figure to 25 by 5\n",
    "4. Set the title to as heatmap\n",
    "5. Set the x axis as Example.\n",
    "6. Set the y axis as Columns."
   ]
  },
  {
   "cell_type": "code",
   "execution_count": 19,
   "metadata": {},
   "outputs": [
    {
     "data": {
      "image/png": "[encoded data removed]",
      "text/plain": [
       "<Figure size 1800x360 with 2 Axes>"
      ]
     },
     "metadata": {
      "needs_background": "light"
     },
     "output_type": "display_data"
    }
   ],
   "source": [
    "#write your code here\n",
    "\n",
    "plt.figure(figsize=(25,5))\n",
    "sns.heatmap(df.corr(), cmap=\"Reds\")\n",
    "plt.title(\"Heatmap\")\n",
    "plt.xlabel(\"Example\")\n",
    "plt.ylabel(\"Columns\")\n",
    "plt.show()"
   ]
  },
  {
   "cell_type": "code",
   "execution_count": null,
   "metadata": {},
   "outputs": [],
   "source": []
  }
 ],
 "metadata": {
  "kernelspec": {
   "display_name": "Python 3",
   "language": "python",
   "name": "python3"
  },
  "language_info": {
   "codemirror_mode": {
    "name": "ipython",
    "version": 3
   },
   "file_extension": ".py",
   "mimetype": "text/x-python",
   "name": "python",
   "nbconvert_exporter": "python",
   "pygments_lexer": "ipython3",
   "version": "3.7.6"
  }
 },
 "nbformat": 4,
 "nbformat_minor": 2
}
