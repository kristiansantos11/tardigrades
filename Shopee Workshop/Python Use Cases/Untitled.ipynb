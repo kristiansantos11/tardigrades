{
 "cells": [
  {
   "cell_type": "markdown",
   "metadata": {},
   "source": [
    "# Python Use Cases\n",
    "\n",
    "## 1.) Python Use Cases\n",
    "\n",
    "### a.) What is Python\n",
    "\n",
    "### b.) Where is Python used\n",
    "\n",
    "## 2.) How to Tackle Coding Problems\n",
    "\n",
    "### a.) How to plan\n",
    "\n",
    "### b.) How to execute"
   ]
  },
  {
   "cell_type": "markdown",
   "metadata": {},
   "source": [
    "## How to Tackle Coding Problems\n",
    "\n",
    "### Planning Stage\n",
    "1.) **Problem Statement** -\n",
    "\n",
    "2.) **Pseudocode** - \n",
    "\n",
    "3.) **(OPTIONAL) Flowchart** - \n",
    "\n",
    "4.) **CODE** - "
   ]
  },
  {
   "cell_type": "markdown",
   "metadata": {},
   "source": [
    "## Anatomy of a Problem Statement\n",
    "\n",
    "What > How > Example"
   ]
  },
  {
   "cell_type": "markdown",
   "metadata": {},
   "source": [
    "## Pseudocode is important\n",
    "\n",
    "Because if you're in an interview, you need to create an algorithm with functions"
   ]
  },
  {
   "cell_type": "code",
   "execution_count": null,
   "metadata": {},
   "outputs": [],
   "source": []
  }
 ],
 "metadata": {
  "kernelspec": {
   "display_name": "Python 3",
   "language": "python",
   "name": "python3"
  },
  "language_info": {
   "codemirror_mode": {
    "name": "ipython",
    "version": 3
   },
   "file_extension": ".py",
   "mimetype": "text/x-python",
   "name": "python",
   "nbconvert_exporter": "python",
   "pygments_lexer": "ipython3",
   "version": "3.7.6"
  }
 },
 "nbformat": 4,
 "nbformat_minor": 4
}
