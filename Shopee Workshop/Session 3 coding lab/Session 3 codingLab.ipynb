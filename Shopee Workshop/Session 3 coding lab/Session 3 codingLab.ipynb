{
 "cells": [
  {
   "cell_type": "markdown",
   "metadata": {},
   "source": [
    "## One sample z-test"
   ]
  },
  {
   "cell_type": "markdown",
   "metadata": {},
   "source": [
    "A scientist has collected the shell size of 30 seashells and wants to compare the mean value with the given mean of 0.5\n",
    "\n",
    "We can use a one sample z-test to verify this."
   ]
  },
  {
   "cell_type": "code",
   "execution_count": 16,
   "metadata": {},
   "outputs": [
    {
     "data": {
      "text/plain": [
       "0.4251891993849891"
      ]
     },
     "execution_count": 16,
     "metadata": {},
     "output_type": "execute_result"
    }
   ],
   "source": [
    "from statsmodels.stats.weightstats import ztest\n",
    "import numpy as np\n",
    "\n",
    "a = np.array([ 0.7972,  0.0767,  0.4383,  0.7866,  0.8091, 0.1954,  0.6307,  0.6599,  0.1065,  0.0508,0.7971,  0.0768,  0.4382,  0.7867,  0.809, 0.1955,  0.6306,  0.66,  0.1066,  0.0507,0.7973,  0.0766,  0.4384,  0.7867,  0.8092, 0.1953,  0.6308,  0.658,  0.1066,  0.0507])\n",
    "mean = np.mean(a) #0.4550667\n",
    "zset, pval = ztest(a, x2=None, value=0.5) \n",
    "pval"
   ]
  },
  {
   "cell_type": "code",
   "execution_count": 2,
   "metadata": {},
   "outputs": [
    {
     "name": "stdout",
     "output_type": "stream",
     "text": [
      "do not reject null hypothesis\n"
     ]
    }
   ],
   "source": [
    "if pval < 0.05:\n",
    "    print(\"we do not have enough evidence to reject null hypothesis\")\n",
    "else:\n",
    "    print(\"do not reject null hypothesis\")"
   ]
  },
  {
   "cell_type": "markdown",
   "metadata": {},
   "source": [
    "## Two sample z-test"
   ]
  },
  {
   "cell_type": "code",
   "execution_count": 17,
   "metadata": {},
   "outputs": [
    {
     "data": {
      "text/plain": [
       "0.45739865747943687"
      ]
     },
     "execution_count": 17,
     "metadata": {},
     "output_type": "execute_result"
    }
   ],
   "source": [
    "from statsmodels.stats.weightstats import ztest\n",
    "import numpy as np\n",
    "\n",
    "a = np.array([ 0.7972,  0.0767,  0.4383,  0.7866,  0.8091, 0.1954,  0.6307,  0.6599,  0.1065,  0.0508,0.7971,  0.0768,  0.4382,  0.7867,  0.809])\n",
    "b = np.array([0.1955,  0.6306,  0.66,  0.1066,  0.0507, 0.7973,  0.0766,  0.4384,  0.7867,  0.8092, 0.1953,  0.6308,  0.658,  0.1066,  0.0507])\n",
    "mean = np.mean(a)\n",
    "zset, pval = ztest(a, x2=b, alternative='two-sided') \n",
    "pval"
   ]
  },
  {
   "cell_type": "code",
   "execution_count": 18,
   "metadata": {},
   "outputs": [
    {
     "name": "stdout",
     "output_type": "stream",
     "text": [
      "do not reject null hypothesis\n"
     ]
    }
   ],
   "source": [
    "if pval < 0.05:\n",
    "    print(\"we do not have enough evidence to reject null hypothesis\")\n",
    "else:\n",
    "    print(\"do not reject null hypothesis\")"
   ]
  },
  {
   "cell_type": "markdown",
   "metadata": {},
   "source": [
    "### z-tests are used when we have large sample sizes (n > 30) whereas t-tests are most helpful with a smaller sample size (n < 30). Both methods assume a normal distribution of the data, but the z-tests are most useful when the standard deviation is known."
   ]
  },
  {
   "cell_type": "markdown",
   "metadata": {},
   "source": [
    "## One sample t-test"
   ]
  },
  {
   "cell_type": "code",
   "execution_count": 12,
   "metadata": {},
   "outputs": [
    {
     "data": {
      "text/plain": [
       "0.03272038491333482"
      ]
     },
     "execution_count": 12,
     "metadata": {},
     "output_type": "execute_result"
    }
   ],
   "source": [
    "from scipy.stats import ttest_1samp\n",
    "import numpy as np\n",
    "ages = [32,34,29,29,22,39,38,37,38,36,30,26,22,22]\n",
    "\n",
    "ages_mean = np.mean(ages)\n",
    "\n",
    "tset, pval = ttest_1samp(ages, 27)\n",
    "pval"
   ]
  },
  {
   "cell_type": "code",
   "execution_count": 13,
   "metadata": {},
   "outputs": [
    {
     "name": "stdout",
     "output_type": "stream",
     "text": [
      "reject null hypothesis\n"
     ]
    }
   ],
   "source": [
    "if pval < 0.05:  # Confidence percentage is 0.95, \n",
    "                 # therefore alpha value is 0.05\n",
    "    print(\"we do not have enough evidence to reject null hypothesis\")\n",
    "else:\n",
    "    print(\"do not reject null hypothesis\")"
   ]
  },
  {
   "cell_type": "markdown",
   "metadata": {},
   "source": [
    "## One-way ANOVA Test\n",
    "If you have 2 or more samples.\n",
    "\n",
    "The code below determines whether the mean in each letter category are the same/similar"
   ]
  },
  {
   "cell_type": "code",
   "execution_count": 19,
   "metadata": {},
   "outputs": [
    {
     "data": {
      "text/plain": [
       "F_onewayResult(statistic=7.121019471642447, pvalue=0.0002812242314534544)"
      ]
     },
     "execution_count": 19,
     "metadata": {},
     "output_type": "execute_result"
    }
   ],
   "source": [
    "import scipy.stats as stats\n",
    "a = [0.0571, 0.0813, 0.0831, 0.0976, 0.0817, 0.0859, 0.0735,0.0659, 0.0923, 0.0836]\n",
    "b = [0.0873, 0.0662, 0.0672, 0.0819, 0.0749, 0.0649, 0.0835, 0.0725]\n",
    "c = [0.0974, 0.1352, 0.0817, 0.1016, 0.0968, 0.1064, 0.105]\n",
    "d = [0.1033, 0.0915, 0.0781, 0.0685, 0.0677, 0.0697, 0.0764, 0.0689]\n",
    "e = [0.0703, 0.1026, 0.0956, 0.0973, 0.1039, 0.1045]\n",
    "stats.f_oneway(a,b,c,d,e)"
   ]
  },
  {
   "cell_type": "markdown",
   "metadata": {},
   "source": [
    "statistic is the F value. P value concludes whether the null hypothesis should be accepted or rejected"
   ]
  },
  {
   "cell_type": "markdown",
   "metadata": {},
   "source": [
    "## Chi-square Test"
   ]
  },
  {
   "cell_type": "code",
   "execution_count": 20,
   "metadata": {},
   "outputs": [
    {
     "data": {
      "text/html": [
       "<div>\n",
       "<style scoped>\n",
       "    .dataframe tbody tr th:only-of-type {\n",
       "        vertical-align: middle;\n",
       "    }\n",
       "\n",
       "    .dataframe tbody tr th {\n",
       "        vertical-align: top;\n",
       "    }\n",
       "\n",
       "    .dataframe thead th {\n",
       "        text-align: right;\n",
       "    }\n",
       "</style>\n",
       "<table border=\"1\" class=\"dataframe\">\n",
       "  <thead>\n",
       "    <tr style=\"text-align: right;\">\n",
       "      <th></th>\n",
       "      <th>set1</th>\n",
       "      <th>set2</th>\n",
       "      <th>set3</th>\n",
       "      <th>set4</th>\n",
       "    </tr>\n",
       "  </thead>\n",
       "  <tbody>\n",
       "    <tr>\n",
       "      <th>1</th>\n",
       "      <td>7</td>\n",
       "      <td>5</td>\n",
       "      <td>6</td>\n",
       "      <td>8</td>\n",
       "    </tr>\n",
       "    <tr>\n",
       "      <th>2</th>\n",
       "      <td>9</td>\n",
       "      <td>6</td>\n",
       "      <td>5</td>\n",
       "      <td>3</td>\n",
       "    </tr>\n",
       "    <tr>\n",
       "      <th>3</th>\n",
       "      <td>5</td>\n",
       "      <td>5</td>\n",
       "      <td>8</td>\n",
       "      <td>4</td>\n",
       "    </tr>\n",
       "    <tr>\n",
       "      <th>4</th>\n",
       "      <td>5</td>\n",
       "      <td>11</td>\n",
       "      <td>7</td>\n",
       "      <td>10</td>\n",
       "    </tr>\n",
       "    <tr>\n",
       "      <th>5</th>\n",
       "      <td>6</td>\n",
       "      <td>10</td>\n",
       "      <td>7</td>\n",
       "      <td>6</td>\n",
       "    </tr>\n",
       "    <tr>\n",
       "      <th>6</th>\n",
       "      <td>8</td>\n",
       "      <td>3</td>\n",
       "      <td>7</td>\n",
       "      <td>9</td>\n",
       "    </tr>\n",
       "  </tbody>\n",
       "</table>\n",
       "</div>"
      ],
      "text/plain": [
       "   set1  set2  set3  set4\n",
       "1     7     5     6     8\n",
       "2     9     6     5     3\n",
       "3     5     5     8     4\n",
       "4     5    11     7    10\n",
       "5     6    10     7     6\n",
       "6     8     3     7     9"
      ]
     },
     "execution_count": 20,
     "metadata": {},
     "output_type": "execute_result"
    }
   ],
   "source": [
    "import pandas as pd\n",
    "num1 = [7, 5, 6, 8]\n",
    "num2 = [9, 6, 5, 3]\n",
    "num3 = [5, 5, 8, 4]\n",
    "num4 = [5, 11, 7, 10]\n",
    "num5 = [6, 10, 7, 6]\n",
    "num6 = [8, 3, 7, 9]\n",
    "df = pd.DataFrame([num1,num2,num3,num4,num5,num6],columns=['set1','set2','set3','set4'], index = [1,2,3,4,5,6])\n",
    "df"
   ]
  },
  {
   "cell_type": "code",
   "execution_count": 21,
   "metadata": {},
   "outputs": [
    {
     "data": {
      "text/plain": [
       "0.6037754097071691"
      ]
     },
     "execution_count": 21,
     "metadata": {},
     "output_type": "execute_result"
    }
   ],
   "source": [
    "import numpy as np\n",
    "from scipy.stats import chi2_contingency\n",
    "num1 = [7, 5, 6, 8]\n",
    "num2 = [9, 6, 5, 3]\n",
    "num3 = [5, 5, 8, 4]\n",
    "num4 = [5, 11, 7, 10]\n",
    "num5 = [6, 10, 7, 6]\n",
    "num6 = [8, 3, 7, 9]\n",
    "dice = np.array([num1, num2, num3, num4, num5, num6])\n",
    "\n",
    "\n",
    "chi2_stat, pval, dof, ex = chi2_contingency(dice)\n",
    "pval"
   ]
  },
  {
   "cell_type": "markdown",
   "metadata": {},
   "source": [
    "h0 = Dice is fair\n",
    "h1 = Dice is not fair\n",
    "\n",
    "pvalue: 0.603; We do not have sufficient evidence to reject the null hypothesis.\n",
    "\n",
    "## You cannot accept null hypothesis. You can only conclude that there is not enough evidence to reject the null hypothesis."
   ]
  },
  {
   "cell_type": "markdown",
   "metadata": {},
   "source": [
    "## Side note: Sample mean is the mean of the sample and the \"ACTUAL MEAN\" is the mean of the population.\n",
    "From the previous test you may observe that we compare the mean of the sample from the population mean."
   ]
  },
  {
   "cell_type": "markdown",
   "metadata": {},
   "source": [
    "# Linear regression"
   ]
  },
  {
   "cell_type": "code",
   "execution_count": 22,
   "metadata": {},
   "outputs": [
    {
     "data": {
      "text/plain": [
       "LinregressResult(slope=0.25918829472217386, intercept=-36.16181849851942, rvalue=0.8579135245156918, pvalue=0.001496754413232856, stderr=0.0548802391735525)"
      ]
     },
     "execution_count": 22,
     "metadata": {},
     "output_type": "execute_result"
    }
   ],
   "source": [
    "from scipy.stats import linregress\n",
    "height = [157, 163, 179, 173, 174, 175, 175, 168, 180, 183]\n",
    "shoesize = [4, 7, 10, 9, 9.5, 10.5, 6, 7.5, 11, 11.5]\n",
    "\n",
    "linregress(height, shoesize)"
   ]
  },
  {
   "cell_type": "markdown",
   "metadata": {},
   "source": [
    "Equation of the slope\n",
    "y=mx+c\n",
    "\n",
    "slope: m value;\n",
    "intercept: c value\n",
    "\n",
    "This is important for plotting the regression line later"
   ]
  },
  {
   "cell_type": "markdown",
   "metadata": {},
   "source": [
    "## Plotting the linear regression\n",
    "-- Use matplotlib to plot your linear regression\n",
    "\n",
    "The syntax for the plot() function would be:\n",
    "plot(x_value, y_value, 'style')\n",
    "\n",
    "- 'style' should be a sequence of characters (string)\n",
    "\n",
    "- 'ro' in the example below: 'r' means red (color) and 'o' means dot (marker style)\n",
    "\n",
    "- add a dash if you want it to turn into a connected scatterplot:\n",
    "plt.plot(height, shoesize, 'r-o')"
   ]
  },
  {
   "cell_type": "code",
   "execution_count": 40,
   "metadata": {},
   "outputs": [
    {
     "name": "stdout",
     "output_type": "stream",
     "text": [
      "[4.501200000000004, 6.055199999999999, 10.199200000000005, 8.645200000000003, 8.904200000000003, 9.163200000000003, 9.163200000000003, 7.350200000000001, 10.458200000000005, 11.235199999999999]\n"
     ]
    },
    {
     "data": {
      "image/png": "[encoded data removed]",
      "text/plain": [
       "<Figure size 432x288 with 1 Axes>"
      ]
     },
     "metadata": {
      "needs_background": "light"
     },
     "output_type": "display_data"
    }
   ],
   "source": [
    "import matplotlib.pyplot as plt\n",
    "# draw scatter plot\n",
    "plt.plot(height,shoesize,'ro')\n",
    "y = []\n",
    "for i in height:\n",
    "  y.append(0.259*i-36.1618)\n",
    "print(y)\n",
    "# draw regression line\n",
    "plt.plot(height, y, 'b')\n",
    "plt.xlabel('height')\n",
    "plt.ylabel('shoe size')\n",
    "plt.title('data')\n",
    "plt.show()    # Important: to show the plot at the output!"
   ]
  },
  {
   "cell_type": "markdown",
   "metadata": {},
   "source": [
    "# Sampling methods"
   ]
  },
  {
   "cell_type": "markdown",
   "metadata": {},
   "source": [
    "## Random sampling\n",
    "In the code below, you will randomly choose 100 rows from the dataframe that will imported from a csv file."
   ]
  },
  {
   "cell_type": "code",
   "execution_count": 99,
   "metadata": {},
   "outputs": [
    {
     "name": "stdout",
     "output_type": "stream",
     "text": [
      "       country iso2 iso3 Region Code  year  Total Population  \\\n",
      "0  Afghanistan   AF  AFG         EMR  2000          20093756   \n",
      "1  Afghanistan   AF  AFG         EMR  2001          20966463   \n",
      "2  Afghanistan   AF  AFG         EMR  2002          21979923   \n",
      "3  Afghanistan   AF  AFG         EMR  2003          23064851   \n",
      "4  Afghanistan   AF  AFG         EMR  2004          24118979   \n",
      "\n",
      "   Estimated incidence (all forms) per 100 000 population  \n",
      "0                                              190.0       \n",
      "1                                              189.0       \n",
      "2                                              189.0       \n",
      "3                                              189.0       \n",
      "4                                              189.0       \n",
      "count     100.000000\n",
      "mean      111.222300\n",
      "std       202.654391\n",
      "min         0.000000\n",
      "25%         7.025000\n",
      "50%        35.000000\n",
      "75%        90.500000\n",
      "max      1120.000000\n",
      "Name: Estimated incidence (all forms) per 100 000 population, dtype: float64\n",
      "0    15.0\n",
      "1    30.0\n",
      "2    31.0\n",
      "dtype: float64\n",
      "130.542\n"
     ]
    }
   ],
   "source": [
    "import pandas as pd\n",
    "\n",
    "df = pd.read_csv('unit05-data.csv')\n",
    "print(df.head())\n",
    "# extracting the column:\n",
    "df1 = df['Estimated incidence (all forms) per 100 000 population']\n",
    "# The samples below are not the same from each other\n",
    "print(df1.sample(100).describe()) # samples 100 rows\n",
    "print(df1.sample(100).mode()) # samples another 100 rows. not same with above\n",
    "print(df1.sample(100).mean()) # samples another 100 rows. not same with above"
   ]
  },
  {
   "cell_type": "markdown",
   "metadata": {},
   "source": [
    "If you see multiple values in mode, that means all of those values appear at the same number of times\n",
    "\n",
    "The mode is the number that is repeated more often than any other\n",
    "\n",
    "Random sampling is not always effective because randomly sampling a population sometimes does not get sample that represent the entire population"
   ]
  },
  {
   "cell_type": "markdown",
   "metadata": {},
   "source": [
    "For a consistent sampling:"
   ]
  },
  {
   "cell_type": "code",
   "execution_count": 107,
   "metadata": {},
   "outputs": [
    {
     "name": "stdout",
     "output_type": "stream",
     "text": [
      "count     100.000000\n",
      "mean      115.894400\n",
      "std       187.935494\n",
      "min         0.790000\n",
      "25%         9.250000\n",
      "50%        45.000000\n",
      "75%       105.500000\n",
      "max      1160.000000\n",
      "Name: Estimated incidence (all forms) per 100 000 population, dtype: float64\n",
      " \n",
      "115.8944\n",
      " \n",
      "0    21.0\n",
      "1    25.0\n",
      "2    64.0\n",
      "dtype: float64\n",
      " \n",
      "187.9354940232892\n"
     ]
    }
   ],
   "source": [
    "sample_df = df1.sample(100)\n",
    "print(sample_df.describe())\n",
    "print(\" \")\n",
    "print(sample_df.mean())\n",
    "print(\" \")\n",
    "print(sample_df.mode())\n",
    "print(\" \")\n",
    "print(sample_df.std())"
   ]
  },
  {
   "cell_type": "markdown",
   "metadata": {},
   "source": [
    "## Systematic Sampling\n",
    "Every nth person in N total population"
   ]
  },
  {
   "cell_type": "code",
   "execution_count": 87,
   "metadata": {},
   "outputs": [
    {
     "name": "stdout",
     "output_type": "stream",
     "text": [
      "[0, 5, 10, 15, 20, 25, 30, 35, 40, 45, 50, 55, 60, 65, 70, 75, 80, 85, 90, 95, 100]\n",
      "0      190.0\n",
      "5      189.0\n",
      "10     189.0\n",
      "15     189.0\n",
      "20      21.0\n",
      "25      16.0\n",
      "30      19.0\n",
      "35      72.0\n",
      "40      78.0\n",
      "45      73.0\n",
      "50      70.0\n",
      "55       9.7\n",
      "60       8.2\n",
      "65       7.8\n",
      "70       8.2\n",
      "75       7.0\n",
      "80      13.0\n",
      "85     297.0\n",
      "90     368.0\n",
      "95     384.0\n",
      "100    370.0\n",
      "Name: Estimated incidence (all forms) per 100 000 population, dtype: float64\n",
      " \n",
      "count     21.000000\n",
      "mean     122.804762\n",
      "std      133.718587\n",
      "min        7.000000\n",
      "25%       13.000000\n",
      "50%       72.000000\n",
      "75%      189.000000\n",
      "max      384.000000\n",
      "Name: Estimated incidence (all forms) per 100 000 population, dtype: float64\n"
     ]
    }
   ],
   "source": [
    "import pandas as pd\n",
    "df = pd.read_csv('unit05-data.csv')\n",
    "# extracting the column\n",
    "df1 = df['Estimated incidence (all forms) per 100 000 population']\n",
    "\n",
    "num = range(0, 101, 5) # creates a list of indeces with interval (steps)\n",
    "print(list(num))\n",
    "print(df1.loc[num])\n",
    "print(\" \")\n",
    "print(df1.loc[num].describe())"
   ]
  },
  {
   "cell_type": "markdown",
   "metadata": {},
   "source": [
    "## Stratified Sampling\n",
    "Grouping the population into relevant subsets before conducting random sampling\n",
    "\n",
    "We separate the population into different groups then obtain sample from each group. This reduces sampling errors."
   ]
  },
  {
   "cell_type": "code",
   "execution_count": 116,
   "metadata": {},
   "outputs": [
    {
     "name": "stdout",
     "output_type": "stream",
     "text": [
      "132.17\n",
      "121.2026\n",
      "162.38299999999998\n",
      "127.225\n",
      "145.733\n",
      "136.1618\n",
      "156.733\n",
      "134.214\n",
      "128.152\n",
      "140.41\n",
      "124.17049999999999\n",
      "95.91460000000001\n",
      "124.51549999999999\n",
      "116.4057\n",
      "91.521\n",
      "94.867\n",
      "93.80000000000001\n"
     ]
    }
   ],
   "source": [
    "import pandas as pd\n",
    "df = pd.read_csv('unit05-data.csv')\n",
    "# Get the rows in the column \"estimated incidence...\" from their respective years\n",
    "#y1 = df[df['year'] == 2000]['Estimated incidence (all forms) per 100 000 population']\n",
    "#y2 = df[df['year'] == 2001]['Estimated incidence (all forms) per 100 000 population']\n",
    "#y3 = df[df['year'] == 2002]['Estimated incidence (all forms) per 100 000 population']\n",
    "#y4 = df[df['year'] == 2003]['Estimated incidence (all forms) per 100 000 population']\n",
    "# TOO LONG!!\n",
    "\n",
    "y = []\n",
    "# Append each year dataframes inside the y array\n",
    "for i in range(2000, 2017):\n",
    "    # If the row of the year column is equal to the specified i\n",
    "    # then the df['year']==i will return true and that row\n",
    "    # is appended to y list.\n",
    "    y.append(df[df['year']==i])\n",
    "\n",
    "# Print out the mean of estimated incidence... \n",
    "# of each year of randomly selected 100 rows\n",
    "for i in y:\n",
    "    print(i['Estimated incidence (all forms) per 100 000 population'].sample(100).mean())"
   ]
  },
  {
   "cell_type": "markdown",
   "metadata": {},
   "source": [
    "## Convenience Sampling\n",
    "Sample is selected because they are convenient"
   ]
  },
  {
   "cell_type": "markdown",
   "metadata": {},
   "source": [
    "# 2 Sample t-test in SciPy"
   ]
  },
  {
   "cell_type": "code",
   "execution_count": 120,
   "metadata": {},
   "outputs": [
    {
     "data": {
      "text/html": [
       "<div>\n",
       "<style scoped>\n",
       "    .dataframe tbody tr th:only-of-type {\n",
       "        vertical-align: middle;\n",
       "    }\n",
       "\n",
       "    .dataframe tbody tr th {\n",
       "        vertical-align: top;\n",
       "    }\n",
       "\n",
       "    .dataframe thead th {\n",
       "        text-align: right;\n",
       "    }\n",
       "</style>\n",
       "<table border=\"1\" class=\"dataframe\">\n",
       "  <thead>\n",
       "    <tr style=\"text-align: right;\">\n",
       "      <th></th>\n",
       "      <th>Males</th>\n",
       "      <th>Females</th>\n",
       "    </tr>\n",
       "  </thead>\n",
       "  <tbody>\n",
       "    <tr>\n",
       "      <th>0</th>\n",
       "      <td>170</td>\n",
       "      <td>166</td>\n",
       "    </tr>\n",
       "    <tr>\n",
       "      <th>1</th>\n",
       "      <td>172</td>\n",
       "      <td>140</td>\n",
       "    </tr>\n",
       "    <tr>\n",
       "      <th>2</th>\n",
       "      <td>189</td>\n",
       "      <td>178</td>\n",
       "    </tr>\n",
       "    <tr>\n",
       "      <th>3</th>\n",
       "      <td>179</td>\n",
       "      <td>162</td>\n",
       "    </tr>\n",
       "    <tr>\n",
       "      <th>4</th>\n",
       "      <td>168</td>\n",
       "      <td>155</td>\n",
       "    </tr>\n",
       "    <tr>\n",
       "      <th>5</th>\n",
       "      <td>180</td>\n",
       "      <td>181</td>\n",
       "    </tr>\n",
       "    <tr>\n",
       "      <th>6</th>\n",
       "      <td>177</td>\n",
       "      <td>165</td>\n",
       "    </tr>\n",
       "    <tr>\n",
       "      <th>7</th>\n",
       "      <td>164</td>\n",
       "      <td>170</td>\n",
       "    </tr>\n",
       "    <tr>\n",
       "      <th>8</th>\n",
       "      <td>188</td>\n",
       "      <td>172</td>\n",
       "    </tr>\n",
       "    <tr>\n",
       "      <th>9</th>\n",
       "      <td>173</td>\n",
       "      <td>152</td>\n",
       "    </tr>\n",
       "  </tbody>\n",
       "</table>\n",
       "</div>"
      ],
      "text/plain": [
       "   Males  Females\n",
       "0    170      166\n",
       "1    172      140\n",
       "2    189      178\n",
       "3    179      162\n",
       "4    168      155\n",
       "5    180      181\n",
       "6    177      165\n",
       "7    164      170\n",
       "8    188      172\n",
       "9    173      152"
      ]
     },
     "execution_count": 120,
     "metadata": {},
     "output_type": "execute_result"
    }
   ],
   "source": [
    "import pandas as pd\n",
    "from scipy import stats\n",
    "m = [170,172,189,179,168,180,177,164,188,173]\n",
    "f = [166,140,178,162,155,181,165,170,172,152]\n",
    "# data = {'Males' : m, 'Females': f}\n",
    "# df = pd.DataFrame(data)\n",
    "# df\n",
    "ttest, pval = stats.ttest_ind(m,f)\n",
    "pval"
   ]
  },
  {
   "cell_type": "markdown",
   "metadata": {},
   "source": [
    "### In 2 sample t-test:\n",
    "H0: state that the two populations being tested have no statistically\n",
    "significant difference.\n",
    "\n",
    "H1: state that the two populations are different!"
   ]
  },
  {
   "cell_type": "code",
   "execution_count": 118,
   "metadata": {},
   "outputs": [
    {
     "name": "stdout",
     "output_type": "stream",
     "text": [
      "we do not have enough evidence to reject null hypothesis\n"
     ]
    }
   ],
   "source": [
    "if pval < 0.05:\n",
    "    print(\"we do not have enough evidence to reject null hypothesis\")\n",
    "else:\n",
    "    print(\"do not reject null hypothesis\")"
   ]
  },
  {
   "cell_type": "markdown",
   "metadata": {},
   "source": [
    "## Paired t-test\n",
    "Sometimes called dependent sample t-test\n",
    "\n",
    "Statistical procedure used to determine whether the mean\n",
    "difference between two sets of observations is zero"
   ]
  },
  {
   "cell_type": "code",
   "execution_count": 122,
   "metadata": {},
   "outputs": [
    {
     "name": "stdout",
     "output_type": "stream",
     "text": [
      "     patient     sex agegrp  bp_before  bp_after\n",
      "0          1    Male  30-45        143       153\n",
      "1          2    Male  30-45        163       170\n",
      "2          3    Male  30-45        153       168\n",
      "3          4    Male  30-45        153       142\n",
      "4          5    Male  30-45        146       141\n",
      "..       ...     ...    ...        ...       ...\n",
      "115      116  Female    60+        152       152\n",
      "116      117  Female    60+        161       152\n",
      "117      118  Female    60+        165       174\n",
      "118      119  Female    60+        149       151\n",
      "119      120  Female    60+        185       163\n",
      "\n",
      "[120 rows x 5 columns]\n",
      "     bp_before  bp_after\n",
      "0          143       153\n",
      "1          163       170\n",
      "2          153       168\n",
      "3          153       142\n",
      "4          146       141\n",
      "..         ...       ...\n",
      "115        152       152\n",
      "116        161       152\n",
      "117        165       174\n",
      "118        149       151\n",
      "119        185       163\n",
      "\n",
      "[120 rows x 2 columns]\n"
     ]
    },
    {
     "data": {
      "text/html": [
       "<div>\n",
       "<style scoped>\n",
       "    .dataframe tbody tr th:only-of-type {\n",
       "        vertical-align: middle;\n",
       "    }\n",
       "\n",
       "    .dataframe tbody tr th {\n",
       "        vertical-align: top;\n",
       "    }\n",
       "\n",
       "    .dataframe thead th {\n",
       "        text-align: right;\n",
       "    }\n",
       "</style>\n",
       "<table border=\"1\" class=\"dataframe\">\n",
       "  <thead>\n",
       "    <tr style=\"text-align: right;\">\n",
       "      <th></th>\n",
       "      <th>bp_before</th>\n",
       "      <th>bp_after</th>\n",
       "    </tr>\n",
       "  </thead>\n",
       "  <tbody>\n",
       "    <tr>\n",
       "      <th>count</th>\n",
       "      <td>120.000000</td>\n",
       "      <td>120.000000</td>\n",
       "    </tr>\n",
       "    <tr>\n",
       "      <th>mean</th>\n",
       "      <td>156.450000</td>\n",
       "      <td>151.358333</td>\n",
       "    </tr>\n",
       "    <tr>\n",
       "      <th>std</th>\n",
       "      <td>11.389845</td>\n",
       "      <td>14.177622</td>\n",
       "    </tr>\n",
       "    <tr>\n",
       "      <th>min</th>\n",
       "      <td>138.000000</td>\n",
       "      <td>125.000000</td>\n",
       "    </tr>\n",
       "    <tr>\n",
       "      <th>25%</th>\n",
       "      <td>147.000000</td>\n",
       "      <td>140.750000</td>\n",
       "    </tr>\n",
       "    <tr>\n",
       "      <th>50%</th>\n",
       "      <td>154.500000</td>\n",
       "      <td>149.500000</td>\n",
       "    </tr>\n",
       "    <tr>\n",
       "      <th>75%</th>\n",
       "      <td>164.000000</td>\n",
       "      <td>161.000000</td>\n",
       "    </tr>\n",
       "    <tr>\n",
       "      <th>max</th>\n",
       "      <td>185.000000</td>\n",
       "      <td>185.000000</td>\n",
       "    </tr>\n",
       "  </tbody>\n",
       "</table>\n",
       "</div>"
      ],
      "text/plain": [
       "        bp_before    bp_after\n",
       "count  120.000000  120.000000\n",
       "mean   156.450000  151.358333\n",
       "std     11.389845   14.177622\n",
       "min    138.000000  125.000000\n",
       "25%    147.000000  140.750000\n",
       "50%    154.500000  149.500000\n",
       "75%    164.000000  161.000000\n",
       "max    185.000000  185.000000"
      ]
     },
     "execution_count": 122,
     "metadata": {},
     "output_type": "execute_result"
    }
   ],
   "source": [
    "import pandas as pd\n",
    "\n",
    "df = pd.read_csv('blood_pressure.csv')\n",
    "print(df)\n",
    "print(df[['bp_before','bp_after']])\n",
    "df[['bp_before','bp_after']].describe()"
   ]
  },
  {
   "cell_type": "code",
   "execution_count": 126,
   "metadata": {},
   "outputs": [
    {
     "data": {
      "text/plain": [
       "array([[<matplotlib.axes._subplots.AxesSubplot object at 0x130B3340>,\n",
       "        <matplotlib.axes._subplots.AxesSubplot object at 0x13066460>]],\n",
       "      dtype=object)"
      ]
     },
     "execution_count": 126,
     "metadata": {},
     "output_type": "execute_result"
    },
    {
     "data": {
      "image/png": "[encoded data removed]",
      "text/plain": [
       "<Figure size 432x288 with 2 Axes>"
      ]
     },
     "metadata": {
      "needs_background": "light"
     },
     "output_type": "display_data"
    }
   ],
   "source": [
    "from scipy import stats\n",
    "df1 = df[['bp_before', 'bp_after']]\n",
    "df1.hist(grid=False)"
   ]
  },
  {
   "cell_type": "code",
   "execution_count": 125,
   "metadata": {},
   "outputs": [
    {
     "data": {
      "text/plain": [
       "<matplotlib.axes._subplots.AxesSubplot at 0x13074c58>"
      ]
     },
     "execution_count": 125,
     "metadata": {},
     "output_type": "execute_result"
    },
    {
     "data": {
      "image/png": "[encoded data removed]",
      "text/plain": [
       "<Figure size 432x288 with 1 Axes>"
      ]
     },
     "metadata": {
      "needs_background": "light"
     },
     "output_type": "display_data"
    }
   ],
   "source": [
    "df1 = df[['bp_before','bp_after']]\n",
    "df1.boxplot(grid=False)"
   ]
  },
  {
   "cell_type": "code",
   "execution_count": 127,
   "metadata": {},
   "outputs": [
    {
     "data": {
      "text/plain": [
       "0.0011297914644840823"
      ]
     },
     "execution_count": 127,
     "metadata": {},
     "output_type": "execute_result"
    }
   ],
   "source": [
    "from scipy import stats\n",
    "\n",
    "ttestm, pval = stats.ttest_rel(df['bp_before'], df['bp_after'])\n",
    "pval"
   ]
  },
  {
   "cell_type": "code",
   "execution_count": 128,
   "metadata": {},
   "outputs": [
    {
     "name": "stdout",
     "output_type": "stream",
     "text": [
      "Null hypothesis is rejected.\n"
     ]
    }
   ],
   "source": [
    "if pval > 0.05:\n",
    "    print(\"There is not enough evidence to reject the null hypothesis\")\n",
    "if pval < 0.05:\n",
    "    print(\"Null hypothesis is rejected.\")"
   ]
  },
  {
   "cell_type": "markdown",
   "metadata": {},
   "source": [
    "## When to use test?\n",
    "### Z-Test\n",
    "\n",
    "- There is population variance\n",
    "- Sample is assumed to be normally distributed\n",
    "\n",
    "### T-Test\n",
    "- Population variance is unknown\n",
    "- Sample is less than 30\n",
    "#### One-sample t-test\n",
    "#### Two-sample t-test\n",
    "#### Paired t-test\n",
    "\n",
    "## ANOVA\n",
    "- >3 sample groups\n",
    "- One way ANOVA\n",
    "- Two way ANOVA\n",
    "    - Very useful in comparing the 2 categories example: anxiety levels between boys and girls in an examination\n",
    "\n",
    "## Chi-square Test\n",
    "- CATEGORICAL DATA"
   ]
  },
  {
   "cell_type": "code",
   "execution_count": null,
   "metadata": {},
   "outputs": [],
   "source": []
  }
 ],
 "metadata": {
  "kernelspec": {
   "display_name": "Python 3",
   "language": "python",
   "name": "python3"
  },
  "language_info": {
   "codemirror_mode": {
    "name": "ipython",
    "version": 3
   },
   "file_extension": ".py",
   "mimetype": "text/x-python",
   "name": "python",
   "nbconvert_exporter": "python",
   "pygments_lexer": "ipython3",
   "version": "3.8.3"
  }
 },
 "nbformat": 4,
 "nbformat_minor": 4
}
