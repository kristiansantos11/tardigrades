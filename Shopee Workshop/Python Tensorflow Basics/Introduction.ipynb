{
 "cells": [
  {
   "cell_type": "markdown",
   "metadata": {},
   "source": [
    "# Introduction to Tensorflow\n",
    "\n",
    "## What is TensorFlow?\n",
    "- Open source platform for machine learning (ML)\n",
    "- Flexible ecosystem of tools, libraries and resources\n",
    "- Build and development of ML powered applications\n",
    "- Develop by Google Brain\n",
    "\n",
    "### Some TensorFlow Use Cases\n",
    "> Computer Vision\n",
    "- Image Classification\n",
    "- Object Detection\n",
    "- Activity Recognition\n",
    "- Image Reconstruction, Colorization\n",
    "\n",
    "> Natural Language Processing (NLP)\n"
   ]
  },
  {
   "cell_type": "markdown",
   "metadata": {},
   "source": [
    "## Prerequisite Concepts\n",
    "### 1.) Machine Learning Paradigm"
   ]
  },
  {
   "cell_type": "markdown",
   "metadata": {},
   "source": [
    "Remember that in Traditional Programming:\n",
    "\n",
    "Consists of Data and Rule as the input then Answer as the output"
   ]
  },
  {
   "cell_type": "markdown",
   "metadata": {},
   "source": [
    "#### In Machine Learning:\n",
    "\n",
    "Data and Answers are the input and rules are the output"
   ]
  },
  {
   "cell_type": "markdown",
   "metadata": {},
   "source": [
    "### Dataset Features and Labels (Data + Answers)\n",
    "- A feature is an individual measureable property or characteristic\n",
    "\n",
    "Label = answers to the problems\n",
    "\n",
    "In tensorflow, all of these data are stored in TENSORS"
   ]
  },
  {
   "cell_type": "markdown",
   "metadata": {},
   "source": [
    "### 2.) Tensors\n",
    "\n",
    "- Tensors are multidimensional arrays with a uniform type (only one data type. ex: float, string, boolean, etc.)\n",
    "\n",
    "- Can be seen as a generalization of scalars, vectors and matrices in N-dimensions, the dimension of a tensor is called the 'rank'\n",
    "\n",
    "> scalar: rank = 0\n",
    "\n",
    "> vector: rank = 1\n",
    "\n",
    "> matrix: rank = 2\n",
    "\n",
    "> tensor: rank > 3\n",
    "\n",
    "- Useful to represent data"
   ]
  },
  {
   "cell_type": "markdown",
   "metadata": {},
   "source": [
    "### 3.) Computational Graphs\n",
    "\n",
    "- Tensorflow uses a dataflow graph to represent your computation in terms of the dependecies between individual operations\n",
    "\n",
    "**Example:** z = w*x + b\n",
    "\n",
    "#### Why use computational graphs?\n",
    "1.) **Parallelism**: easy for the system to identify operations that can execute in parallel.\n",
    "\n",
    "2.) **Portability:** graph is defined in high level language, independent representation of the code in your model.\n",
    "\n",
    "3.) **Compilation:** graph is compiled with TensorFlow's XLA (Accelerated Linear Algebra) compiler to generate faster code (e.g Fusing together adjacent operations.)\n",
    "\n",
    "4.) **Distributed execution:** "
   ]
  },
  {
   "cell_type": "markdown",
   "metadata": {},
   "source": [
    "## Simple computation with Tensorflow 1\n",
    "\n",
    "There are 2 phases. Construction phase and execution phase:\n",
    "Construction phase "
   ]
  },
  {
   "cell_type": "markdown",
   "metadata": {},
   "source": [
    "## Simple computation with Tensorflow 2"
   ]
  },
  {
   "cell_type": "code",
   "execution_count": 1,
   "metadata": {},
   "outputs": [
    {
     "name": "stdout",
     "output_type": "stream",
     "text": [
      "TensorFlow version: 2.1.0\n"
     ]
    }
   ],
   "source": [
    "import tensorflow as tf\n",
    "print(f\"TensorFlow version: {tf.__version__}\")"
   ]
  },
  {
   "cell_type": "code",
   "execution_count": 2,
   "metadata": {},
   "outputs": [
    {
     "data": {
      "text/plain": [
       "array([ 1, 12,  0])"
      ]
     },
     "execution_count": 2,
     "metadata": {},
     "output_type": "execute_result"
    }
   ],
   "source": [
    "node1 = tf.constant([1, 2, -5])\n",
    "node2 = tf.constant([0, 10, 5])\n",
    "node3 = tf.add(node1, node2)\n",
    "\n",
    "node3.numpy()"
   ]
  },
  {
   "cell_type": "code",
   "execution_count": null,
   "metadata": {},
   "outputs": [],
   "source": []
  }
 ],
 "metadata": {
  "kernelspec": {
   "display_name": "Python 3",
   "language": "python",
   "name": "python3"
  },
  "language_info": {
   "codemirror_mode": {
    "name": "ipython",
    "version": 3
   },
   "file_extension": ".py",
   "mimetype": "text/x-python",
   "name": "python",
   "nbconvert_exporter": "python",
   "pygments_lexer": "ipython3",
   "version": "3.7.7"
  }
 },
 "nbformat": 4,
 "nbformat_minor": 4
}
