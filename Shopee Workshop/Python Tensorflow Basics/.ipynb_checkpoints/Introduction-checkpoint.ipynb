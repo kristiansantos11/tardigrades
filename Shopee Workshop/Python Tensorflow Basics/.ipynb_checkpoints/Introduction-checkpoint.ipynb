{
 "cells": [
  {
   "cell_type": "markdown",
   "metadata": {},
   "source": [
    "# Introduction to Tensorflow\n",
    "\n",
    "## What is TensorFlow?\n",
    "- Open source platform for machine learning (ML)\n",
    "- Flexible ecosystem of tools, libraries and resources\n",
    "- Build and development of ML powered applications\n",
    "- Develop by Google Brain\n",
    "\n",
    "### Some TensorFlow Use Cases\n",
    "> Computer Vision\n",
    "- Image Classification\n",
    "- Object Detection\n",
    "- Activity Recognition\n",
    "- Image Reconstruction, Colorization\n",
    "\n",
    "> Natural Language Processing (NLP)\n"
   ]
  },
  {
   "cell_type": "markdown",
   "metadata": {},
   "source": [
    "## Prerequisite Concepts\n",
    "### 1.) Machine Learning Paradigm"
   ]
  },
  {
   "cell_type": "markdown",
   "metadata": {},
   "source": [
    "Remember that in Traditional Programming:\n",
    "\n",
    "Consists of Data and Rule as the input then Answer as the output"
   ]
  },
  {
   "cell_type": "markdown",
   "metadata": {},
   "source": [
    "#### In Machine Learning:\n",
    "\n",
    "Data and Answers are the input and rules are the output"
   ]
  },
  {
   "cell_type": "markdown",
   "metadata": {},
   "source": [
    "### Dataset Features and Labels (Data + Answers)\n",
    "- A feature is an individual measureable property or characteristic\n",
    "\n",
    "Label = answers to the problems\n",
    "\n",
    "In tensorflow, all of these data are stored in TENSORS"
   ]
  },
  {
   "cell_type": "markdown",
   "metadata": {},
   "source": [
    "### 2.) Tensors\n",
    "\n",
    "- Tensors are multidimensional arrays with a uniform type (only one data type. ex: float, string, boolean, etc.)\n",
    "\n",
    "- Can be seen as a generalization of scalars, vectors and matrices in N-dimensions, the dimension of a tensor is called the 'rank'\n",
    "\n",
    "> scalar: rank = 0\n",
    "\n",
    "> vector: rank = 1\n",
    "\n",
    "> matrix: rank = 2\n",
    "\n",
    "> tensor: rank > 3\n",
    "\n",
    "- Useful to represent data"
   ]
  },
  {
   "cell_type": "code",
   "execution_count": null,
   "metadata": {},
   "outputs": [],
   "source": []
  }
 ],
 "metadata": {
  "kernelspec": {
   "display_name": "Python 3",
   "language": "python",
   "name": "python3"
  },
  "language_info": {
   "codemirror_mode": {
    "name": "ipython",
    "version": 3
   },
   "file_extension": ".py",
   "mimetype": "text/x-python",
   "name": "python",
   "nbconvert_exporter": "python",
   "pygments_lexer": "ipython3",
   "version": "3.7.7"
  }
 },
 "nbformat": 4,
 "nbformat_minor": 4
}
