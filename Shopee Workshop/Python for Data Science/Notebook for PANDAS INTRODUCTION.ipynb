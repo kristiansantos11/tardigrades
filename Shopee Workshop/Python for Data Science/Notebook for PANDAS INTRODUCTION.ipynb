{
 "cells": [
  {
   "cell_type": "markdown",
   "metadata": {},
   "source": [
    "# Python for Data Science"
   ]
  },
  {
   "cell_type": "markdown",
   "metadata": {},
   "source": [
    "Ultimate Goal: Have the basis to learn practical data science by yourselves\n",
    "\n",
    "#### Session Plan:\n",
    "1.) Data Exploration \\\n",
    "2.) Data Visualization \\\n",
    "3.) Machine Learning \\\n",
    "4.) Question and Answers"
   ]
  },
  {
   "cell_type": "markdown",
   "metadata": {},
   "source": [
    "## Pandas\n",
    "\n",
    "Pandas Workflow:\n",
    "\n",
    "1.) Load Data \\\n",
    "2.) Merge in Single DataFrame \\\n",
    "3.) Clean / Normalize Data \\\n",
    "4.) Intermediate Dump (Clean Data)\n",
    "- This allows to restart the analysis from this step. Only necessary when the previous steps are performance intensive\n",
    "\n",
    "5.) Aggregate / Transform \\\n",
    "6.) Display or Save Results \\\n",
    "7.) TRAIN MODEL OR REPORTING AUTOMATION"
   ]
  },
  {
   "cell_type": "markdown",
   "metadata": {},
   "source": [
    "## Pandas: Building Blocks\n",
    "\n",
    "1.) DataFrame [object]: The main pandas object. Represents a table. Think of it as an excel table. \\\n",
    "2.) Transform: To transform some existing column (or create new columns from an existing one). Syntax: apply() \\\n",
    "3.) Fiter: Selects a subsection of the dataframe. Syntax: loc, query() \\\n",
    "4.) Aggregation: The core of the pandas workload. Syntax: groupby()"
   ]
  },
  {
   "cell_type": "markdown",
   "metadata": {},
   "source": [
    "# Open the intro-to-pandas notebook now!"
   ]
  },
  {
   "cell_type": "code",
   "execution_count": null,
   "metadata": {},
   "outputs": [],
   "source": []
  }
 ],
 "metadata": {
  "kernelspec": {
   "display_name": "Python 3",
   "language": "python",
   "name": "python3"
  },
  "language_info": {
   "codemirror_mode": {
    "name": "ipython",
    "version": 3
   },
   "file_extension": ".py",
   "mimetype": "text/x-python",
   "name": "python",
   "nbconvert_exporter": "python",
   "pygments_lexer": "ipython3",
   "version": "3.7.6"
  }
 },
 "nbformat": 4,
 "nbformat_minor": 4
}
