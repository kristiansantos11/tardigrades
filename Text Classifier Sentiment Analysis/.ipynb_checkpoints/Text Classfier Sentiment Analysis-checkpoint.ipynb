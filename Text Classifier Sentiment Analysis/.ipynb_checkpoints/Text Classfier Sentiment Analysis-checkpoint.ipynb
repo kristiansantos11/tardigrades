{
 "cells": [
  {
   "cell_type": "markdown",
   "metadata": {},
   "source": [
    "# Text Classifier Sentiment Analysis\n",
    "\n",
    "TASK: Create a text classification model that predicts the rating of a review depending on its ratings.\n",
    "\n",
    " **NOTES**:\n",
    "- The reviews may contain the following noises:\n",
    "    - Grammatically incorrect reviews\n",
    "    - Reviews mixed with different langauges\n",
    "    - Reviews with emojis?\n",
    "\n",
    "It is imperative to make a robust pre-processing method to the training dataset to improve prediction rates.\n",
    "\n",
    "Not recommended to use external data since most of them are just positive and negative classifications (or sometimes emoji classifications)\n",
    "\n",
    "Recommended to use the BERT Lightweight model (such as DistillBert). Using the base BERT will increase chances of overfitting"
   ]
  },
  {
   "cell_type": "markdown",
   "metadata": {},
   "source": [
    "For helpful information and documentation about the different models available:\n",
    "\n",
    "https://github.com/huggingface/transformers"
   ]
  },
  {
   "cell_type": "markdown",
   "metadata": {},
   "source": [
    "## Import the required packages and libraries and import the training and testing datasets"
   ]
  },
  {
   "cell_type": "code",
   "execution_count": 4,
   "metadata": {},
   "outputs": [],
   "source": [
    "import pandas as pd\n",
    "import numpy as np\n",
    "import transformers"
   ]
  },
  {
   "cell_type": "code",
   "execution_count": 5,
   "metadata": {},
   "outputs": [],
   "source": [
    "train_df = pd.read_csv('train.csv')\n",
    "test_df = pd.read_csv('test.csv')"
   ]
  },
  {
   "cell_type": "markdown",
   "metadata": {},
   "source": [
    "## Analyze the training datasets"
   ]
  },
  {
   "cell_type": "code",
   "execution_count": 29,
   "metadata": {},
   "outputs": [],
   "source": [
    "import altair as alt"
   ]
  },
  {
   "cell_type": "code",
   "execution_count": 6,
   "metadata": {},
   "outputs": [
    {
     "data": {
      "text/html": [
       "<div>\n",
       "<style scoped>\n",
       "    .dataframe tbody tr th:only-of-type {\n",
       "        vertical-align: middle;\n",
       "    }\n",
       "\n",
       "    .dataframe tbody tr th {\n",
       "        vertical-align: top;\n",
       "    }\n",
       "\n",
       "    .dataframe thead th {\n",
       "        text-align: right;\n",
       "    }\n",
       "</style>\n",
       "<table border=\"1\" class=\"dataframe\">\n",
       "  <thead>\n",
       "    <tr style=\"text-align: right;\">\n",
       "      <th></th>\n",
       "      <th>review_id</th>\n",
       "      <th>review</th>\n",
       "      <th>rating</th>\n",
       "    </tr>\n",
       "  </thead>\n",
       "  <tbody>\n",
       "    <tr>\n",
       "      <th>0</th>\n",
       "      <td>0</td>\n",
       "      <td>Ga disappointed neat products .. Meletot Hilsn...</td>\n",
       "      <td>1</td>\n",
       "    </tr>\n",
       "    <tr>\n",
       "      <th>1</th>\n",
       "      <td>1</td>\n",
       "      <td>Rdtanya replace broken glass, broken chargernya</td>\n",
       "      <td>1</td>\n",
       "    </tr>\n",
       "    <tr>\n",
       "      <th>2</th>\n",
       "      <td>2</td>\n",
       "      <td>Nyesel bngt dsni shopping antecedent photo mes...</td>\n",
       "      <td>1</td>\n",
       "    </tr>\n",
       "    <tr>\n",
       "      <th>3</th>\n",
       "      <td>3</td>\n",
       "      <td>Sent a light blue suit goods ga want a refund</td>\n",
       "      <td>1</td>\n",
       "    </tr>\n",
       "    <tr>\n",
       "      <th>4</th>\n",
       "      <td>4</td>\n",
       "      <td>Pendants came with dents and scratches on its ...</td>\n",
       "      <td>1</td>\n",
       "    </tr>\n",
       "    <tr>\n",
       "      <th>5</th>\n",
       "      <td>5</td>\n",
       "      <td>Dg yg depending being sent in photos</td>\n",
       "      <td>1</td>\n",
       "    </tr>\n",
       "    <tr>\n",
       "      <th>6</th>\n",
       "      <td>6</td>\n",
       "      <td>Hours not a hologram</td>\n",
       "      <td>1</td>\n",
       "    </tr>\n",
       "    <tr>\n",
       "      <th>7</th>\n",
       "      <td>7</td>\n",
       "      <td>Shop fraudulent business. we put two lamps, on...</td>\n",
       "      <td>1</td>\n",
       "    </tr>\n",
       "    <tr>\n",
       "      <th>8</th>\n",
       "      <td>8</td>\n",
       "      <td>Well, according to Price</td>\n",
       "      <td>1</td>\n",
       "    </tr>\n",
       "    <tr>\n",
       "      <th>9</th>\n",
       "      <td>9</td>\n",
       "      <td>Pictures and names of elise 7154, but the bran...</td>\n",
       "      <td>1</td>\n",
       "    </tr>\n",
       "  </tbody>\n",
       "</table>\n",
       "</div>"
      ],
      "text/plain": [
       "   review_id                                             review  rating\n",
       "0          0  Ga disappointed neat products .. Meletot Hilsn...       1\n",
       "1          1    Rdtanya replace broken glass, broken chargernya       1\n",
       "2          2  Nyesel bngt dsni shopping antecedent photo mes...       1\n",
       "3          3      Sent a light blue suit goods ga want a refund       1\n",
       "4          4  Pendants came with dents and scratches on its ...       1\n",
       "5          5               Dg yg depending being sent in photos       1\n",
       "6          6                               Hours not a hologram       1\n",
       "7          7  Shop fraudulent business. we put two lamps, on...       1\n",
       "8          8                           Well, according to Price       1\n",
       "9          9  Pictures and names of elise 7154, but the bran...       1"
      ]
     },
     "execution_count": 6,
     "metadata": {},
     "output_type": "execute_result"
    }
   ],
   "source": [
    "train_df.head(10)"
   ]
  },
  {
   "cell_type": "code",
   "execution_count": 7,
   "metadata": {},
   "outputs": [
    {
     "data": {
      "text/html": [
       "<div>\n",
       "<style scoped>\n",
       "    .dataframe tbody tr th:only-of-type {\n",
       "        vertical-align: middle;\n",
       "    }\n",
       "\n",
       "    .dataframe tbody tr th {\n",
       "        vertical-align: top;\n",
       "    }\n",
       "\n",
       "    .dataframe thead th {\n",
       "        text-align: right;\n",
       "    }\n",
       "</style>\n",
       "<table border=\"1\" class=\"dataframe\">\n",
       "  <thead>\n",
       "    <tr style=\"text-align: right;\">\n",
       "      <th></th>\n",
       "      <th>review_id</th>\n",
       "      <th>review</th>\n",
       "    </tr>\n",
       "  </thead>\n",
       "  <tbody>\n",
       "    <tr>\n",
       "      <th>0</th>\n",
       "      <td>0</td>\n",
       "      <td>slow delivery</td>\n",
       "    </tr>\n",
       "    <tr>\n",
       "      <th>1</th>\n",
       "      <td>1</td>\n",
       "      <td>Dateng goods do not conform pesanan😔</td>\n",
       "    </tr>\n",
       "    <tr>\n",
       "      <th>2</th>\n",
       "      <td>2</td>\n",
       "      <td>PSN k its 20 other DTG</td>\n",
       "    </tr>\n",
       "    <tr>\n",
       "      <th>3</th>\n",
       "      <td>3</td>\n",
       "      <td>I am expected that it have a frame and painted...</td>\n",
       "    </tr>\n",
       "    <tr>\n",
       "      <th>4</th>\n",
       "      <td>4</td>\n",
       "      <td>The product quality is not good.</td>\n",
       "    </tr>\n",
       "    <tr>\n",
       "      <th>5</th>\n",
       "      <td>5</td>\n",
       "      <td>goods came really not the same as shown in the...</td>\n",
       "    </tr>\n",
       "    <tr>\n",
       "      <th>6</th>\n",
       "      <td>6</td>\n",
       "      <td>Q order came quickly but im so very disappoint...</td>\n",
       "    </tr>\n",
       "    <tr>\n",
       "      <th>7</th>\n",
       "      <td>7</td>\n",
       "      <td>Aprox 1 bjunyaa</td>\n",
       "    </tr>\n",
       "    <tr>\n",
       "      <th>8</th>\n",
       "      <td>8</td>\n",
       "      <td>Send a brown color to black, very sick.</td>\n",
       "    </tr>\n",
       "    <tr>\n",
       "      <th>9</th>\n",
       "      <td>9</td>\n",
       "      <td>Did not receive item Will not order again</td>\n",
       "    </tr>\n",
       "  </tbody>\n",
       "</table>\n",
       "</div>"
      ],
      "text/plain": [
       "   review_id                                             review\n",
       "0          0                                      slow delivery\n",
       "1          1               Dateng goods do not conform pesanan😔\n",
       "2          2                             PSN k its 20 other DTG\n",
       "3          3  I am expected that it have a frame and painted...\n",
       "4          4                   The product quality is not good.\n",
       "5          5  goods came really not the same as shown in the...\n",
       "6          6  Q order came quickly but im so very disappoint...\n",
       "7          7                                    Aprox 1 bjunyaa\n",
       "8          8            Send a brown color to black, very sick.\n",
       "9          9          Did not receive item Will not order again"
      ]
     },
     "execution_count": 7,
     "metadata": {},
     "output_type": "execute_result"
    }
   ],
   "source": [
    "test_df.head(10)"
   ]
  },
  {
   "cell_type": "code",
   "execution_count": 59,
   "metadata": {},
   "outputs": [
    {
     "data": {
      "text/html": [
       "<div>\n",
       "<style scoped>\n",
       "    .dataframe tbody tr th:only-of-type {\n",
       "        vertical-align: middle;\n",
       "    }\n",
       "\n",
       "    .dataframe tbody tr th {\n",
       "        vertical-align: top;\n",
       "    }\n",
       "\n",
       "    .dataframe thead th {\n",
       "        text-align: right;\n",
       "    }\n",
       "</style>\n",
       "<table border=\"1\" class=\"dataframe\">\n",
       "  <thead>\n",
       "    <tr style=\"text-align: right;\">\n",
       "      <th></th>\n",
       "      <th>rating</th>\n",
       "      <th>frequency</th>\n",
       "    </tr>\n",
       "  </thead>\n",
       "  <tbody>\n",
       "    <tr>\n",
       "      <th>0</th>\n",
       "      <td>1</td>\n",
       "      <td>14785</td>\n",
       "    </tr>\n",
       "    <tr>\n",
       "      <th>1</th>\n",
       "      <td>2</td>\n",
       "      <td>12705</td>\n",
       "    </tr>\n",
       "    <tr>\n",
       "      <th>2</th>\n",
       "      <td>3</td>\n",
       "      <td>35941</td>\n",
       "    </tr>\n",
       "    <tr>\n",
       "      <th>3</th>\n",
       "      <td>4</td>\n",
       "      <td>41865</td>\n",
       "    </tr>\n",
       "    <tr>\n",
       "      <th>4</th>\n",
       "      <td>5</td>\n",
       "      <td>41515</td>\n",
       "    </tr>\n",
       "  </tbody>\n",
       "</table>\n",
       "</div>"
      ],
      "text/plain": [
       "   rating  frequency\n",
       "0       1      14785\n",
       "1       2      12705\n",
       "2       3      35941\n",
       "3       4      41865\n",
       "4       5      41515"
      ]
     },
     "execution_count": 59,
     "metadata": {},
     "output_type": "execute_result"
    }
   ],
   "source": [
    "train_frequency_df = pd.DataFrame(data={'rating': [1, 2, 3, 4, 5] , 'frequency': list(train_df.groupby(['rating'])['review_id'].count())})\n",
    "train_frequency_df"
   ]
  },
  {
   "cell_type": "code",
   "execution_count": 65,
   "metadata": {},
   "outputs": [
    {
     "data": {
      "text/html": [
       "\n",
       "<div id=\"altair-viz-57c04efe36414aa99a41253943869d56\"></div>\n",
       "<script type=\"text/javascript\">\n",
       "  (function(spec, embedOpt){\n",
       "    let outputDiv = document.currentScript.previousElementSibling;\n",
       "    if (outputDiv.id !== \"altair-viz-57c04efe36414aa99a41253943869d56\") {\n",
       "      outputDiv = document.getElementById(\"altair-viz-57c04efe36414aa99a41253943869d56\");\n",
       "    }\n",
       "    const paths = {\n",
       "      \"vega\": \"https://cdn.jsdelivr.net/npm//vega@5?noext\",\n",
       "      \"vega-lib\": \"https://cdn.jsdelivr.net/npm//vega-lib?noext\",\n",
       "      \"vega-lite\": \"https://cdn.jsdelivr.net/npm//vega-lite@4.8.1?noext\",\n",
       "      \"vega-embed\": \"https://cdn.jsdelivr.net/npm//vega-embed@6?noext\",\n",
       "    };\n",
       "\n",
       "    function loadScript(lib) {\n",
       "      return new Promise(function(resolve, reject) {\n",
       "        var s = document.createElement('script');\n",
       "        s.src = paths[lib];\n",
       "        s.async = true;\n",
       "        s.onload = () => resolve(paths[lib]);\n",
       "        s.onerror = () => reject(`Error loading script: ${paths[lib]}`);\n",
       "        document.getElementsByTagName(\"head\")[0].appendChild(s);\n",
       "      });\n",
       "    }\n",
       "\n",
       "    function showError(err) {\n",
       "      outputDiv.innerHTML = `<div class=\"error\" style=\"color:red;\">${err}</div>`;\n",
       "      throw err;\n",
       "    }\n",
       "\n",
       "    function displayChart(vegaEmbed) {\n",
       "      vegaEmbed(outputDiv, spec, embedOpt)\n",
       "        .catch(err => showError(`Javascript Error: ${err.message}<br>This usually means there's a typo in your chart specification. See the javascript console for the full traceback.`));\n",
       "    }\n",
       "\n",
       "    if(typeof define === \"function\" && define.amd) {\n",
       "      requirejs.config({paths});\n",
       "      require([\"vega-embed\"], displayChart, err => showError(`Error loading script: ${err.message}`));\n",
       "    } else if (typeof vegaEmbed === \"function\") {\n",
       "      displayChart(vegaEmbed);\n",
       "    } else {\n",
       "      loadScript(\"vega\")\n",
       "        .then(() => loadScript(\"vega-lite\"))\n",
       "        .then(() => loadScript(\"vega-embed\"))\n",
       "        .catch(showError)\n",
       "        .then(() => displayChart(vegaEmbed));\n",
       "    }\n",
       "  })({\"config\": {\"view\": {\"continuousWidth\": 400, \"continuousHeight\": 300}}, \"data\": {\"name\": \"data-20ed58c44fda532e28d67724bed272d8\"}, \"mark\": \"bar\", \"encoding\": {\"color\": {\"type\": \"quantitative\", \"field\": \"rating\", \"legend\": null, \"scale\": {\"domain\": [1, 2, 3, 4, 5], \"range\": [\"red\", \"orange\", \"yellow\", \"green\", \"blue\"]}}, \"tooltip\": [{\"type\": \"quantitative\", \"field\": \"rating\"}, {\"type\": \"quantitative\", \"field\": \"frequency\"}], \"x\": {\"type\": \"quantitative\", \"field\": \"frequency\", \"title\": \"Review ID Frequency\"}, \"y\": {\"type\": \"ordinal\", \"field\": \"rating\", \"title\": \"Rating\"}}, \"title\": \"Review_ID Frequency Analysis\", \"$schema\": \"https://vega.github.io/schema/vega-lite/v4.8.1.json\", \"datasets\": {\"data-20ed58c44fda532e28d67724bed272d8\": [{\"rating\": 1, \"frequency\": 14785}, {\"rating\": 2, \"frequency\": 12705}, {\"rating\": 3, \"frequency\": 35941}, {\"rating\": 4, \"frequency\": 41865}, {\"rating\": 5, \"frequency\": 41515}]}}, {\"mode\": \"vega-lite\"});\n",
       "</script>"
      ],
      "text/plain": [
       "alt.Chart(...)"
      ]
     },
     "execution_count": 65,
     "metadata": {},
     "output_type": "execute_result"
    }
   ],
   "source": [
    "frequency_chart = alt.Chart(train_frequency_df, title='Review_ID Frequency Analysis').mark_bar().encode(\n",
    "    alt.X('frequency', title=\"Review ID Frequency\"),\n",
    "    alt.Y('rating:O', title=\"Rating\"),\n",
    "    color= alt.Color('rating', legend=None, scale=alt.Scale(domain=[1, 2, 3, 4, 5], range=['red', 'orange', 'yellow', 'green', 'blue'])),\n",
    "    tooltip = [ alt.Tooltip('rating'),\n",
    "                alt.Tooltip('frequency')\n",
    "              ]\n",
    ")\n",
    "\n",
    "frequency_chart"
   ]
  },
  {
   "cell_type": "markdown",
   "metadata": {},
   "source": [
    "It is observed that the training dataset is not balanced (The ratings: 3, 4 and 5 are too much). We need to figure out a way to balance these."
   ]
  },
  {
   "cell_type": "code",
   "execution_count": 122,
   "metadata": {},
   "outputs": [],
   "source": [
    "def sentence_filter_pre(srs):\n",
    "    output_sentence = list()\n",
    "    sentence_list = srs.split()\n",
    "    for word in sentence_list:\n",
    "        filtered_word = filter(str.isalnum, word)\n",
    "        filtered_word = \"\".join(filtered_word)\n",
    "        output_sentence.append(filtered_word)\n",
    "    return \" \".join(output_sentence)\n",
    "\n",
    "def word_counter_pre(srs):\n",
    "    return len(srs.split())"
   ]
  },
  {
   "cell_type": "code",
   "execution_count": 123,
   "metadata": {},
   "outputs": [],
   "source": [
    "sentence_filter = np.vectorize(sentence_filter_pre)\n",
    "word_counter = np.vectorize(word_counter_pre)"
   ]
  },
  {
   "cell_type": "code",
   "execution_count": 126,
   "metadata": {},
   "outputs": [
    {
     "data": {
      "text/html": [
       "<div>\n",
       "<style scoped>\n",
       "    .dataframe tbody tr th:only-of-type {\n",
       "        vertical-align: middle;\n",
       "    }\n",
       "\n",
       "    .dataframe tbody tr th {\n",
       "        vertical-align: top;\n",
       "    }\n",
       "\n",
       "    .dataframe thead th {\n",
       "        text-align: right;\n",
       "    }\n",
       "</style>\n",
       "<table border=\"1\" class=\"dataframe\">\n",
       "  <thead>\n",
       "    <tr style=\"text-align: right;\">\n",
       "      <th></th>\n",
       "      <th>review</th>\n",
       "      <th>rating</th>\n",
       "      <th>review_processed</th>\n",
       "      <th>word_count</th>\n",
       "    </tr>\n",
       "  </thead>\n",
       "  <tbody>\n",
       "    <tr>\n",
       "      <th>0</th>\n",
       "      <td>Ga disappointed neat products .. Meletot Hilsn...</td>\n",
       "      <td>1</td>\n",
       "      <td>Ga disappointed neat products  Meletot Hilsnya...</td>\n",
       "      <td>11</td>\n",
       "    </tr>\n",
       "    <tr>\n",
       "      <th>1</th>\n",
       "      <td>Rdtanya replace broken glass, broken chargernya</td>\n",
       "      <td>1</td>\n",
       "      <td>Rdtanya replace broken glass broken chargernya</td>\n",
       "      <td>6</td>\n",
       "    </tr>\n",
       "    <tr>\n",
       "      <th>2</th>\n",
       "      <td>Nyesel bngt dsni shopping antecedent photo mes...</td>\n",
       "      <td>1</td>\n",
       "      <td>Nyesel bngt dsni shopping antecedent photo mes...</td>\n",
       "      <td>50</td>\n",
       "    </tr>\n",
       "    <tr>\n",
       "      <th>3</th>\n",
       "      <td>Sent a light blue suit goods ga want a refund</td>\n",
       "      <td>1</td>\n",
       "      <td>Sent a light blue suit goods ga want a refund</td>\n",
       "      <td>10</td>\n",
       "    </tr>\n",
       "    <tr>\n",
       "      <th>4</th>\n",
       "      <td>Pendants came with dents and scratches on its ...</td>\n",
       "      <td>1</td>\n",
       "      <td>Pendants came with dents and scratches on its ...</td>\n",
       "      <td>18</td>\n",
       "    </tr>\n",
       "    <tr>\n",
       "      <th>...</th>\n",
       "      <td>...</td>\n",
       "      <td>...</td>\n",
       "      <td>...</td>\n",
       "      <td>...</td>\n",
       "    </tr>\n",
       "    <tr>\n",
       "      <th>146806</th>\n",
       "      <td>Excellent product quality delivery speed is ve...</td>\n",
       "      <td>5</td>\n",
       "      <td>Excellent product quality delivery speed is ve...</td>\n",
       "      <td>12</td>\n",
       "    </tr>\n",
       "    <tr>\n",
       "      <th>146807</th>\n",
       "      <td>thanks gan</td>\n",
       "      <td>5</td>\n",
       "      <td>thanks gan</td>\n",
       "      <td>2</td>\n",
       "    </tr>\n",
       "    <tr>\n",
       "      <th>146808</th>\n",
       "      <td>Awesome awesome quality merchandise value CP ...</td>\n",
       "      <td>5</td>\n",
       "      <td>Awesome awesome quality merchandise value CP V...</td>\n",
       "      <td>8</td>\n",
       "    </tr>\n",
       "    <tr>\n",
       "      <th>146809</th>\n",
       "      <td>Nice Packing boxes made effective price .........</td>\n",
       "      <td>5</td>\n",
       "      <td>Nice Packing boxes made effective price   fast...</td>\n",
       "      <td>8</td>\n",
       "    </tr>\n",
       "    <tr>\n",
       "      <th>146810</th>\n",
       "      <td>Excellent product quality excellent product p...</td>\n",
       "      <td>5</td>\n",
       "      <td>Excellent product quality excellent product pr...</td>\n",
       "      <td>11</td>\n",
       "    </tr>\n",
       "  </tbody>\n",
       "</table>\n",
       "<p>146811 rows × 4 columns</p>\n",
       "</div>"
      ],
      "text/plain": [
       "                                                   review  rating  \\\n",
       "0       Ga disappointed neat products .. Meletot Hilsn...       1   \n",
       "1         Rdtanya replace broken glass, broken chargernya       1   \n",
       "2       Nyesel bngt dsni shopping antecedent photo mes...       1   \n",
       "3           Sent a light blue suit goods ga want a refund       1   \n",
       "4       Pendants came with dents and scratches on its ...       1   \n",
       "...                                                   ...     ...   \n",
       "146806  Excellent product quality delivery speed is ve...       5   \n",
       "146807                                         thanks gan       5   \n",
       "146808   Awesome awesome quality merchandise value CP ...       5   \n",
       "146809  Nice Packing boxes made effective price .........       5   \n",
       "146810   Excellent product quality excellent product p...       5   \n",
       "\n",
       "                                         review_processed  word_count  \n",
       "0       Ga disappointed neat products  Meletot Hilsnya...          11  \n",
       "1          Rdtanya replace broken glass broken chargernya           6  \n",
       "2       Nyesel bngt dsni shopping antecedent photo mes...          50  \n",
       "3           Sent a light blue suit goods ga want a refund          10  \n",
       "4       Pendants came with dents and scratches on its ...          18  \n",
       "...                                                   ...         ...  \n",
       "146806  Excellent product quality delivery speed is ve...          12  \n",
       "146807                                         thanks gan           2  \n",
       "146808  Awesome awesome quality merchandise value CP V...           8  \n",
       "146809  Nice Packing boxes made effective price   fast...           8  \n",
       "146810  Excellent product quality excellent product pr...          11  \n",
       "\n",
       "[146811 rows x 4 columns]"
      ]
     },
     "execution_count": 126,
     "metadata": {},
     "output_type": "execute_result"
    }
   ],
   "source": [
    "train_review_df = pd.DataFrame(train_df[['review', 'rating']])\n",
    "train_review_df['review_processed'] = sentence_filter(train_df['review'])\n",
    "train_review_df['word_count'] = word_counter(train_review_df['review_processed'])\n",
    "train_review_df"
   ]
  },
  {
   "cell_type": "code",
   "execution_count": 173,
   "metadata": {},
   "outputs": [],
   "source": [
    "grouped_word_count_rating_df = train_review_df.groupby(['rating'])['word_count']"
   ]
  },
  {
   "cell_type": "code",
   "execution_count": 175,
   "metadata": {},
   "outputs": [],
   "source": [
    "list_of_ratings = list()\n",
    "for x in range(1,6):\n",
    "    list_of_ratings.append(grouped_word_count_rating_df.get_group(x))"
   ]
  },
  {
   "cell_type": "code",
   "execution_count": 184,
   "metadata": {},
   "outputs": [
    {
     "data": {
      "image/png": "[encoded data removed]",
      "text/plain": [
       "<Figure size 720x720 with 1 Axes>"
      ]
     },
     "metadata": {
      "needs_background": "light"
     },
     "output_type": "display_data"
    }
   ],
   "source": [
    "plt.rcParams.update({'font.size': 22})\n",
    "fig, ax = plt.subplots(figsize=(10, 10))\n",
    "ax.set_title(\"Boxplot distribution of word count per rating\")\n",
    "ax.boxplot(list_of_ratings, labels=[\"Rate 1\", \"Rate 2\", \"Rate 3\", \"Rate 4\", \"Rate 5\"])\n",
    "ax.set_xlabel(\"Ratings\")\n",
    "ax.set_ylabel(\"Word Count\")\n",
    "plt.show()"
   ]
  },
  {
   "cell_type": "markdown",
   "metadata": {},
   "source": []
  }
 ],
 "metadata": {
  "kernelspec": {
   "display_name": "Python 3",
   "language": "python",
   "name": "python3"
  },
  "language_info": {
   "codemirror_mode": {
    "name": "ipython",
    "version": 3
   },
   "file_extension": ".py",
   "mimetype": "text/x-python",
   "name": "python",
   "nbconvert_exporter": "python",
   "pygments_lexer": "ipython3",
   "version": "3.7.7"
  }
 },
 "nbformat": 4,
 "nbformat_minor": 4
}
