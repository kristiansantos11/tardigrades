{
 "cells": [
  {
   "cell_type": "code",
   "execution_count": null,
   "metadata": {},
   "outputs": [],
   "source": [
    "import pandas as pd\n",
    "from sklearn.model_selection import train_test_split\n",
    "from sklearn.naive_bayes import MultinomialNB\n",
    "from sklearn.feature_extraction.text import CountVectorizer\n",
    "from sklearn.model_selection import KFold, train_test_split\n",
    "import joblib"
   ]
  },
  {
   "cell_type": "markdown",
   "metadata": {},
   "source": [
    " "
   ]
  },
  {
   "cell_type": "markdown",
   "metadata": {},
   "source": [
    " "
   ]
  },
  {
   "cell_type": "markdown",
   "metadata": {},
   "source": [
    " "
   ]
  },
  {
   "cell_type": "markdown",
   "metadata": {},
   "source": [
    "**LOADING THE DATA**"
   ]
  },
  {
   "cell_type": "code",
   "execution_count": null,
   "metadata": {},
   "outputs": [],
   "source": [
    "dataBin = pd.read_csv('train.csv')"
   ]
  },
  {
   "cell_type": "code",
   "execution_count": null,
   "metadata": {},
   "outputs": [],
   "source": [
    "dataBin.head(5)"
   ]
  },
  {
   "cell_type": "markdown",
   "metadata": {},
   "source": [
    " "
   ]
  },
  {
   "cell_type": "markdown",
   "metadata": {},
   "source": [
    " "
   ]
  },
  {
   "cell_type": "markdown",
   "metadata": {},
   "source": [
    " "
   ]
  },
  {
   "cell_type": "markdown",
   "metadata": {},
   "source": [
    " "
   ]
  },
  {
   "cell_type": "markdown",
   "metadata": {},
   "source": [
    "**CREATING THE TEST SAMPLES FOR TRAINING**"
   ]
  },
  {
   "cell_type": "markdown",
   "metadata": {},
   "source": [
    "Because the dataset is not balanced, I thought of only taking 10000 entries from each rating"
   ]
  },
  {
   "cell_type": "code",
   "execution_count": null,
   "metadata": {},
   "outputs": [],
   "source": [
    "toTrain = pd.DataFrame()"
   ]
  },
  {
   "cell_type": "code",
   "execution_count": null,
   "metadata": {},
   "outputs": [],
   "source": [
    "toTrain = dataBin[dataBin['rating'] == 1].sample(n=10000, replace=False, random_state=1)\n",
    "for i in range(2,6):\n",
    "    toTrain = pd.concat([toTrain, dataBin[dataBin['rating'] == i].sample(n=10000, replace=False, random_state=1)], axis=0)"
   ]
  },
  {
   "cell_type": "code",
   "execution_count": null,
   "metadata": {},
   "outputs": [],
   "source": [
    "toTrain"
   ]
  },
  {
   "cell_type": "markdown",
   "metadata": {},
   "source": [
    " "
   ]
  },
  {
   "cell_type": "markdown",
   "metadata": {},
   "source": [
    " "
   ]
  },
  {
   "cell_type": "markdown",
   "metadata": {},
   "source": [
    " "
   ]
  },
  {
   "cell_type": "markdown",
   "metadata": {},
   "source": [
    "**CREATING THE VECTORIZER THAT WILL PARSE THE WORDS INTO PROCESSIBLE VECTORS**"
   ]
  },
  {
   "cell_type": "code",
   "execution_count": null,
   "metadata": {},
   "outputs": [],
   "source": [
    "vectorizer = CountVectorizer()"
   ]
  },
  {
   "cell_type": "markdown",
   "metadata": {},
   "source": [
    " "
   ]
  },
  {
   "cell_type": "markdown",
   "metadata": {},
   "source": [
    " "
   ]
  },
  {
   "cell_type": "markdown",
   "metadata": {},
   "source": [
    " "
   ]
  },
  {
   "cell_type": "markdown",
   "metadata": {},
   "source": [
    "**FUNCTIONS THAT WILL TRAIN THE MODEL**"
   ]
  },
  {
   "cell_type": "markdown",
   "metadata": {},
   "source": [
    "I made spam detector previously, and shimity shems I go blind here"
   ]
  },
  {
   "cell_type": "markdown",
   "metadata": {},
   "source": [
    "I'll explain what each functions below do:\n",
    "- met_MachineModelScore => this scores the model like in kaggle\n",
    "- met_MachineModel => the one that trains the model\n",
    "- met_kFolding_MachineTest => what kfolding means is that the dataset will be folded into N groups, and the test database will be tested to these five groups individually. model will be trained N times.\n"
   ]
  },
  {
   "cell_type": "code",
   "execution_count": null,
   "metadata": {},
   "outputs": [],
   "source": [
    "def met_MachineModelScore(model, X_train, y_train, X_test, y_test):\n",
    "            model.fit(X_train, y_train)\n",
    "            return model.score(X_test, y_test)"
   ]
  },
  {
   "cell_type": "code",
   "execution_count": null,
   "metadata": {},
   "outputs": [],
   "source": [
    "def met_MachineModel(model, X_train, y_train):\n",
    "        x = model.fit(X_train, y_train)\n",
    "        return x"
   ]
  },
  {
   "cell_type": "code",
   "execution_count": null,
   "metadata": {},
   "outputs": [],
   "source": [
    "def met_kFolding_MachineTest(X_set, y_set, model = [], k_splits = 4, shuf = False ,ret_val = 'Scores'):\n",
    "\n",
    "        folder = KFold(n_splits=k_splits, shuffle=shuf)\n",
    "\n",
    "        model_Score = dict()\n",
    "        model_Machine = dict()\n",
    "\n",
    "        for mod in model:\n",
    "            model_Score[mod.__class__.__name__] = []\n",
    "            model_Machine[mod.__class__.__name__] = mod\n",
    "\n",
    "        for train_i, test_i in folder.split(X_set, y_set):\n",
    "            X_train, X_test, y_train, y_test = X_set[train_i], X_set[test_i], y_set[train_i], y_set[test_i]\n",
    "\n",
    "            print(\"Train Size: \", len(y_train), \" Test Size:\",len(y_test))\n",
    "\n",
    "            for mod in model:\n",
    "\n",
    "                model_Machine[mod.__class__.__name__] = (met_MachineModel(model_Machine[mod.__class__.__name__], X_train, y_train))\n",
    "                model_Score[mod.__class__.__name__].append(met_MachineModelScore(model_Machine[mod.__class__.__name__], X_train, y_train, X_test, y_test))\n",
    "\n",
    "        print()\n",
    "\n",
    "        if (ret_val == 'Scores'):\n",
    "            return model_Score\n",
    "        elif (ret_val == 'Models'):\n",
    "            return model_Machine\n",
    "        elif (ret_val == 'All'):\n",
    "            return model_Score, model_Machine"
   ]
  },
  {
   "cell_type": "markdown",
   "metadata": {},
   "source": [
    " "
   ]
  },
  {
   "cell_type": "markdown",
   "metadata": {},
   "source": [
    " "
   ]
  },
  {
   "cell_type": "markdown",
   "metadata": {},
   "source": [
    "Before passing the test database into the trainer, you must vectoriz it. Fit_transform does everything"
   ]
  },
  {
   "cell_type": "code",
   "execution_count": null,
   "metadata": {},
   "outputs": [],
   "source": [
    "X_train_cv = vectorizer.fit_transform(dataBin.review)"
   ]
  },
  {
   "cell_type": "code",
   "execution_count": null,
   "metadata": {},
   "outputs": [],
   "source": [
    "mod_Score, mod_Data = met_kFolding_MachineTest(X_train_cv, dataBin.rating, [MultinomialNB()], k_splits = 5, shuf=True, ret_val = 'All')\n",
    "\n",
    "for key in mod_Score:\n",
    "    print(key)\n",
    "    print(mod_Score[key])\n",
    "\n",
    "print()\n",
    "\n",
    "for keys in mod_Data:\n",
    "    print(keys,\" : \", mod_Data[keys].score(X_train_cv, dataBin.rating))"
   ]
  },
  {
   "cell_type": "markdown",
   "metadata": {},
   "source": [
    " "
   ]
  },
  {
   "cell_type": "markdown",
   "metadata": {},
   "source": [
    " "
   ]
  },
  {
   "cell_type": "markdown",
   "metadata": {},
   "source": [
    " "
   ]
  },
  {
   "cell_type": "markdown",
   "metadata": {},
   "source": [
    "**PREDICTING THE CSV TO BE PASSED**"
   ]
  },
  {
   "cell_type": "code",
   "execution_count": null,
   "metadata": {},
   "outputs": [],
   "source": [
    "toPredict = pd.read_csv('test.csv')"
   ]
  },
  {
   "cell_type": "code",
   "execution_count": null,
   "metadata": {},
   "outputs": [],
   "source": [
    "toPredict"
   ]
  },
  {
   "cell_type": "code",
   "execution_count": null,
   "metadata": {},
   "outputs": [],
   "source": [
    "toPredictVector = vectorizer.transform(toPredict.review)"
   ]
  },
  {
   "cell_type": "code",
   "execution_count": null,
   "metadata": {},
   "outputs": [],
   "source": [
    "toPredict['rating'] = model.predict(toPredictVector)"
   ]
  },
  {
   "cell_type": "code",
   "execution_count": null,
   "metadata": {},
   "outputs": [],
   "source": [
    "toPredict"
   ]
  },
  {
   "cell_type": "code",
   "execution_count": null,
   "metadata": {},
   "outputs": [],
   "source": [
    "toPredict = toPredict.drop(columns=['review'])\n",
    "toPredict"
   ]
  },
  {
   "cell_type": "code",
   "execution_count": null,
   "metadata": {},
   "outputs": [],
   "source": [
    "toPredict.to_csv(\"toPass.csv\", index=False)"
   ]
  }
 ],
 "metadata": {
  "kernelspec": {
   "display_name": "Python 3",
   "language": "python",
   "name": "python3"
  },
  "language_info": {
   "codemirror_mode": {
    "name": "ipython",
    "version": 3
   },
   "file_extension": ".py",
   "mimetype": "text/x-python",
   "name": "python",
   "nbconvert_exporter": "python",
   "pygments_lexer": "ipython3",
   "version": "3.7.0"
  }
 },
 "nbformat": 4,
 "nbformat_minor": 4
}
